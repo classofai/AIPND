{
  "nbformat": 4,
  "nbformat_minor": 0,
  "metadata": {
    "colab": {
      "name": "Pandas.ipynb",
      "version": "0.3.2",
      "provenance": [],
      "include_colab_link": true
    },
    "kernelspec": {
      "name": "python3",
      "display_name": "Python 3"
    },
    "accelerator": "TPU"
  },
  "cells": [
    {
      "cell_type": "markdown",
      "metadata": {
        "id": "view-in-github",
        "colab_type": "text"
      },
      "source": [
        "<a href=\"https://colab.research.google.com/github/classofai/AIPND/blob/master/Pandas/Pandas.ipynb\" target=\"_parent\"><img src=\"https://colab.research.google.com/assets/colab-badge.svg\" alt=\"Open In Colab\"/></a>"
      ]
    },
    {
      "metadata": {
        "id": "S4Fu2cwpi4cM",
        "colab_type": "code",
        "colab": {}
      },
      "cell_type": "code",
      "source": [
        "import pandas as pd\n"
      ],
      "execution_count": 0,
      "outputs": []
    },
    {
      "metadata": {
        "id": "jLzYYJKojqJr",
        "colab_type": "code",
        "outputId": "eab5e7a5-584f-4936-b1c8-b31b7844d109",
        "colab": {
          "base_uri": "https://localhost:8080/",
          "height": 104
        }
      },
      "cell_type": "code",
      "source": [
        "# We import Pandas as pd into Python\n",
        "import pandas as pd\n",
        "\n",
        "# We create a Pandas Series that stores a grocery list\n",
        "groceries = pd.Series(data = [30, 6, 'Yes', 'No'], index = ['eggs', 'apples', 'milk', 'bread'])\n",
        "\n",
        "# We display the Groceries Pandas Series\n",
        "groceries"
      ],
      "execution_count": 0,
      "outputs": [
        {
          "output_type": "execute_result",
          "data": {
            "text/plain": [
              "eggs       30\n",
              "apples      6\n",
              "milk      Yes\n",
              "bread      No\n",
              "dtype: object"
            ]
          },
          "metadata": {
            "tags": []
          },
          "execution_count": 50
        }
      ]
    },
    {
      "metadata": {
        "id": "JsgQnWN4kF0K",
        "colab_type": "code",
        "outputId": "51f8e186-c606-4aba-8965-96ce0c27d4d9",
        "colab": {
          "base_uri": "https://localhost:8080/",
          "height": 69
        }
      },
      "cell_type": "code",
      "source": [
        "# We print some information about Groceries\n",
        "print('Groceries has shape:', groceries.shape)\n",
        "print('Groceries has dimension:', groceries.ndim)\n",
        "print('Groceries has a total of', groceries.size, 'elements')"
      ],
      "execution_count": 0,
      "outputs": [
        {
          "output_type": "stream",
          "text": [
            "Groceries has shape: (4,)\n",
            "Groceries has dimension: 1\n",
            "Groceries has a total of 4 elements\n"
          ],
          "name": "stdout"
        }
      ]
    },
    {
      "metadata": {
        "id": "MPdCVunWkZ84",
        "colab_type": "code",
        "outputId": "68dd0072-575b-4079-d792-ef51b37c16f8",
        "colab": {
          "base_uri": "https://localhost:8080/",
          "height": 52
        }
      },
      "cell_type": "code",
      "source": [
        "# We print the index and data of Groceries\n",
        "print('The data in Groceries is:', groceries.values)\n",
        "print('The index of Groceries is:', groceries.index)"
      ],
      "execution_count": 0,
      "outputs": [
        {
          "output_type": "stream",
          "text": [
            "The data in Groceries is: [30 6 'Yes' 'No']\n",
            "The index of Groceries is: Index(['eggs', 'apples', 'milk', 'bread'], dtype='object')\n"
          ],
          "name": "stdout"
        }
      ]
    },
    {
      "metadata": {
        "id": "MRVwTSgyk2jq",
        "colab_type": "code",
        "outputId": "b22b8a6f-5683-48d4-ec24-b0a3fe27e4ce",
        "colab": {
          "base_uri": "https://localhost:8080/",
          "height": 52
        }
      },
      "cell_type": "code",
      "source": [
        "# We check whether bananas is a food item (an index) in Groceries\n",
        "x = 'bananas' in groceries\n",
        "\n",
        "# We check whether bread is a food item (an index) in Groceries\n",
        "y = 'bread' in groceries\n",
        "\n",
        "# We print the results\n",
        "print('Is bananas an index label in Groceries:', x)\n",
        "print('Is bread an index label in Groceries:', y)\n"
      ],
      "execution_count": 0,
      "outputs": [
        {
          "output_type": "stream",
          "text": [
            "Is bananas an index label in Groceries: False\n",
            "Is bread an index label in Groceries: True\n"
          ],
          "name": "stdout"
        }
      ]
    },
    {
      "metadata": {
        "id": "hVZqnkRUlDRu",
        "colab_type": "code",
        "outputId": "bad97a82-6717-4406-802e-f2ff43826540",
        "colab": {
          "base_uri": "https://localhost:8080/",
          "height": 485
        }
      },
      "cell_type": "code",
      "source": [
        "# We access elements in Groceries using index labels:\n",
        "\n",
        "# We use a single index label\n",
        "print('How many eggs do we need to buy:', groceries['eggs'])\n",
        "print()\n",
        "\n",
        "# we can access multiple index labels\n",
        "print('Do we need milk and bread:\\n', groceries[['milk', 'bread']]) \n",
        "print()\n",
        "\n",
        "# we use loc to access multiple index labels\n",
        "print('How many eggs and apples do we need to buy:\\n', groceries.loc[['eggs', 'apples']]) \n",
        "print()\n",
        "\n",
        "# We access elements in Groceries using numerical indices:\n",
        "\n",
        "# we use multiple numerical indices\n",
        "print('How many eggs and apples do we need to buy:\\n',  groceries[[0, 1]]) \n",
        "print()\n",
        "\n",
        "# We use a negative numerical index\n",
        "print('Do we need bread:\\n', groceries[[-1]]) \n",
        "print()\n",
        "\n",
        "# We use a single numerical index\n",
        "print('How many eggs do we need to buy:', groceries[0]) \n",
        "print()\n",
        "# we use iloc to access multiple numerical indices\n",
        "print('Do we need milk and bread:\\n', groceries.iloc[[2, 3]]) "
      ],
      "execution_count": 0,
      "outputs": [
        {
          "output_type": "stream",
          "text": [
            "How many eggs do we need to buy: 30\n",
            "\n",
            "Do we need milk and bread:\n",
            " milk     Yes\n",
            "bread     No\n",
            "dtype: object\n",
            "\n",
            "How many eggs and apples do we need to buy:\n",
            " eggs      30\n",
            "apples     6\n",
            "dtype: object\n",
            "\n",
            "How many eggs and apples do we need to buy:\n",
            " eggs      30\n",
            "apples     6\n",
            "dtype: object\n",
            "\n",
            "Do we need bread:\n",
            " bread    No\n",
            "dtype: object\n",
            "\n",
            "How many eggs do we need to buy: 30\n",
            "\n",
            "Do we need milk and bread:\n",
            " milk     Yes\n",
            "bread     No\n",
            "dtype: object\n"
          ],
          "name": "stdout"
        }
      ]
    },
    {
      "metadata": {
        "id": "gAZiJ4t0lfsp",
        "colab_type": "code",
        "outputId": "0fba5df0-e981-4542-a137-c1c6b23ad1ab",
        "colab": {
          "base_uri": "https://localhost:8080/",
          "height": 243
        }
      },
      "cell_type": "code",
      "source": [
        "# We display the original grocery list\n",
        "print('Original Grocery List:\\n', groceries)\n",
        "\n",
        "# We change the number of eggs to 2\n",
        "groceries['eggs'] = 2\n",
        "\n",
        "# We display the changed grocery list\n",
        "print()\n",
        "print('Modified Grocery List:\\n', groceries)"
      ],
      "execution_count": 0,
      "outputs": [
        {
          "output_type": "stream",
          "text": [
            "Original Grocery List:\n",
            " eggs       30\n",
            "apples      6\n",
            "milk      Yes\n",
            "bread      No\n",
            "dtype: object\n",
            "\n",
            "Modified Grocery List:\n",
            " eggs        2\n",
            "apples      6\n",
            "milk      Yes\n",
            "bread      No\n",
            "dtype: object\n"
          ],
          "name": "stdout"
        }
      ]
    },
    {
      "metadata": {
        "id": "36SBRsxknBp2",
        "colab_type": "code",
        "outputId": "6c8355ad-581f-462a-bb6a-1361ceb56f37",
        "colab": {
          "base_uri": "https://localhost:8080/",
          "height": 347
        }
      },
      "cell_type": "code",
      "source": [
        "# We display the original grocery list\n",
        "print('Original Grocery List:\\n', groceries)\n",
        "\n",
        "# We remove apples from our grocery list. The drop function removes elements out of place\n",
        "print()\n",
        "print('We remove apples (out of place):\\n', groceries.drop('apples'))\n",
        "\n",
        "# When we remove elements out of place the original Series remains intact. To see this\n",
        "# we display our grocery list again\n",
        "print()\n",
        "print('Grocery List after removing apples out of place:\\n', groceries)"
      ],
      "execution_count": 0,
      "outputs": [
        {
          "output_type": "stream",
          "text": [
            "Original Grocery List:\n",
            " eggs        2\n",
            "apples      6\n",
            "milk      Yes\n",
            "bread      No\n",
            "dtype: object\n",
            "\n",
            "We remove apples (out of place):\n",
            " eggs       2\n",
            "milk     Yes\n",
            "bread     No\n",
            "dtype: object\n",
            "\n",
            "Grocery List after removing apples out of place:\n",
            " eggs        2\n",
            "apples      6\n",
            "milk      Yes\n",
            "bread      No\n",
            "dtype: object\n"
          ],
          "name": "stdout"
        }
      ]
    },
    {
      "metadata": {
        "id": "9CxuaEfHnNuv",
        "colab_type": "code",
        "outputId": "600a3281-a6ba-4e72-9635-aebf4424b21c",
        "colab": {
          "base_uri": "https://localhost:8080/",
          "height": 225
        }
      },
      "cell_type": "code",
      "source": [
        "# We display the original grocery list\n",
        "print('Original Grocery List:\\n', groceries)\n",
        "\n",
        "# We remove apples from our grocery list in place by setting the inplace keyword to True\n",
        "groceries.drop('apples', inplace = True)\n",
        "\n",
        "# When we remove elements in place the original Series its modified. To see this\n",
        "# we display our grocery list again\n",
        "print()\n",
        "print('Grocery List after removing apples in place:\\n', groceries)"
      ],
      "execution_count": 0,
      "outputs": [
        {
          "output_type": "stream",
          "text": [
            "Original Grocery List:\n",
            " eggs        2\n",
            "apples      6\n",
            "milk      Yes\n",
            "bread      No\n",
            "dtype: object\n",
            "\n",
            "Grocery List after removing apples in place:\n",
            " eggs       2\n",
            "milk     Yes\n",
            "bread     No\n",
            "dtype: object\n"
          ],
          "name": "stdout"
        }
      ]
    },
    {
      "metadata": {
        "id": "xecaCRUMog7T",
        "colab_type": "code",
        "outputId": "4e1b6dbc-db58-4cee-e925-fa5cd2bf1a6b",
        "colab": {
          "base_uri": "https://localhost:8080/",
          "height": 87
        }
      },
      "cell_type": "code",
      "source": [
        "# We create a Pandas Series that stores a grocery list of just fruits\n",
        "fruits= pd.Series(data = [10, 6, 3,], index = ['apples', 'oranges', 'bananas'])\n",
        "\n",
        "# We display the fruits Pandas Series\n",
        "fruits"
      ],
      "execution_count": 0,
      "outputs": [
        {
          "output_type": "execute_result",
          "data": {
            "text/plain": [
              "apples     10\n",
              "oranges     6\n",
              "bananas     3\n",
              "dtype: int64"
            ]
          },
          "metadata": {
            "tags": []
          },
          "execution_count": 58
        }
      ]
    },
    {
      "metadata": {
        "id": "GyUqSw7GoxAW",
        "colab_type": "code",
        "outputId": "26609ba9-7582-4f78-d2bc-d9d7c1ca0737",
        "colab": {
          "base_uri": "https://localhost:8080/",
          "height": 537
        }
      },
      "cell_type": "code",
      "source": [
        "# We print fruits for reference\n",
        "print('Original grocery list of fruits:\\n ', fruits)\n",
        "\n",
        "# We perform basic element-wise operations using arithmetic symbols\n",
        "print(\"\")\n",
        "print('fruits + 2:\\n', fruits + 2) # We add 2 to each item in fruits\n",
        "print(\"\")\n",
        "print('fruits - 2:\\n', fruits - 2) # We subtract 2 to each item in fruits\n",
        "print(\"\")\n",
        "print('fruits * 2:\\n', fruits * 2) # We multiply each item in fruits by 2 \n",
        "print(\"\")\n",
        "print('fruits / 2:\\n', fruits / 2) # We divide each item in fruits by 2\n",
        "print(\"\")\n"
      ],
      "execution_count": 0,
      "outputs": [
        {
          "output_type": "stream",
          "text": [
            "Original grocery list of fruits:\n",
            "  apples     10\n",
            "oranges     6\n",
            "bananas     3\n",
            "dtype: int64\n",
            "\n",
            "fruits + 2:\n",
            " apples     12\n",
            "oranges     8\n",
            "bananas     5\n",
            "dtype: int64\n",
            "\n",
            "fruits - 2:\n",
            " apples     8\n",
            "oranges    4\n",
            "bananas    1\n",
            "dtype: int64\n",
            "\n",
            "fruits * 2:\n",
            " apples     20\n",
            "oranges    12\n",
            "bananas     6\n",
            "dtype: int64\n",
            "\n",
            "fruits / 2:\n",
            " apples     5.0\n",
            "oranges    3.0\n",
            "bananas    1.5\n",
            "dtype: float64\n",
            "\n"
          ],
          "name": "stdout"
        }
      ]
    },
    {
      "metadata": {
        "id": "UwyjnRbppLqX",
        "colab_type": "code",
        "outputId": "37644157-3cb1-4ddd-a570-106f5280bfd3",
        "colab": {
          "base_uri": "https://localhost:8080/",
          "height": 416
        }
      },
      "cell_type": "code",
      "source": [
        "# We import NumPy as np to be able to use the mathematical functions\n",
        "import numpy as np\n",
        "\n",
        "# We print fruits for reference\n",
        "print('Original grocery list of fruits:\\n', fruits)\n",
        "\n",
        "# We apply different mathematical functions to all elements of fruits\n",
        "print(\"\")\n",
        "print('EXP(X) = \\n', np.exp(fruits))\n",
        "print(\"\")\n",
        "print('SQRT(X) =\\n', np.sqrt(fruits))\n",
        "print(\"\")\n",
        "print('POW(X,2) =\\n',np.power(fruits,2)) # We raise all elements of fruits to the power of 2"
      ],
      "execution_count": 0,
      "outputs": [
        {
          "output_type": "stream",
          "text": [
            "Original grocery list of fruits:\n",
            " apples     10\n",
            "oranges     6\n",
            "bananas     3\n",
            "dtype: int64\n",
            "\n",
            "EXP(X) = \n",
            " apples     22026.465795\n",
            "oranges      403.428793\n",
            "bananas       20.085537\n",
            "dtype: float64\n",
            "\n",
            "SQRT(X) =\n",
            " apples     3.162278\n",
            "oranges    2.449490\n",
            "bananas    1.732051\n",
            "dtype: float64\n",
            "\n",
            "POW(X,2) =\n",
            " apples     100\n",
            "oranges     36\n",
            "bananas      9\n",
            "dtype: int64\n"
          ],
          "name": "stdout"
        }
      ]
    },
    {
      "metadata": {
        "id": "ELYNY1abqGt7",
        "colab_type": "code",
        "outputId": "419f81b2-2217-440b-a39b-da1c91bb7f0d",
        "colab": {
          "base_uri": "https://localhost:8080/",
          "height": 347
        }
      },
      "cell_type": "code",
      "source": [
        "# We print fruits for reference\n",
        "print('Original grocery list of fruits:\\n ', fruits)\n",
        "print(\"\")\n",
        "\n",
        "# We add 2 only to the bananas\n",
        "print('Amount of bananas + 2 = ', fruits['bananas'] + 2)\n",
        "print(\"\")\n",
        "\n",
        "# We subtract 2 from apples\n",
        "print('Amount of apples - 2 = ', fruits.iloc[0] - 2)\n",
        "print(\"\")\n",
        "\n",
        "# We multiply apples and oranges by 2\n",
        "print('We double the amount of apples and oranges:\\n', fruits[['apples', 'oranges']] * 2)\n",
        "print(\"\")\n",
        "\n",
        "# We divide apples and oranges by 2\n",
        "print('We half the amount of apples and oranges:\\n', fruits.loc[['apples', 'oranges']] / 2)"
      ],
      "execution_count": 0,
      "outputs": [
        {
          "output_type": "stream",
          "text": [
            "Original grocery list of fruits:\n",
            "  apples     10\n",
            "oranges     6\n",
            "bananas     3\n",
            "dtype: int64\n",
            "\n",
            "Amount of bananas + 2 =  5\n",
            "\n",
            "Amount of apples - 2 =  8\n",
            "\n",
            "We double the amount of apples and oranges:\n",
            " apples     20\n",
            "oranges    12\n",
            "dtype: int64\n",
            "\n",
            "We half the amount of apples and oranges:\n",
            " apples     5.0\n",
            "oranges    3.0\n",
            "dtype: float64\n"
          ],
          "name": "stdout"
        }
      ]
    },
    {
      "metadata": {
        "id": "havvbpWkqxlA",
        "colab_type": "code",
        "outputId": "44b93893-a2cb-4463-ad29-464e5dee6d7f",
        "colab": {
          "base_uri": "https://localhost:8080/",
          "height": 87
        }
      },
      "cell_type": "code",
      "source": [
        "# We multiply our grocery list by 2\n",
        "groceries * 2"
      ],
      "execution_count": 0,
      "outputs": [
        {
          "output_type": "execute_result",
          "data": {
            "text/plain": [
              "eggs          4\n",
              "milk     YesYes\n",
              "bread      NoNo\n",
              "dtype: object"
            ]
          },
          "metadata": {
            "tags": []
          },
          "execution_count": 62
        }
      ]
    },
    {
      "metadata": {
        "id": "U3X210_isBH5",
        "colab_type": "code",
        "colab": {}
      },
      "cell_type": "code",
      "source": [
        "# import pandas as pd\n",
        "\n",
        "# # Create a Pandas Series that contains the distance of some planets from the Sun.\n",
        "# # Use the name of the planets as the index to your Pandas Series, and the distance\n",
        "# # from the Sun as your data. The distance from the Sun is in units of 10^6 km\n",
        "\n",
        "# distance_from_sun = [149.6, 1433.5, 227.9, 108.2, 778.6]\n",
        "\n",
        "# planets = ['Earth','Saturn', 'Mars','Venus', 'Jupiter']\n",
        "\n",
        "# # Create a Pandas Series using the above data, with the name of the planets as\n",
        "# # the index and the distance from the Sun as your data.\n",
        "# dist_planets = \n",
        "\n",
        "# # Calculate the number of minutes it takes sunlight to reach each planet. You can\n",
        "# # do this by dividing the distance from the Sun for each planet by the speed of light.\n",
        "# # Since in the data above the distance from the Sun is in units of 10^6 km, you can\n",
        "# # use a value for the speed of light of c = 18, since light travels 18 x 10^6 km/minute.\n",
        "# time_light = \n",
        "\n",
        "# # Use Boolean indexing to select only those planets for which sunlight takes less\n",
        "# # than 40 minutes to reach them.\n",
        "# close_planets = "
      ],
      "execution_count": 0,
      "outputs": []
    },
    {
      "metadata": {
        "id": "oPpyjDEksSkc",
        "colab_type": "code",
        "colab": {}
      },
      "cell_type": "code",
      "source": [
        "import pandas as pd\n",
        "\n",
        "distance_from_sun = [149.6, 1433.5, 227.9, 108.2, 778.6]\n",
        "\n",
        "planets = ['Earth','Saturn', 'Mars','Venus', 'Jupiter']\n",
        "\n",
        "dist_planets = pd.Series(data = distance_from_sun, index = planets)\n",
        "\n",
        "time_light = dist_planets / 18\n",
        "\n",
        "close_planets = time_light[time_light < 40]"
      ],
      "execution_count": 0,
      "outputs": []
    },
    {
      "metadata": {
        "id": "JlMxb2cPsViA",
        "colab_type": "code",
        "outputId": "1995a912-4d55-4f81-da56-016e3edd663d",
        "colab": {
          "base_uri": "https://localhost:8080/",
          "height": 35
        }
      },
      "cell_type": "code",
      "source": [
        "# We import Pandas as pd into Python\n",
        "import pandas as pd\n",
        "\n",
        "# We create a dictionary of Pandas Series \n",
        "items = {'Bob' : pd.Series(data = [245, 25, 55], index = ['bike', 'pants', 'watch']),\n",
        "         'Alice' : pd.Series(data = [40, 110, 500, 45], index = ['book', 'glasses', 'bike', 'pants'])}\n",
        "\n",
        "# We print the type of items to see that it is a dictionary\n",
        "print(type(items))"
      ],
      "execution_count": 0,
      "outputs": [
        {
          "output_type": "stream",
          "text": [
            "<class 'dict'>\n"
          ],
          "name": "stdout"
        }
      ]
    },
    {
      "metadata": {
        "id": "4mCYOk2Zsh4V",
        "colab_type": "code",
        "outputId": "6cb5e884-046e-460a-b522-3d557fdc8915",
        "colab": {
          "base_uri": "https://localhost:8080/",
          "height": 202
        }
      },
      "cell_type": "code",
      "source": [
        "# We create a Pandas DataFrame by passing it a dictionary of Pandas Series\n",
        "shopping_carts = pd.DataFrame(items)\n",
        "\n",
        "# We display the DataFrame\n",
        "shopping_carts"
      ],
      "execution_count": 0,
      "outputs": [
        {
          "output_type": "execute_result",
          "data": {
            "text/html": [
              "<div>\n",
              "<style scoped>\n",
              "    .dataframe tbody tr th:only-of-type {\n",
              "        vertical-align: middle;\n",
              "    }\n",
              "\n",
              "    .dataframe tbody tr th {\n",
              "        vertical-align: top;\n",
              "    }\n",
              "\n",
              "    .dataframe thead th {\n",
              "        text-align: right;\n",
              "    }\n",
              "</style>\n",
              "<table border=\"1\" class=\"dataframe\">\n",
              "  <thead>\n",
              "    <tr style=\"text-align: right;\">\n",
              "      <th></th>\n",
              "      <th>Alice</th>\n",
              "      <th>Bob</th>\n",
              "    </tr>\n",
              "  </thead>\n",
              "  <tbody>\n",
              "    <tr>\n",
              "      <th>bike</th>\n",
              "      <td>500.0</td>\n",
              "      <td>245.0</td>\n",
              "    </tr>\n",
              "    <tr>\n",
              "      <th>book</th>\n",
              "      <td>40.0</td>\n",
              "      <td>NaN</td>\n",
              "    </tr>\n",
              "    <tr>\n",
              "      <th>glasses</th>\n",
              "      <td>110.0</td>\n",
              "      <td>NaN</td>\n",
              "    </tr>\n",
              "    <tr>\n",
              "      <th>pants</th>\n",
              "      <td>45.0</td>\n",
              "      <td>25.0</td>\n",
              "    </tr>\n",
              "    <tr>\n",
              "      <th>watch</th>\n",
              "      <td>NaN</td>\n",
              "      <td>55.0</td>\n",
              "    </tr>\n",
              "  </tbody>\n",
              "</table>\n",
              "</div>"
            ],
            "text/plain": [
              "         Alice    Bob\n",
              "bike     500.0  245.0\n",
              "book      40.0    NaN\n",
              "glasses  110.0    NaN\n",
              "pants     45.0   25.0\n",
              "watch      NaN   55.0"
            ]
          },
          "metadata": {
            "tags": []
          },
          "execution_count": 66
        }
      ]
    },
    {
      "metadata": {
        "id": "bgjpDgIes_zB",
        "colab_type": "code",
        "outputId": "ff450094-caf6-4b4a-e9b2-77070e00821c",
        "colab": {
          "base_uri": "https://localhost:8080/",
          "height": 171
        }
      },
      "cell_type": "code",
      "source": [
        "# We create a dictionary of Pandas Series without indexes\n",
        "data = {'Bob' : pd.Series([245, 25, 55]),\n",
        "        'Alice' : pd.Series([40, 110, 500, 45])}\n",
        "\n",
        "# We create a DataFrame\n",
        "df = pd.DataFrame(data)\n",
        "\n",
        "# We display the DataFrame\n",
        "df\n"
      ],
      "execution_count": 0,
      "outputs": [
        {
          "output_type": "execute_result",
          "data": {
            "text/html": [
              "<div>\n",
              "<style scoped>\n",
              "    .dataframe tbody tr th:only-of-type {\n",
              "        vertical-align: middle;\n",
              "    }\n",
              "\n",
              "    .dataframe tbody tr th {\n",
              "        vertical-align: top;\n",
              "    }\n",
              "\n",
              "    .dataframe thead th {\n",
              "        text-align: right;\n",
              "    }\n",
              "</style>\n",
              "<table border=\"1\" class=\"dataframe\">\n",
              "  <thead>\n",
              "    <tr style=\"text-align: right;\">\n",
              "      <th></th>\n",
              "      <th>Alice</th>\n",
              "      <th>Bob</th>\n",
              "    </tr>\n",
              "  </thead>\n",
              "  <tbody>\n",
              "    <tr>\n",
              "      <th>0</th>\n",
              "      <td>40</td>\n",
              "      <td>245.0</td>\n",
              "    </tr>\n",
              "    <tr>\n",
              "      <th>1</th>\n",
              "      <td>110</td>\n",
              "      <td>25.0</td>\n",
              "    </tr>\n",
              "    <tr>\n",
              "      <th>2</th>\n",
              "      <td>500</td>\n",
              "      <td>55.0</td>\n",
              "    </tr>\n",
              "    <tr>\n",
              "      <th>3</th>\n",
              "      <td>45</td>\n",
              "      <td>NaN</td>\n",
              "    </tr>\n",
              "  </tbody>\n",
              "</table>\n",
              "</div>"
            ],
            "text/plain": [
              "   Alice    Bob\n",
              "0     40  245.0\n",
              "1    110   25.0\n",
              "2    500   55.0\n",
              "3     45    NaN"
            ]
          },
          "metadata": {
            "tags": []
          },
          "execution_count": 67
        }
      ]
    },
    {
      "metadata": {
        "id": "-Fj0NoAotLid",
        "colab_type": "code",
        "outputId": "5538e598-5654-4a52-ce0d-02c099c3f1a2",
        "colab": {
          "base_uri": "https://localhost:8080/",
          "height": 260
        }
      },
      "cell_type": "code",
      "source": [
        "# We print some information about shopping_carts\n",
        "print('shopping_carts has shape:', shopping_carts.shape)\n",
        "print('shopping_carts has dimension:', shopping_carts.ndim)\n",
        "print('shopping_carts has a total of:', shopping_carts.size, 'elements')\n",
        "print(\"\")\n",
        "print('The data in shopping_carts is:\\n', shopping_carts.values)\n",
        "print(\"\")\n",
        "print('The row index in shopping_carts is:', shopping_carts.index)\n",
        "print(\"\")\n",
        "print('The column index in shopping_carts is:', shopping_carts.columns)"
      ],
      "execution_count": 0,
      "outputs": [
        {
          "output_type": "stream",
          "text": [
            "shopping_carts has shape: (5, 2)\n",
            "shopping_carts has dimension: 2\n",
            "shopping_carts has a total of: 10 elements\n",
            "\n",
            "The data in shopping_carts is:\n",
            " [[500. 245.]\n",
            " [ 40.  nan]\n",
            " [110.  nan]\n",
            " [ 45.  25.]\n",
            " [ nan  55.]]\n",
            "\n",
            "The row index in shopping_carts is: Index(['bike', 'book', 'glasses', 'pants', 'watch'], dtype='object')\n",
            "\n",
            "The column index in shopping_carts is: Index(['Alice', 'Bob'], dtype='object')\n"
          ],
          "name": "stdout"
        }
      ]
    },
    {
      "metadata": {
        "id": "OmyXyNbVtUKK",
        "colab_type": "code",
        "outputId": "79fc8ad9-343c-4fce-88b2-36493b92771e",
        "colab": {
          "base_uri": "https://localhost:8080/",
          "height": 141
        }
      },
      "cell_type": "code",
      "source": [
        "# We Create a DataFrame that only has Bob's data\n",
        "bob_shopping_cart = pd.DataFrame(items, columns=['Bob'])\n",
        "\n",
        "# We display bob_shopping_cart\n",
        "bob_shopping_cart"
      ],
      "execution_count": 0,
      "outputs": [
        {
          "output_type": "execute_result",
          "data": {
            "text/html": [
              "<div>\n",
              "<style scoped>\n",
              "    .dataframe tbody tr th:only-of-type {\n",
              "        vertical-align: middle;\n",
              "    }\n",
              "\n",
              "    .dataframe tbody tr th {\n",
              "        vertical-align: top;\n",
              "    }\n",
              "\n",
              "    .dataframe thead th {\n",
              "        text-align: right;\n",
              "    }\n",
              "</style>\n",
              "<table border=\"1\" class=\"dataframe\">\n",
              "  <thead>\n",
              "    <tr style=\"text-align: right;\">\n",
              "      <th></th>\n",
              "      <th>Bob</th>\n",
              "    </tr>\n",
              "  </thead>\n",
              "  <tbody>\n",
              "    <tr>\n",
              "      <th>bike</th>\n",
              "      <td>245</td>\n",
              "    </tr>\n",
              "    <tr>\n",
              "      <th>pants</th>\n",
              "      <td>25</td>\n",
              "    </tr>\n",
              "    <tr>\n",
              "      <th>watch</th>\n",
              "      <td>55</td>\n",
              "    </tr>\n",
              "  </tbody>\n",
              "</table>\n",
              "</div>"
            ],
            "text/plain": [
              "       Bob\n",
              "bike   245\n",
              "pants   25\n",
              "watch   55"
            ]
          },
          "metadata": {
            "tags": []
          },
          "execution_count": 69
        }
      ]
    },
    {
      "metadata": {
        "id": "iN0Z-ysStxiB",
        "colab_type": "code",
        "outputId": "b824f018-e9ef-4473-881e-44627ddf1daf",
        "colab": {
          "base_uri": "https://localhost:8080/",
          "height": 110
        }
      },
      "cell_type": "code",
      "source": [
        "# We Create a DataFrame that only has selected items for both Alice and Bob\n",
        "sel_shopping_cart = pd.DataFrame(items, index = ['pants', 'book'])\n",
        "\n",
        "# We display sel_shopping_cart\n",
        "sel_shopping_cart"
      ],
      "execution_count": 0,
      "outputs": [
        {
          "output_type": "execute_result",
          "data": {
            "text/html": [
              "<div>\n",
              "<style scoped>\n",
              "    .dataframe tbody tr th:only-of-type {\n",
              "        vertical-align: middle;\n",
              "    }\n",
              "\n",
              "    .dataframe tbody tr th {\n",
              "        vertical-align: top;\n",
              "    }\n",
              "\n",
              "    .dataframe thead th {\n",
              "        text-align: right;\n",
              "    }\n",
              "</style>\n",
              "<table border=\"1\" class=\"dataframe\">\n",
              "  <thead>\n",
              "    <tr style=\"text-align: right;\">\n",
              "      <th></th>\n",
              "      <th>Alice</th>\n",
              "      <th>Bob</th>\n",
              "    </tr>\n",
              "  </thead>\n",
              "  <tbody>\n",
              "    <tr>\n",
              "      <th>pants</th>\n",
              "      <td>45</td>\n",
              "      <td>25.0</td>\n",
              "    </tr>\n",
              "    <tr>\n",
              "      <th>book</th>\n",
              "      <td>40</td>\n",
              "      <td>NaN</td>\n",
              "    </tr>\n",
              "  </tbody>\n",
              "</table>\n",
              "</div>"
            ],
            "text/plain": [
              "       Alice   Bob\n",
              "pants     45  25.0\n",
              "book      40   NaN"
            ]
          },
          "metadata": {
            "tags": []
          },
          "execution_count": 70
        }
      ]
    },
    {
      "metadata": {
        "id": "ghRuU36VumWc",
        "colab_type": "code",
        "outputId": "01a4d646-42ee-417c-c484-767fef4b3f27",
        "colab": {
          "base_uri": "https://localhost:8080/",
          "height": 110
        }
      },
      "cell_type": "code",
      "source": [
        "# We Create a DataFrame that only has selected items for Alice\n",
        "alice_sel_shopping_cart = pd.DataFrame(items, index = ['glasses', 'bike'], columns = ['Alice'])\n",
        "\n",
        "# We display alice_sel_shopping_cart\n",
        "alice_sel_shopping_cart"
      ],
      "execution_count": 0,
      "outputs": [
        {
          "output_type": "execute_result",
          "data": {
            "text/html": [
              "<div>\n",
              "<style scoped>\n",
              "    .dataframe tbody tr th:only-of-type {\n",
              "        vertical-align: middle;\n",
              "    }\n",
              "\n",
              "    .dataframe tbody tr th {\n",
              "        vertical-align: top;\n",
              "    }\n",
              "\n",
              "    .dataframe thead th {\n",
              "        text-align: right;\n",
              "    }\n",
              "</style>\n",
              "<table border=\"1\" class=\"dataframe\">\n",
              "  <thead>\n",
              "    <tr style=\"text-align: right;\">\n",
              "      <th></th>\n",
              "      <th>Alice</th>\n",
              "    </tr>\n",
              "  </thead>\n",
              "  <tbody>\n",
              "    <tr>\n",
              "      <th>glasses</th>\n",
              "      <td>110</td>\n",
              "    </tr>\n",
              "    <tr>\n",
              "      <th>bike</th>\n",
              "      <td>500</td>\n",
              "    </tr>\n",
              "  </tbody>\n",
              "</table>\n",
              "</div>"
            ],
            "text/plain": [
              "         Alice\n",
              "glasses    110\n",
              "bike       500"
            ]
          },
          "metadata": {
            "tags": []
          },
          "execution_count": 71
        }
      ]
    },
    {
      "metadata": {
        "id": "qXR9ntm6u1Px",
        "colab_type": "code",
        "outputId": "c26da1f8-8bab-42af-8466-ec479a1e9aa4",
        "colab": {
          "base_uri": "https://localhost:8080/",
          "height": 141
        }
      },
      "cell_type": "code",
      "source": [
        "# We create a dictionary of lists (arrays)\n",
        "data = {'Integers' : [1,2,3],\n",
        "        'Floats' : [4.5, 8.2, 9.6]}\n",
        "\n",
        "# We create a DataFrame \n",
        "df = pd.DataFrame(data)\n",
        "\n",
        "# We display the DataFrame\n",
        "df"
      ],
      "execution_count": 0,
      "outputs": [
        {
          "output_type": "execute_result",
          "data": {
            "text/html": [
              "<div>\n",
              "<style scoped>\n",
              "    .dataframe tbody tr th:only-of-type {\n",
              "        vertical-align: middle;\n",
              "    }\n",
              "\n",
              "    .dataframe tbody tr th {\n",
              "        vertical-align: top;\n",
              "    }\n",
              "\n",
              "    .dataframe thead th {\n",
              "        text-align: right;\n",
              "    }\n",
              "</style>\n",
              "<table border=\"1\" class=\"dataframe\">\n",
              "  <thead>\n",
              "    <tr style=\"text-align: right;\">\n",
              "      <th></th>\n",
              "      <th>Floats</th>\n",
              "      <th>Integers</th>\n",
              "    </tr>\n",
              "  </thead>\n",
              "  <tbody>\n",
              "    <tr>\n",
              "      <th>0</th>\n",
              "      <td>4.5</td>\n",
              "      <td>1</td>\n",
              "    </tr>\n",
              "    <tr>\n",
              "      <th>1</th>\n",
              "      <td>8.2</td>\n",
              "      <td>2</td>\n",
              "    </tr>\n",
              "    <tr>\n",
              "      <th>2</th>\n",
              "      <td>9.6</td>\n",
              "      <td>3</td>\n",
              "    </tr>\n",
              "  </tbody>\n",
              "</table>\n",
              "</div>"
            ],
            "text/plain": [
              "   Floats  Integers\n",
              "0     4.5         1\n",
              "1     8.2         2\n",
              "2     9.6         3"
            ]
          },
          "metadata": {
            "tags": []
          },
          "execution_count": 72
        }
      ]
    },
    {
      "metadata": {
        "id": "LaGxMMb0u8u8",
        "colab_type": "code",
        "outputId": "ffa419ac-9a6d-4e10-fc4a-d4520b554f04",
        "colab": {
          "base_uri": "https://localhost:8080/",
          "height": 141
        }
      },
      "cell_type": "code",
      "source": [
        "# We create a dictionary of lists (arrays)\n",
        "data = {'Integers' : [1,2,3],\n",
        "        'Floats' : [4.5, 8.2, 9.6]}\n",
        "\n",
        "# We create a DataFrame and provide the row index\n",
        "df = pd.DataFrame(data, index = ['label 1', 'label 2', 'label 3'])\n",
        "\n",
        "# We display the DataFrame\n",
        "df"
      ],
      "execution_count": 0,
      "outputs": [
        {
          "output_type": "execute_result",
          "data": {
            "text/html": [
              "<div>\n",
              "<style scoped>\n",
              "    .dataframe tbody tr th:only-of-type {\n",
              "        vertical-align: middle;\n",
              "    }\n",
              "\n",
              "    .dataframe tbody tr th {\n",
              "        vertical-align: top;\n",
              "    }\n",
              "\n",
              "    .dataframe thead th {\n",
              "        text-align: right;\n",
              "    }\n",
              "</style>\n",
              "<table border=\"1\" class=\"dataframe\">\n",
              "  <thead>\n",
              "    <tr style=\"text-align: right;\">\n",
              "      <th></th>\n",
              "      <th>Floats</th>\n",
              "      <th>Integers</th>\n",
              "    </tr>\n",
              "  </thead>\n",
              "  <tbody>\n",
              "    <tr>\n",
              "      <th>label 1</th>\n",
              "      <td>4.5</td>\n",
              "      <td>1</td>\n",
              "    </tr>\n",
              "    <tr>\n",
              "      <th>label 2</th>\n",
              "      <td>8.2</td>\n",
              "      <td>2</td>\n",
              "    </tr>\n",
              "    <tr>\n",
              "      <th>label 3</th>\n",
              "      <td>9.6</td>\n",
              "      <td>3</td>\n",
              "    </tr>\n",
              "  </tbody>\n",
              "</table>\n",
              "</div>"
            ],
            "text/plain": [
              "         Floats  Integers\n",
              "label 1     4.5         1\n",
              "label 2     8.2         2\n",
              "label 3     9.6         3"
            ]
          },
          "metadata": {
            "tags": []
          },
          "execution_count": 73
        }
      ]
    },
    {
      "metadata": {
        "id": "-xdbZ8OZvCxo",
        "colab_type": "code",
        "outputId": "89677f40-83a1-44a1-9d9f-4b1bcba21fc1",
        "colab": {
          "base_uri": "https://localhost:8080/",
          "height": 110
        }
      },
      "cell_type": "code",
      "source": [
        "# We create a list of Python dictionaries\n",
        "items2 = [{'bikes': 20, 'pants': 30, 'watches': 35}, \n",
        "          {'watches': 10, 'glasses': 50, 'bikes': 15, 'pants':5}]\n",
        "\n",
        "# We create a DataFrame \n",
        "store_items = pd.DataFrame(items2)\n",
        "\n",
        "# We display the DataFrame\n",
        "store_items"
      ],
      "execution_count": 0,
      "outputs": [
        {
          "output_type": "execute_result",
          "data": {
            "text/html": [
              "<div>\n",
              "<style scoped>\n",
              "    .dataframe tbody tr th:only-of-type {\n",
              "        vertical-align: middle;\n",
              "    }\n",
              "\n",
              "    .dataframe tbody tr th {\n",
              "        vertical-align: top;\n",
              "    }\n",
              "\n",
              "    .dataframe thead th {\n",
              "        text-align: right;\n",
              "    }\n",
              "</style>\n",
              "<table border=\"1\" class=\"dataframe\">\n",
              "  <thead>\n",
              "    <tr style=\"text-align: right;\">\n",
              "      <th></th>\n",
              "      <th>bikes</th>\n",
              "      <th>glasses</th>\n",
              "      <th>pants</th>\n",
              "      <th>watches</th>\n",
              "    </tr>\n",
              "  </thead>\n",
              "  <tbody>\n",
              "    <tr>\n",
              "      <th>0</th>\n",
              "      <td>20</td>\n",
              "      <td>NaN</td>\n",
              "      <td>30</td>\n",
              "      <td>35</td>\n",
              "    </tr>\n",
              "    <tr>\n",
              "      <th>1</th>\n",
              "      <td>15</td>\n",
              "      <td>50.0</td>\n",
              "      <td>5</td>\n",
              "      <td>10</td>\n",
              "    </tr>\n",
              "  </tbody>\n",
              "</table>\n",
              "</div>"
            ],
            "text/plain": [
              "   bikes  glasses  pants  watches\n",
              "0     20      NaN     30       35\n",
              "1     15     50.0      5       10"
            ]
          },
          "metadata": {
            "tags": []
          },
          "execution_count": 74
        }
      ]
    },
    {
      "metadata": {
        "id": "QmgiRZb9yLTe",
        "colab_type": "code",
        "outputId": "f3e98ecf-e848-44fc-d909-f0f1f29ea3d8",
        "colab": {
          "base_uri": "https://localhost:8080/",
          "height": 110
        }
      },
      "cell_type": "code",
      "source": [
        "# We create a list of Python dictionaries\n",
        "items2 = [{'bikes': 20, 'pants': 30, 'watches': 35}, \n",
        "          {'watches': 10, 'glasses': 50, 'bikes': 15, 'pants':5}]\n",
        "\n",
        "# We create a DataFrame \n",
        "store_items = pd.DataFrame(items2, index = ['store 1', 'store 2'])\n",
        "\n",
        "# We display the DataFrame\n",
        "store_items"
      ],
      "execution_count": 0,
      "outputs": [
        {
          "output_type": "execute_result",
          "data": {
            "text/html": [
              "<div>\n",
              "<style scoped>\n",
              "    .dataframe tbody tr th:only-of-type {\n",
              "        vertical-align: middle;\n",
              "    }\n",
              "\n",
              "    .dataframe tbody tr th {\n",
              "        vertical-align: top;\n",
              "    }\n",
              "\n",
              "    .dataframe thead th {\n",
              "        text-align: right;\n",
              "    }\n",
              "</style>\n",
              "<table border=\"1\" class=\"dataframe\">\n",
              "  <thead>\n",
              "    <tr style=\"text-align: right;\">\n",
              "      <th></th>\n",
              "      <th>bikes</th>\n",
              "      <th>glasses</th>\n",
              "      <th>pants</th>\n",
              "      <th>watches</th>\n",
              "    </tr>\n",
              "  </thead>\n",
              "  <tbody>\n",
              "    <tr>\n",
              "      <th>store 1</th>\n",
              "      <td>20</td>\n",
              "      <td>NaN</td>\n",
              "      <td>30</td>\n",
              "      <td>35</td>\n",
              "    </tr>\n",
              "    <tr>\n",
              "      <th>store 2</th>\n",
              "      <td>15</td>\n",
              "      <td>50.0</td>\n",
              "      <td>5</td>\n",
              "      <td>10</td>\n",
              "    </tr>\n",
              "  </tbody>\n",
              "</table>\n",
              "</div>"
            ],
            "text/plain": [
              "         bikes  glasses  pants  watches\n",
              "store 1     20      NaN     30       35\n",
              "store 2     15     50.0      5       10"
            ]
          },
          "metadata": {
            "tags": []
          },
          "execution_count": 75
        }
      ]
    },
    {
      "metadata": {
        "id": "uBPC7lomvy-6",
        "colab_type": "code",
        "outputId": "fb43c654-e66a-483e-eed8-f4a86a13ff9e",
        "colab": {
          "base_uri": "https://localhost:8080/",
          "height": 347
        }
      },
      "cell_type": "code",
      "source": [
        "# We print the store_items DataFrame\n",
        "print(store_items)\n",
        "\n",
        "# We access rows, columns and elements using labels\n",
        "print(\"\")\n",
        "print('How many bikes are in each store:\\n', store_items[['bikes']])\n",
        "print(\"\")\n",
        "print('How many bikes and pants are in each store:\\n', store_items[['bikes', 'pants']])\n",
        "print(\"\")\n",
        "print('What items are in Store 1:\\n', store_items.loc[['store 1']])\n",
        "print(\"\")\n",
        "print('How many bikes are in Store 2:', store_items['bikes']['store 2'])"
      ],
      "execution_count": 0,
      "outputs": [
        {
          "output_type": "stream",
          "text": [
            "         bikes  glasses  pants  watches\n",
            "store 1     20      NaN     30       35\n",
            "store 2     15     50.0      5       10\n",
            "\n",
            "How many bikes are in each store:\n",
            "          bikes\n",
            "store 1     20\n",
            "store 2     15\n",
            "\n",
            "How many bikes and pants are in each store:\n",
            "          bikes  pants\n",
            "store 1     20     30\n",
            "store 2     15      5\n",
            "\n",
            "What items are in Store 1:\n",
            "          bikes  glasses  pants  watches\n",
            "store 1     20      NaN     30       35\n",
            "\n",
            "How many bikes are in Store 2: 15\n"
          ],
          "name": "stdout"
        }
      ]
    },
    {
      "metadata": {
        "id": "JZoYyw0kwdsJ",
        "colab_type": "code",
        "outputId": "b0e0f17d-eeba-459f-9b57-5c4a0d09bba0",
        "colab": {
          "base_uri": "https://localhost:8080/",
          "height": 110
        }
      },
      "cell_type": "code",
      "source": [
        "# We add a new column named shirts to our store_items DataFrame indicating the number of\n",
        "# shirts in stock at each store. We will put 15 shirts in store 1 and 2 shirts in store 2\n",
        "store_items['shirts'] = [15,2]\n",
        "\n",
        "# We display the modified DataFrame\n",
        "store_items\n"
      ],
      "execution_count": 0,
      "outputs": [
        {
          "output_type": "execute_result",
          "data": {
            "text/html": [
              "<div>\n",
              "<style scoped>\n",
              "    .dataframe tbody tr th:only-of-type {\n",
              "        vertical-align: middle;\n",
              "    }\n",
              "\n",
              "    .dataframe tbody tr th {\n",
              "        vertical-align: top;\n",
              "    }\n",
              "\n",
              "    .dataframe thead th {\n",
              "        text-align: right;\n",
              "    }\n",
              "</style>\n",
              "<table border=\"1\" class=\"dataframe\">\n",
              "  <thead>\n",
              "    <tr style=\"text-align: right;\">\n",
              "      <th></th>\n",
              "      <th>bikes</th>\n",
              "      <th>glasses</th>\n",
              "      <th>pants</th>\n",
              "      <th>watches</th>\n",
              "      <th>shirts</th>\n",
              "    </tr>\n",
              "  </thead>\n",
              "  <tbody>\n",
              "    <tr>\n",
              "      <th>store 1</th>\n",
              "      <td>20</td>\n",
              "      <td>NaN</td>\n",
              "      <td>30</td>\n",
              "      <td>35</td>\n",
              "      <td>15</td>\n",
              "    </tr>\n",
              "    <tr>\n",
              "      <th>store 2</th>\n",
              "      <td>15</td>\n",
              "      <td>50.0</td>\n",
              "      <td>5</td>\n",
              "      <td>10</td>\n",
              "      <td>2</td>\n",
              "    </tr>\n",
              "  </tbody>\n",
              "</table>\n",
              "</div>"
            ],
            "text/plain": [
              "         bikes  glasses  pants  watches  shirts\n",
              "store 1     20      NaN     30       35      15\n",
              "store 2     15     50.0      5       10       2"
            ]
          },
          "metadata": {
            "tags": []
          },
          "execution_count": 77
        }
      ]
    },
    {
      "metadata": {
        "id": "WhYjA7lLy2LX",
        "colab_type": "code",
        "outputId": "8b177003-6d5c-4a89-9ab4-8bf66d0f9335",
        "colab": {
          "base_uri": "https://localhost:8080/",
          "height": 110
        }
      },
      "cell_type": "code",
      "source": [
        "# We make a new column called suits by adding the number of shirts and pants\n",
        "store_items['suits'] = store_items['pants'] + store_items['shirts']\n",
        "\n",
        "# We display the modified DataFrame\n",
        "store_items"
      ],
      "execution_count": 0,
      "outputs": [
        {
          "output_type": "execute_result",
          "data": {
            "text/html": [
              "<div>\n",
              "<style scoped>\n",
              "    .dataframe tbody tr th:only-of-type {\n",
              "        vertical-align: middle;\n",
              "    }\n",
              "\n",
              "    .dataframe tbody tr th {\n",
              "        vertical-align: top;\n",
              "    }\n",
              "\n",
              "    .dataframe thead th {\n",
              "        text-align: right;\n",
              "    }\n",
              "</style>\n",
              "<table border=\"1\" class=\"dataframe\">\n",
              "  <thead>\n",
              "    <tr style=\"text-align: right;\">\n",
              "      <th></th>\n",
              "      <th>bikes</th>\n",
              "      <th>glasses</th>\n",
              "      <th>pants</th>\n",
              "      <th>watches</th>\n",
              "      <th>shirts</th>\n",
              "      <th>suits</th>\n",
              "    </tr>\n",
              "  </thead>\n",
              "  <tbody>\n",
              "    <tr>\n",
              "      <th>store 1</th>\n",
              "      <td>20</td>\n",
              "      <td>NaN</td>\n",
              "      <td>30</td>\n",
              "      <td>35</td>\n",
              "      <td>15</td>\n",
              "      <td>45</td>\n",
              "    </tr>\n",
              "    <tr>\n",
              "      <th>store 2</th>\n",
              "      <td>15</td>\n",
              "      <td>50.0</td>\n",
              "      <td>5</td>\n",
              "      <td>10</td>\n",
              "      <td>2</td>\n",
              "      <td>7</td>\n",
              "    </tr>\n",
              "  </tbody>\n",
              "</table>\n",
              "</div>"
            ],
            "text/plain": [
              "         bikes  glasses  pants  watches  shirts  suits\n",
              "store 1     20      NaN     30       35      15     45\n",
              "store 2     15     50.0      5       10       2      7"
            ]
          },
          "metadata": {
            "tags": []
          },
          "execution_count": 78
        }
      ]
    },
    {
      "metadata": {
        "id": "5TZiz_zMzIZ6",
        "colab_type": "code",
        "outputId": "f842c3b0-6815-4aec-d746-9a88ae6b7fa3",
        "colab": {
          "base_uri": "https://localhost:8080/",
          "height": 79
        }
      },
      "cell_type": "code",
      "source": [
        "# We create a dictionary from a list of Python dictionaries that will number of items at the new store\n",
        "new_items = [{'bikes': 20, 'pants': 30, 'watches': 35, 'glasses': 4}]\n",
        "\n",
        "# We create new DataFrame with the new_items and provide and index labeled store 3\n",
        "new_store = pd.DataFrame(new_items, index = ['store 3'])\n",
        "\n",
        "# We display the items at the new store\n",
        "new_store"
      ],
      "execution_count": 0,
      "outputs": [
        {
          "output_type": "execute_result",
          "data": {
            "text/html": [
              "<div>\n",
              "<style scoped>\n",
              "    .dataframe tbody tr th:only-of-type {\n",
              "        vertical-align: middle;\n",
              "    }\n",
              "\n",
              "    .dataframe tbody tr th {\n",
              "        vertical-align: top;\n",
              "    }\n",
              "\n",
              "    .dataframe thead th {\n",
              "        text-align: right;\n",
              "    }\n",
              "</style>\n",
              "<table border=\"1\" class=\"dataframe\">\n",
              "  <thead>\n",
              "    <tr style=\"text-align: right;\">\n",
              "      <th></th>\n",
              "      <th>bikes</th>\n",
              "      <th>glasses</th>\n",
              "      <th>pants</th>\n",
              "      <th>watches</th>\n",
              "    </tr>\n",
              "  </thead>\n",
              "  <tbody>\n",
              "    <tr>\n",
              "      <th>store 3</th>\n",
              "      <td>20</td>\n",
              "      <td>4</td>\n",
              "      <td>30</td>\n",
              "      <td>35</td>\n",
              "    </tr>\n",
              "  </tbody>\n",
              "</table>\n",
              "</div>"
            ],
            "text/plain": [
              "         bikes  glasses  pants  watches\n",
              "store 3     20        4     30       35"
            ]
          },
          "metadata": {
            "tags": []
          },
          "execution_count": 79
        }
      ]
    },
    {
      "metadata": {
        "id": "BhW38e3EzdID",
        "colab_type": "code",
        "outputId": "73593d8d-c077-4bd0-e3d8-61f4b8c7815c",
        "colab": {
          "base_uri": "https://localhost:8080/",
          "height": 141
        }
      },
      "cell_type": "code",
      "source": [
        "# We append store 3 to our store_items DataFrame\n",
        "store_items = store_items.append(new_store)\n",
        "\n",
        "# We display the modified DataFrame\n",
        "store_items\n"
      ],
      "execution_count": 0,
      "outputs": [
        {
          "output_type": "execute_result",
          "data": {
            "text/html": [
              "<div>\n",
              "<style scoped>\n",
              "    .dataframe tbody tr th:only-of-type {\n",
              "        vertical-align: middle;\n",
              "    }\n",
              "\n",
              "    .dataframe tbody tr th {\n",
              "        vertical-align: top;\n",
              "    }\n",
              "\n",
              "    .dataframe thead th {\n",
              "        text-align: right;\n",
              "    }\n",
              "</style>\n",
              "<table border=\"1\" class=\"dataframe\">\n",
              "  <thead>\n",
              "    <tr style=\"text-align: right;\">\n",
              "      <th></th>\n",
              "      <th>bikes</th>\n",
              "      <th>glasses</th>\n",
              "      <th>pants</th>\n",
              "      <th>shirts</th>\n",
              "      <th>suits</th>\n",
              "      <th>watches</th>\n",
              "    </tr>\n",
              "  </thead>\n",
              "  <tbody>\n",
              "    <tr>\n",
              "      <th>store 1</th>\n",
              "      <td>20</td>\n",
              "      <td>NaN</td>\n",
              "      <td>30</td>\n",
              "      <td>15.0</td>\n",
              "      <td>45.0</td>\n",
              "      <td>35</td>\n",
              "    </tr>\n",
              "    <tr>\n",
              "      <th>store 2</th>\n",
              "      <td>15</td>\n",
              "      <td>50.0</td>\n",
              "      <td>5</td>\n",
              "      <td>2.0</td>\n",
              "      <td>7.0</td>\n",
              "      <td>10</td>\n",
              "    </tr>\n",
              "    <tr>\n",
              "      <th>store 3</th>\n",
              "      <td>20</td>\n",
              "      <td>4.0</td>\n",
              "      <td>30</td>\n",
              "      <td>NaN</td>\n",
              "      <td>NaN</td>\n",
              "      <td>35</td>\n",
              "    </tr>\n",
              "  </tbody>\n",
              "</table>\n",
              "</div>"
            ],
            "text/plain": [
              "         bikes  glasses  pants  shirts  suits  watches\n",
              "store 1     20      NaN     30    15.0   45.0       35\n",
              "store 2     15     50.0      5     2.0    7.0       10\n",
              "store 3     20      4.0     30     NaN    NaN       35"
            ]
          },
          "metadata": {
            "tags": []
          },
          "execution_count": 80
        }
      ]
    },
    {
      "metadata": {
        "id": "kLDk83uF59x1",
        "colab_type": "code",
        "outputId": "b2b11757-d32d-432e-e7f8-54d9026e8d64",
        "colab": {
          "base_uri": "https://localhost:8080/",
          "height": 141
        }
      },
      "cell_type": "code",
      "source": [
        "# We add a new column using data from particular rows in the watches column\n",
        "store_items['new watches'] = store_items['watches'][1:]\n",
        "\n",
        "# We display the modified DataFrame\n",
        "store_items"
      ],
      "execution_count": 0,
      "outputs": [
        {
          "output_type": "execute_result",
          "data": {
            "text/html": [
              "<div>\n",
              "<style scoped>\n",
              "    .dataframe tbody tr th:only-of-type {\n",
              "        vertical-align: middle;\n",
              "    }\n",
              "\n",
              "    .dataframe tbody tr th {\n",
              "        vertical-align: top;\n",
              "    }\n",
              "\n",
              "    .dataframe thead th {\n",
              "        text-align: right;\n",
              "    }\n",
              "</style>\n",
              "<table border=\"1\" class=\"dataframe\">\n",
              "  <thead>\n",
              "    <tr style=\"text-align: right;\">\n",
              "      <th></th>\n",
              "      <th>bikes</th>\n",
              "      <th>glasses</th>\n",
              "      <th>pants</th>\n",
              "      <th>shirts</th>\n",
              "      <th>suits</th>\n",
              "      <th>watches</th>\n",
              "      <th>new watches</th>\n",
              "    </tr>\n",
              "  </thead>\n",
              "  <tbody>\n",
              "    <tr>\n",
              "      <th>store 1</th>\n",
              "      <td>20</td>\n",
              "      <td>NaN</td>\n",
              "      <td>30</td>\n",
              "      <td>15.0</td>\n",
              "      <td>45.0</td>\n",
              "      <td>35</td>\n",
              "      <td>NaN</td>\n",
              "    </tr>\n",
              "    <tr>\n",
              "      <th>store 2</th>\n",
              "      <td>15</td>\n",
              "      <td>50.0</td>\n",
              "      <td>5</td>\n",
              "      <td>2.0</td>\n",
              "      <td>7.0</td>\n",
              "      <td>10</td>\n",
              "      <td>10.0</td>\n",
              "    </tr>\n",
              "    <tr>\n",
              "      <th>store 3</th>\n",
              "      <td>20</td>\n",
              "      <td>4.0</td>\n",
              "      <td>30</td>\n",
              "      <td>NaN</td>\n",
              "      <td>NaN</td>\n",
              "      <td>35</td>\n",
              "      <td>35.0</td>\n",
              "    </tr>\n",
              "  </tbody>\n",
              "</table>\n",
              "</div>"
            ],
            "text/plain": [
              "         bikes  glasses  pants  shirts  suits  watches  new watches\n",
              "store 1     20      NaN     30    15.0   45.0       35          NaN\n",
              "store 2     15     50.0      5     2.0    7.0       10         10.0\n",
              "store 3     20      4.0     30     NaN    NaN       35         35.0"
            ]
          },
          "metadata": {
            "tags": []
          },
          "execution_count": 81
        }
      ]
    },
    {
      "metadata": {
        "id": "fmNZ_Zb86l-b",
        "colab_type": "code",
        "outputId": "538306da-27c7-4661-ca49-c56d31f8f4d1",
        "colab": {
          "base_uri": "https://localhost:8080/",
          "height": 141
        }
      },
      "cell_type": "code",
      "source": [
        "# We insert a new column with label shoes right before the column with numerical index 4\n",
        "store_items.insert(4, 'shoes', [8,5,0])\n",
        "\n",
        "# we display the modified DataFrame\n",
        "store_items"
      ],
      "execution_count": 0,
      "outputs": [
        {
          "output_type": "execute_result",
          "data": {
            "text/html": [
              "<div>\n",
              "<style scoped>\n",
              "    .dataframe tbody tr th:only-of-type {\n",
              "        vertical-align: middle;\n",
              "    }\n",
              "\n",
              "    .dataframe tbody tr th {\n",
              "        vertical-align: top;\n",
              "    }\n",
              "\n",
              "    .dataframe thead th {\n",
              "        text-align: right;\n",
              "    }\n",
              "</style>\n",
              "<table border=\"1\" class=\"dataframe\">\n",
              "  <thead>\n",
              "    <tr style=\"text-align: right;\">\n",
              "      <th></th>\n",
              "      <th>bikes</th>\n",
              "      <th>glasses</th>\n",
              "      <th>pants</th>\n",
              "      <th>shirts</th>\n",
              "      <th>shoes</th>\n",
              "      <th>suits</th>\n",
              "      <th>watches</th>\n",
              "      <th>new watches</th>\n",
              "    </tr>\n",
              "  </thead>\n",
              "  <tbody>\n",
              "    <tr>\n",
              "      <th>store 1</th>\n",
              "      <td>20</td>\n",
              "      <td>NaN</td>\n",
              "      <td>30</td>\n",
              "      <td>15.0</td>\n",
              "      <td>8</td>\n",
              "      <td>45.0</td>\n",
              "      <td>35</td>\n",
              "      <td>NaN</td>\n",
              "    </tr>\n",
              "    <tr>\n",
              "      <th>store 2</th>\n",
              "      <td>15</td>\n",
              "      <td>50.0</td>\n",
              "      <td>5</td>\n",
              "      <td>2.0</td>\n",
              "      <td>5</td>\n",
              "      <td>7.0</td>\n",
              "      <td>10</td>\n",
              "      <td>10.0</td>\n",
              "    </tr>\n",
              "    <tr>\n",
              "      <th>store 3</th>\n",
              "      <td>20</td>\n",
              "      <td>4.0</td>\n",
              "      <td>30</td>\n",
              "      <td>NaN</td>\n",
              "      <td>0</td>\n",
              "      <td>NaN</td>\n",
              "      <td>35</td>\n",
              "      <td>35.0</td>\n",
              "    </tr>\n",
              "  </tbody>\n",
              "</table>\n",
              "</div>"
            ],
            "text/plain": [
              "         bikes  glasses  pants  shirts  shoes  suits  watches  new watches\n",
              "store 1     20      NaN     30    15.0      8   45.0       35          NaN\n",
              "store 2     15     50.0      5     2.0      5    7.0       10         10.0\n",
              "store 3     20      4.0     30     NaN      0    NaN       35         35.0"
            ]
          },
          "metadata": {
            "tags": []
          },
          "execution_count": 82
        }
      ]
    },
    {
      "metadata": {
        "id": "eToJGDoW7g3m",
        "colab_type": "code",
        "outputId": "f2b2198b-dd0a-4314-9e0f-0df0e5c3437a",
        "colab": {
          "base_uri": "https://localhost:8080/",
          "height": 141
        }
      },
      "cell_type": "code",
      "source": [
        "# We remove the new watches column\n",
        "store_items.pop('new watches')\n",
        "\n",
        "# we display the modified DataFrame\n",
        "store_items"
      ],
      "execution_count": 0,
      "outputs": [
        {
          "output_type": "execute_result",
          "data": {
            "text/html": [
              "<div>\n",
              "<style scoped>\n",
              "    .dataframe tbody tr th:only-of-type {\n",
              "        vertical-align: middle;\n",
              "    }\n",
              "\n",
              "    .dataframe tbody tr th {\n",
              "        vertical-align: top;\n",
              "    }\n",
              "\n",
              "    .dataframe thead th {\n",
              "        text-align: right;\n",
              "    }\n",
              "</style>\n",
              "<table border=\"1\" class=\"dataframe\">\n",
              "  <thead>\n",
              "    <tr style=\"text-align: right;\">\n",
              "      <th></th>\n",
              "      <th>bikes</th>\n",
              "      <th>glasses</th>\n",
              "      <th>pants</th>\n",
              "      <th>shirts</th>\n",
              "      <th>shoes</th>\n",
              "      <th>suits</th>\n",
              "      <th>watches</th>\n",
              "    </tr>\n",
              "  </thead>\n",
              "  <tbody>\n",
              "    <tr>\n",
              "      <th>store 1</th>\n",
              "      <td>20</td>\n",
              "      <td>NaN</td>\n",
              "      <td>30</td>\n",
              "      <td>15.0</td>\n",
              "      <td>8</td>\n",
              "      <td>45.0</td>\n",
              "      <td>35</td>\n",
              "    </tr>\n",
              "    <tr>\n",
              "      <th>store 2</th>\n",
              "      <td>15</td>\n",
              "      <td>50.0</td>\n",
              "      <td>5</td>\n",
              "      <td>2.0</td>\n",
              "      <td>5</td>\n",
              "      <td>7.0</td>\n",
              "      <td>10</td>\n",
              "    </tr>\n",
              "    <tr>\n",
              "      <th>store 3</th>\n",
              "      <td>20</td>\n",
              "      <td>4.0</td>\n",
              "      <td>30</td>\n",
              "      <td>NaN</td>\n",
              "      <td>0</td>\n",
              "      <td>NaN</td>\n",
              "      <td>35</td>\n",
              "    </tr>\n",
              "  </tbody>\n",
              "</table>\n",
              "</div>"
            ],
            "text/plain": [
              "         bikes  glasses  pants  shirts  shoes  suits  watches\n",
              "store 1     20      NaN     30    15.0      8   45.0       35\n",
              "store 2     15     50.0      5     2.0      5    7.0       10\n",
              "store 3     20      4.0     30     NaN      0    NaN       35"
            ]
          },
          "metadata": {
            "tags": []
          },
          "execution_count": 83
        }
      ]
    },
    {
      "metadata": {
        "id": "dhcszArC7s1n",
        "colab_type": "code",
        "outputId": "c742197d-2ee4-48da-ff8d-bb4fd9c8c2c7",
        "colab": {
          "base_uri": "https://localhost:8080/",
          "height": 141
        }
      },
      "cell_type": "code",
      "source": [
        "# We remove the watches and shoes columns\n",
        "store_items = store_items.drop(['watches', 'shoes'], axis = 1)\n",
        "\n",
        "# we display the modified DataFrame\n",
        "store_items"
      ],
      "execution_count": 0,
      "outputs": [
        {
          "output_type": "execute_result",
          "data": {
            "text/html": [
              "<div>\n",
              "<style scoped>\n",
              "    .dataframe tbody tr th:only-of-type {\n",
              "        vertical-align: middle;\n",
              "    }\n",
              "\n",
              "    .dataframe tbody tr th {\n",
              "        vertical-align: top;\n",
              "    }\n",
              "\n",
              "    .dataframe thead th {\n",
              "        text-align: right;\n",
              "    }\n",
              "</style>\n",
              "<table border=\"1\" class=\"dataframe\">\n",
              "  <thead>\n",
              "    <tr style=\"text-align: right;\">\n",
              "      <th></th>\n",
              "      <th>bikes</th>\n",
              "      <th>glasses</th>\n",
              "      <th>pants</th>\n",
              "      <th>shirts</th>\n",
              "      <th>suits</th>\n",
              "    </tr>\n",
              "  </thead>\n",
              "  <tbody>\n",
              "    <tr>\n",
              "      <th>store 1</th>\n",
              "      <td>20</td>\n",
              "      <td>NaN</td>\n",
              "      <td>30</td>\n",
              "      <td>15.0</td>\n",
              "      <td>45.0</td>\n",
              "    </tr>\n",
              "    <tr>\n",
              "      <th>store 2</th>\n",
              "      <td>15</td>\n",
              "      <td>50.0</td>\n",
              "      <td>5</td>\n",
              "      <td>2.0</td>\n",
              "      <td>7.0</td>\n",
              "    </tr>\n",
              "    <tr>\n",
              "      <th>store 3</th>\n",
              "      <td>20</td>\n",
              "      <td>4.0</td>\n",
              "      <td>30</td>\n",
              "      <td>NaN</td>\n",
              "      <td>NaN</td>\n",
              "    </tr>\n",
              "  </tbody>\n",
              "</table>\n",
              "</div>"
            ],
            "text/plain": [
              "         bikes  glasses  pants  shirts  suits\n",
              "store 1     20      NaN     30    15.0   45.0\n",
              "store 2     15     50.0      5     2.0    7.0\n",
              "store 3     20      4.0     30     NaN    NaN"
            ]
          },
          "metadata": {
            "tags": []
          },
          "execution_count": 84
        }
      ]
    },
    {
      "metadata": {
        "id": "qXruxIw27-V4",
        "colab_type": "code",
        "outputId": "baaa14e6-1423-4b7e-f18c-25c0e73e9ac9",
        "colab": {
          "base_uri": "https://localhost:8080/",
          "height": 79
        }
      },
      "cell_type": "code",
      "source": [
        "# We remove the store 2 and store 1 rows\n",
        "store_items = store_items.drop(['store 2', 'store 1'], axis = 0)\n",
        "\n",
        "# we display the modified DataFrame\n",
        "store_items"
      ],
      "execution_count": 0,
      "outputs": [
        {
          "output_type": "execute_result",
          "data": {
            "text/html": [
              "<div>\n",
              "<style scoped>\n",
              "    .dataframe tbody tr th:only-of-type {\n",
              "        vertical-align: middle;\n",
              "    }\n",
              "\n",
              "    .dataframe tbody tr th {\n",
              "        vertical-align: top;\n",
              "    }\n",
              "\n",
              "    .dataframe thead th {\n",
              "        text-align: right;\n",
              "    }\n",
              "</style>\n",
              "<table border=\"1\" class=\"dataframe\">\n",
              "  <thead>\n",
              "    <tr style=\"text-align: right;\">\n",
              "      <th></th>\n",
              "      <th>bikes</th>\n",
              "      <th>glasses</th>\n",
              "      <th>pants</th>\n",
              "      <th>shirts</th>\n",
              "      <th>suits</th>\n",
              "    </tr>\n",
              "  </thead>\n",
              "  <tbody>\n",
              "    <tr>\n",
              "      <th>store 3</th>\n",
              "      <td>20</td>\n",
              "      <td>4.0</td>\n",
              "      <td>30</td>\n",
              "      <td>NaN</td>\n",
              "      <td>NaN</td>\n",
              "    </tr>\n",
              "  </tbody>\n",
              "</table>\n",
              "</div>"
            ],
            "text/plain": [
              "         bikes  glasses  pants  shirts  suits\n",
              "store 3     20      4.0     30     NaN    NaN"
            ]
          },
          "metadata": {
            "tags": []
          },
          "execution_count": 85
        }
      ]
    },
    {
      "metadata": {
        "id": "wn4FKgUp8Lvb",
        "colab_type": "code",
        "outputId": "aeccbc68-59d7-4341-f2a5-51cef2e100a1",
        "colab": {
          "base_uri": "https://localhost:8080/",
          "height": 79
        }
      },
      "cell_type": "code",
      "source": [
        "# We change the column label bikes to hats\n",
        "store_items = store_items.rename(columns = {'bikes': 'hats'})\n",
        "\n",
        "# we display the modified DataFrame\n",
        "store_items"
      ],
      "execution_count": 0,
      "outputs": [
        {
          "output_type": "execute_result",
          "data": {
            "text/html": [
              "<div>\n",
              "<style scoped>\n",
              "    .dataframe tbody tr th:only-of-type {\n",
              "        vertical-align: middle;\n",
              "    }\n",
              "\n",
              "    .dataframe tbody tr th {\n",
              "        vertical-align: top;\n",
              "    }\n",
              "\n",
              "    .dataframe thead th {\n",
              "        text-align: right;\n",
              "    }\n",
              "</style>\n",
              "<table border=\"1\" class=\"dataframe\">\n",
              "  <thead>\n",
              "    <tr style=\"text-align: right;\">\n",
              "      <th></th>\n",
              "      <th>hats</th>\n",
              "      <th>glasses</th>\n",
              "      <th>pants</th>\n",
              "      <th>shirts</th>\n",
              "      <th>suits</th>\n",
              "    </tr>\n",
              "  </thead>\n",
              "  <tbody>\n",
              "    <tr>\n",
              "      <th>store 3</th>\n",
              "      <td>20</td>\n",
              "      <td>4.0</td>\n",
              "      <td>30</td>\n",
              "      <td>NaN</td>\n",
              "      <td>NaN</td>\n",
              "    </tr>\n",
              "  </tbody>\n",
              "</table>\n",
              "</div>"
            ],
            "text/plain": [
              "         hats  glasses  pants  shirts  suits\n",
              "store 3    20      4.0     30     NaN    NaN"
            ]
          },
          "metadata": {
            "tags": []
          },
          "execution_count": 86
        }
      ]
    },
    {
      "metadata": {
        "id": "vjs5BtQ88d5C",
        "colab_type": "code",
        "outputId": "cc651683-1409-4ca8-bf6b-547530c29714",
        "colab": {
          "base_uri": "https://localhost:8080/",
          "height": 79
        }
      },
      "cell_type": "code",
      "source": [
        "# We change the row label from store 3 to last store\n",
        "store_items = store_items.rename(index = {'store 3': 'last store'})\n",
        "\n",
        "# we display the modified DataFrame\n",
        "store_items"
      ],
      "execution_count": 0,
      "outputs": [
        {
          "output_type": "execute_result",
          "data": {
            "text/html": [
              "<div>\n",
              "<style scoped>\n",
              "    .dataframe tbody tr th:only-of-type {\n",
              "        vertical-align: middle;\n",
              "    }\n",
              "\n",
              "    .dataframe tbody tr th {\n",
              "        vertical-align: top;\n",
              "    }\n",
              "\n",
              "    .dataframe thead th {\n",
              "        text-align: right;\n",
              "    }\n",
              "</style>\n",
              "<table border=\"1\" class=\"dataframe\">\n",
              "  <thead>\n",
              "    <tr style=\"text-align: right;\">\n",
              "      <th></th>\n",
              "      <th>hats</th>\n",
              "      <th>glasses</th>\n",
              "      <th>pants</th>\n",
              "      <th>shirts</th>\n",
              "      <th>suits</th>\n",
              "    </tr>\n",
              "  </thead>\n",
              "  <tbody>\n",
              "    <tr>\n",
              "      <th>last store</th>\n",
              "      <td>20</td>\n",
              "      <td>4.0</td>\n",
              "      <td>30</td>\n",
              "      <td>NaN</td>\n",
              "      <td>NaN</td>\n",
              "    </tr>\n",
              "  </tbody>\n",
              "</table>\n",
              "</div>"
            ],
            "text/plain": [
              "            hats  glasses  pants  shirts  suits\n",
              "last store    20      4.0     30     NaN    NaN"
            ]
          },
          "metadata": {
            "tags": []
          },
          "execution_count": 87
        }
      ]
    },
    {
      "metadata": {
        "id": "P_aYvCPZ8nOg",
        "colab_type": "code",
        "outputId": "f91759d3-3274-4d2d-b025-abfc5599e734",
        "colab": {
          "base_uri": "https://localhost:8080/",
          "height": 110
        }
      },
      "cell_type": "code",
      "source": [
        "# We change the row index to be the data in the pants column\n",
        "store_items = store_items.set_index('pants')\n",
        "\n",
        "# we display the modified DataFrame\n",
        "store_items"
      ],
      "execution_count": 0,
      "outputs": [
        {
          "output_type": "execute_result",
          "data": {
            "text/html": [
              "<div>\n",
              "<style scoped>\n",
              "    .dataframe tbody tr th:only-of-type {\n",
              "        vertical-align: middle;\n",
              "    }\n",
              "\n",
              "    .dataframe tbody tr th {\n",
              "        vertical-align: top;\n",
              "    }\n",
              "\n",
              "    .dataframe thead th {\n",
              "        text-align: right;\n",
              "    }\n",
              "</style>\n",
              "<table border=\"1\" class=\"dataframe\">\n",
              "  <thead>\n",
              "    <tr style=\"text-align: right;\">\n",
              "      <th></th>\n",
              "      <th>hats</th>\n",
              "      <th>glasses</th>\n",
              "      <th>shirts</th>\n",
              "      <th>suits</th>\n",
              "    </tr>\n",
              "    <tr>\n",
              "      <th>pants</th>\n",
              "      <th></th>\n",
              "      <th></th>\n",
              "      <th></th>\n",
              "      <th></th>\n",
              "    </tr>\n",
              "  </thead>\n",
              "  <tbody>\n",
              "    <tr>\n",
              "      <th>30</th>\n",
              "      <td>20</td>\n",
              "      <td>4.0</td>\n",
              "      <td>NaN</td>\n",
              "      <td>NaN</td>\n",
              "    </tr>\n",
              "  </tbody>\n",
              "</table>\n",
              "</div>"
            ],
            "text/plain": [
              "       hats  glasses  shirts  suits\n",
              "pants                              \n",
              "30       20      4.0     NaN    NaN"
            ]
          },
          "metadata": {
            "tags": []
          },
          "execution_count": 88
        }
      ]
    },
    {
      "metadata": {
        "id": "2rOg8f9w8xjH",
        "colab_type": "code",
        "outputId": "247b504c-7f31-43d8-ba58-6fdc9fff359d",
        "colab": {
          "base_uri": "https://localhost:8080/",
          "height": 141
        }
      },
      "cell_type": "code",
      "source": [
        "# We create a list of Python dictionaries\n",
        "items2 = [{'bikes': 20, 'pants': 30, 'watches': 35, 'shirts': 15, 'shoes':8, 'suits':45},\n",
        "{'watches': 10, 'glasses': 50, 'bikes': 15, 'pants':5, 'shirts': 2, 'shoes':5, 'suits':7},\n",
        "{'bikes': 20, 'pants': 30, 'watches': 35, 'glasses': 4, 'shoes':10}]\n",
        "\n",
        "# We create a DataFrame  and provide the row index\n",
        "store_items = pd.DataFrame(items2, index = ['store 1', 'store 2', 'store 3'])\n",
        "\n",
        "# We display the DataFrame\n",
        "store_items"
      ],
      "execution_count": 0,
      "outputs": [
        {
          "output_type": "execute_result",
          "data": {
            "text/html": [
              "<div>\n",
              "<style scoped>\n",
              "    .dataframe tbody tr th:only-of-type {\n",
              "        vertical-align: middle;\n",
              "    }\n",
              "\n",
              "    .dataframe tbody tr th {\n",
              "        vertical-align: top;\n",
              "    }\n",
              "\n",
              "    .dataframe thead th {\n",
              "        text-align: right;\n",
              "    }\n",
              "</style>\n",
              "<table border=\"1\" class=\"dataframe\">\n",
              "  <thead>\n",
              "    <tr style=\"text-align: right;\">\n",
              "      <th></th>\n",
              "      <th>bikes</th>\n",
              "      <th>glasses</th>\n",
              "      <th>pants</th>\n",
              "      <th>shirts</th>\n",
              "      <th>shoes</th>\n",
              "      <th>suits</th>\n",
              "      <th>watches</th>\n",
              "    </tr>\n",
              "  </thead>\n",
              "  <tbody>\n",
              "    <tr>\n",
              "      <th>store 1</th>\n",
              "      <td>20</td>\n",
              "      <td>NaN</td>\n",
              "      <td>30</td>\n",
              "      <td>15.0</td>\n",
              "      <td>8</td>\n",
              "      <td>45.0</td>\n",
              "      <td>35</td>\n",
              "    </tr>\n",
              "    <tr>\n",
              "      <th>store 2</th>\n",
              "      <td>15</td>\n",
              "      <td>50.0</td>\n",
              "      <td>5</td>\n",
              "      <td>2.0</td>\n",
              "      <td>5</td>\n",
              "      <td>7.0</td>\n",
              "      <td>10</td>\n",
              "    </tr>\n",
              "    <tr>\n",
              "      <th>store 3</th>\n",
              "      <td>20</td>\n",
              "      <td>4.0</td>\n",
              "      <td>30</td>\n",
              "      <td>NaN</td>\n",
              "      <td>10</td>\n",
              "      <td>NaN</td>\n",
              "      <td>35</td>\n",
              "    </tr>\n",
              "  </tbody>\n",
              "</table>\n",
              "</div>"
            ],
            "text/plain": [
              "         bikes  glasses  pants  shirts  shoes  suits  watches\n",
              "store 1     20      NaN     30    15.0      8   45.0       35\n",
              "store 2     15     50.0      5     2.0      5    7.0       10\n",
              "store 3     20      4.0     30     NaN     10    NaN       35"
            ]
          },
          "metadata": {
            "tags": []
          },
          "execution_count": 89
        }
      ]
    },
    {
      "metadata": {
        "id": "8xWMSvp49GsZ",
        "colab_type": "code",
        "outputId": "52cda181-5a03-4e6b-e5e4-f3682474cb3d",
        "colab": {
          "base_uri": "https://localhost:8080/",
          "height": 35
        }
      },
      "cell_type": "code",
      "source": [
        "# We count the number of NaN values in store_items\n",
        "x =  store_items.isnull().sum().sum()\n",
        "\n",
        "# We print x\n",
        "print('Number of NaN values in our DataFrame:', x)"
      ],
      "execution_count": 0,
      "outputs": [
        {
          "output_type": "stream",
          "text": [
            "Number of NaN values in our DataFrame: 3\n"
          ],
          "name": "stdout"
        }
      ]
    },
    {
      "metadata": {
        "id": "hfzQWDow9N33",
        "colab_type": "code",
        "outputId": "05be5165-a2f4-4209-c443-a36c49518ded",
        "colab": {
          "base_uri": "https://localhost:8080/",
          "height": 141
        }
      },
      "cell_type": "code",
      "source": [
        "store_items.isnull()"
      ],
      "execution_count": 0,
      "outputs": [
        {
          "output_type": "execute_result",
          "data": {
            "text/html": [
              "<div>\n",
              "<style scoped>\n",
              "    .dataframe tbody tr th:only-of-type {\n",
              "        vertical-align: middle;\n",
              "    }\n",
              "\n",
              "    .dataframe tbody tr th {\n",
              "        vertical-align: top;\n",
              "    }\n",
              "\n",
              "    .dataframe thead th {\n",
              "        text-align: right;\n",
              "    }\n",
              "</style>\n",
              "<table border=\"1\" class=\"dataframe\">\n",
              "  <thead>\n",
              "    <tr style=\"text-align: right;\">\n",
              "      <th></th>\n",
              "      <th>bikes</th>\n",
              "      <th>glasses</th>\n",
              "      <th>pants</th>\n",
              "      <th>shirts</th>\n",
              "      <th>shoes</th>\n",
              "      <th>suits</th>\n",
              "      <th>watches</th>\n",
              "    </tr>\n",
              "  </thead>\n",
              "  <tbody>\n",
              "    <tr>\n",
              "      <th>store 1</th>\n",
              "      <td>False</td>\n",
              "      <td>True</td>\n",
              "      <td>False</td>\n",
              "      <td>False</td>\n",
              "      <td>False</td>\n",
              "      <td>False</td>\n",
              "      <td>False</td>\n",
              "    </tr>\n",
              "    <tr>\n",
              "      <th>store 2</th>\n",
              "      <td>False</td>\n",
              "      <td>False</td>\n",
              "      <td>False</td>\n",
              "      <td>False</td>\n",
              "      <td>False</td>\n",
              "      <td>False</td>\n",
              "      <td>False</td>\n",
              "    </tr>\n",
              "    <tr>\n",
              "      <th>store 3</th>\n",
              "      <td>False</td>\n",
              "      <td>False</td>\n",
              "      <td>False</td>\n",
              "      <td>True</td>\n",
              "      <td>False</td>\n",
              "      <td>True</td>\n",
              "      <td>False</td>\n",
              "    </tr>\n",
              "  </tbody>\n",
              "</table>\n",
              "</div>"
            ],
            "text/plain": [
              "         bikes  glasses  pants  shirts  shoes  suits  watches\n",
              "store 1  False     True  False   False  False  False    False\n",
              "store 2  False    False  False   False  False  False    False\n",
              "store 3  False    False  False    True  False   True    False"
            ]
          },
          "metadata": {
            "tags": []
          },
          "execution_count": 93
        }
      ]
    },
    {
      "metadata": {
        "id": "32Rr4nDe906s",
        "colab_type": "code",
        "outputId": "5e2033f2-bbe0-47f4-b03a-462b363bd156",
        "colab": {
          "base_uri": "https://localhost:8080/",
          "height": 156
        }
      },
      "cell_type": "code",
      "source": [
        "store_items.isnull().sum()"
      ],
      "execution_count": 0,
      "outputs": [
        {
          "output_type": "execute_result",
          "data": {
            "text/plain": [
              "bikes      0\n",
              "glasses    1\n",
              "pants      0\n",
              "shirts     1\n",
              "shoes      0\n",
              "suits      1\n",
              "watches    0\n",
              "dtype: int64"
            ]
          },
          "metadata": {
            "tags": []
          },
          "execution_count": 94
        }
      ]
    },
    {
      "metadata": {
        "id": "RrwJxYpr-Fe_",
        "colab_type": "code",
        "outputId": "459d046f-45b1-47d4-a206-11f525d5f0bf",
        "colab": {
          "base_uri": "https://localhost:8080/",
          "height": 191
        }
      },
      "cell_type": "code",
      "source": [
        "# We print the number of non-NaN values in our DataFrame\n",
        "print()\n",
        "print('Number of non-NaN values in the columns of our DataFrame:\\n', store_items.count())"
      ],
      "execution_count": 0,
      "outputs": [
        {
          "output_type": "stream",
          "text": [
            "\n",
            "Number of non-NaN values in the columns of our DataFrame:\n",
            " bikes      3\n",
            "glasses    2\n",
            "pants      3\n",
            "shirts     2\n",
            "shoes      3\n",
            "suits      2\n",
            "watches    3\n",
            "dtype: int64\n"
          ],
          "name": "stdout"
        }
      ]
    },
    {
      "metadata": {
        "id": "3DRm2DWSBf5U",
        "colab_type": "code",
        "outputId": "8a17c020-173f-4435-947a-1117106b0843",
        "colab": {
          "base_uri": "https://localhost:8080/",
          "height": 141
        }
      },
      "cell_type": "code",
      "source": [
        "# We create a list of Python dictionaries\n",
        "items2 = [{'bikes': 20, 'pants': 30, 'watches': 35, 'shirts': 15, 'shoes':8, 'suits':45},\n",
        "{'watches': 10, 'glasses': 50, 'bikes': 15, 'pants':5, 'shirts': 2, 'shoes':5, 'suits':7},\n",
        "{'bikes': 20, 'pants': 30, 'watches': 35, 'glasses': 4, 'shoes':10}]\n",
        "\n",
        "# We create a DataFrame  and provide the row index\n",
        "store_items = pd.DataFrame(items2, index = ['store 1', 'store 2', 'store 3'])\n",
        "\n",
        "# We display the DataFrame\n",
        "store_items"
      ],
      "execution_count": 0,
      "outputs": [
        {
          "output_type": "execute_result",
          "data": {
            "text/html": [
              "<div>\n",
              "<style scoped>\n",
              "    .dataframe tbody tr th:only-of-type {\n",
              "        vertical-align: middle;\n",
              "    }\n",
              "\n",
              "    .dataframe tbody tr th {\n",
              "        vertical-align: top;\n",
              "    }\n",
              "\n",
              "    .dataframe thead th {\n",
              "        text-align: right;\n",
              "    }\n",
              "</style>\n",
              "<table border=\"1\" class=\"dataframe\">\n",
              "  <thead>\n",
              "    <tr style=\"text-align: right;\">\n",
              "      <th></th>\n",
              "      <th>bikes</th>\n",
              "      <th>glasses</th>\n",
              "      <th>pants</th>\n",
              "      <th>shirts</th>\n",
              "      <th>shoes</th>\n",
              "      <th>suits</th>\n",
              "      <th>watches</th>\n",
              "    </tr>\n",
              "  </thead>\n",
              "  <tbody>\n",
              "    <tr>\n",
              "      <th>store 1</th>\n",
              "      <td>20</td>\n",
              "      <td>NaN</td>\n",
              "      <td>30</td>\n",
              "      <td>15.0</td>\n",
              "      <td>8</td>\n",
              "      <td>45.0</td>\n",
              "      <td>35</td>\n",
              "    </tr>\n",
              "    <tr>\n",
              "      <th>store 2</th>\n",
              "      <td>15</td>\n",
              "      <td>50.0</td>\n",
              "      <td>5</td>\n",
              "      <td>2.0</td>\n",
              "      <td>5</td>\n",
              "      <td>7.0</td>\n",
              "      <td>10</td>\n",
              "    </tr>\n",
              "    <tr>\n",
              "      <th>store 3</th>\n",
              "      <td>20</td>\n",
              "      <td>4.0</td>\n",
              "      <td>30</td>\n",
              "      <td>NaN</td>\n",
              "      <td>10</td>\n",
              "      <td>NaN</td>\n",
              "      <td>35</td>\n",
              "    </tr>\n",
              "  </tbody>\n",
              "</table>\n",
              "</div>"
            ],
            "text/plain": [
              "         bikes  glasses  pants  shirts  shoes  suits  watches\n",
              "store 1     20      NaN     30    15.0      8   45.0       35\n",
              "store 2     15     50.0      5     2.0      5    7.0       10\n",
              "store 3     20      4.0     30     NaN     10    NaN       35"
            ]
          },
          "metadata": {
            "tags": []
          },
          "execution_count": 110
        }
      ]
    },
    {
      "metadata": {
        "id": "m5v7oNOY-KFS",
        "colab_type": "code",
        "outputId": "8913c6d5-09a8-4497-9a5e-feb352527746",
        "colab": {
          "base_uri": "https://localhost:8080/",
          "height": 79
        }
      },
      "cell_type": "code",
      "source": [
        "# We drop any rows with NaN values\n",
        "store_items.dropna(axis = 0)"
      ],
      "execution_count": 0,
      "outputs": [
        {
          "output_type": "execute_result",
          "data": {
            "text/html": [
              "<div>\n",
              "<style scoped>\n",
              "    .dataframe tbody tr th:only-of-type {\n",
              "        vertical-align: middle;\n",
              "    }\n",
              "\n",
              "    .dataframe tbody tr th {\n",
              "        vertical-align: top;\n",
              "    }\n",
              "\n",
              "    .dataframe thead th {\n",
              "        text-align: right;\n",
              "    }\n",
              "</style>\n",
              "<table border=\"1\" class=\"dataframe\">\n",
              "  <thead>\n",
              "    <tr style=\"text-align: right;\">\n",
              "      <th></th>\n",
              "      <th>bikes</th>\n",
              "      <th>glasses</th>\n",
              "      <th>pants</th>\n",
              "      <th>shirts</th>\n",
              "      <th>shoes</th>\n",
              "      <th>suits</th>\n",
              "      <th>watches</th>\n",
              "    </tr>\n",
              "  </thead>\n",
              "  <tbody>\n",
              "    <tr>\n",
              "      <th>store 2</th>\n",
              "      <td>15</td>\n",
              "      <td>50.0</td>\n",
              "      <td>5</td>\n",
              "      <td>2.0</td>\n",
              "      <td>5</td>\n",
              "      <td>7.0</td>\n",
              "      <td>10</td>\n",
              "    </tr>\n",
              "  </tbody>\n",
              "</table>\n",
              "</div>"
            ],
            "text/plain": [
              "         bikes  glasses  pants  shirts  shoes  suits  watches\n",
              "store 2     15     50.0      5     2.0      5    7.0       10"
            ]
          },
          "metadata": {
            "tags": []
          },
          "execution_count": 97
        }
      ]
    },
    {
      "metadata": {
        "id": "v7DUdLkhBYQs",
        "colab_type": "code",
        "outputId": "88af40e0-a2aa-4ce2-e1fe-50301a04ce3a",
        "colab": {
          "base_uri": "https://localhost:8080/",
          "height": 141
        }
      },
      "cell_type": "code",
      "source": [
        "# We create a list of Python dictionaries\n",
        "items2 = [{'bikes': 20, 'pants': 30, 'watches': 35, 'shirts': 15, 'shoes':8, 'suits':45},\n",
        "{'watches': 10, 'glasses': 50, 'bikes': 15, 'pants':5, 'shirts': 2, 'shoes':5, 'suits':7},\n",
        "{'bikes': 20, 'pants': 30, 'watches': 35, 'glasses': 4, 'shoes':10}]\n",
        "\n",
        "# We create a DataFrame  and provide the row index\n",
        "store_items = pd.DataFrame(items2, index = ['store 1', 'store 2', 'store 3'])\n",
        "\n",
        "# We display the DataFrame\n",
        "store_items"
      ],
      "execution_count": 0,
      "outputs": [
        {
          "output_type": "execute_result",
          "data": {
            "text/html": [
              "<div>\n",
              "<style scoped>\n",
              "    .dataframe tbody tr th:only-of-type {\n",
              "        vertical-align: middle;\n",
              "    }\n",
              "\n",
              "    .dataframe tbody tr th {\n",
              "        vertical-align: top;\n",
              "    }\n",
              "\n",
              "    .dataframe thead th {\n",
              "        text-align: right;\n",
              "    }\n",
              "</style>\n",
              "<table border=\"1\" class=\"dataframe\">\n",
              "  <thead>\n",
              "    <tr style=\"text-align: right;\">\n",
              "      <th></th>\n",
              "      <th>bikes</th>\n",
              "      <th>glasses</th>\n",
              "      <th>pants</th>\n",
              "      <th>shirts</th>\n",
              "      <th>shoes</th>\n",
              "      <th>suits</th>\n",
              "      <th>watches</th>\n",
              "    </tr>\n",
              "  </thead>\n",
              "  <tbody>\n",
              "    <tr>\n",
              "      <th>store 1</th>\n",
              "      <td>20</td>\n",
              "      <td>NaN</td>\n",
              "      <td>30</td>\n",
              "      <td>15.0</td>\n",
              "      <td>8</td>\n",
              "      <td>45.0</td>\n",
              "      <td>35</td>\n",
              "    </tr>\n",
              "    <tr>\n",
              "      <th>store 2</th>\n",
              "      <td>15</td>\n",
              "      <td>50.0</td>\n",
              "      <td>5</td>\n",
              "      <td>2.0</td>\n",
              "      <td>5</td>\n",
              "      <td>7.0</td>\n",
              "      <td>10</td>\n",
              "    </tr>\n",
              "    <tr>\n",
              "      <th>store 3</th>\n",
              "      <td>20</td>\n",
              "      <td>4.0</td>\n",
              "      <td>30</td>\n",
              "      <td>NaN</td>\n",
              "      <td>10</td>\n",
              "      <td>NaN</td>\n",
              "      <td>35</td>\n",
              "    </tr>\n",
              "  </tbody>\n",
              "</table>\n",
              "</div>"
            ],
            "text/plain": [
              "         bikes  glasses  pants  shirts  shoes  suits  watches\n",
              "store 1     20      NaN     30    15.0      8   45.0       35\n",
              "store 2     15     50.0      5     2.0      5    7.0       10\n",
              "store 3     20      4.0     30     NaN     10    NaN       35"
            ]
          },
          "metadata": {
            "tags": []
          },
          "execution_count": 109
        }
      ]
    },
    {
      "metadata": {
        "id": "1BOGs4DR-ZBo",
        "colab_type": "code",
        "outputId": "4d9d0d41-c981-441f-e5fa-24786116961a",
        "colab": {
          "base_uri": "https://localhost:8080/",
          "height": 141
        }
      },
      "cell_type": "code",
      "source": [
        "# We drop any columns with NaN values\n",
        "store_items.dropna(axis = 1)"
      ],
      "execution_count": 0,
      "outputs": [
        {
          "output_type": "execute_result",
          "data": {
            "text/html": [
              "<div>\n",
              "<style scoped>\n",
              "    .dataframe tbody tr th:only-of-type {\n",
              "        vertical-align: middle;\n",
              "    }\n",
              "\n",
              "    .dataframe tbody tr th {\n",
              "        vertical-align: top;\n",
              "    }\n",
              "\n",
              "    .dataframe thead th {\n",
              "        text-align: right;\n",
              "    }\n",
              "</style>\n",
              "<table border=\"1\" class=\"dataframe\">\n",
              "  <thead>\n",
              "    <tr style=\"text-align: right;\">\n",
              "      <th></th>\n",
              "      <th>bikes</th>\n",
              "      <th>pants</th>\n",
              "      <th>shoes</th>\n",
              "      <th>watches</th>\n",
              "    </tr>\n",
              "  </thead>\n",
              "  <tbody>\n",
              "    <tr>\n",
              "      <th>store 1</th>\n",
              "      <td>20</td>\n",
              "      <td>30</td>\n",
              "      <td>8</td>\n",
              "      <td>35</td>\n",
              "    </tr>\n",
              "    <tr>\n",
              "      <th>store 2</th>\n",
              "      <td>15</td>\n",
              "      <td>5</td>\n",
              "      <td>5</td>\n",
              "      <td>10</td>\n",
              "    </tr>\n",
              "    <tr>\n",
              "      <th>store 3</th>\n",
              "      <td>20</td>\n",
              "      <td>30</td>\n",
              "      <td>10</td>\n",
              "      <td>35</td>\n",
              "    </tr>\n",
              "  </tbody>\n",
              "</table>\n",
              "</div>"
            ],
            "text/plain": [
              "         bikes  pants  shoes  watches\n",
              "store 1     20     30      8       35\n",
              "store 2     15      5      5       10\n",
              "store 3     20     30     10       35"
            ]
          },
          "metadata": {
            "tags": []
          },
          "execution_count": 98
        }
      ]
    },
    {
      "metadata": {
        "id": "B8w2r-UkBRyZ",
        "colab_type": "code",
        "outputId": "6a68572c-e61f-4605-b99f-3db77b9fe32b",
        "colab": {
          "base_uri": "https://localhost:8080/",
          "height": 141
        }
      },
      "cell_type": "code",
      "source": [
        "# We create a list of Python dictionaries\n",
        "items2 = [{'bikes': 20, 'pants': 30, 'watches': 35, 'shirts': 15, 'shoes':8, 'suits':45},\n",
        "{'watches': 10, 'glasses': 50, 'bikes': 15, 'pants':5, 'shirts': 2, 'shoes':5, 'suits':7},\n",
        "{'bikes': 20, 'pants': 30, 'watches': 35, 'glasses': 4, 'shoes':10}]\n",
        "\n",
        "# We create a DataFrame  and provide the row index\n",
        "store_items = pd.DataFrame(items2, index = ['store 1', 'store 2', 'store 3'])\n",
        "\n",
        "# We display the DataFrame\n",
        "store_items"
      ],
      "execution_count": 0,
      "outputs": [
        {
          "output_type": "execute_result",
          "data": {
            "text/html": [
              "<div>\n",
              "<style scoped>\n",
              "    .dataframe tbody tr th:only-of-type {\n",
              "        vertical-align: middle;\n",
              "    }\n",
              "\n",
              "    .dataframe tbody tr th {\n",
              "        vertical-align: top;\n",
              "    }\n",
              "\n",
              "    .dataframe thead th {\n",
              "        text-align: right;\n",
              "    }\n",
              "</style>\n",
              "<table border=\"1\" class=\"dataframe\">\n",
              "  <thead>\n",
              "    <tr style=\"text-align: right;\">\n",
              "      <th></th>\n",
              "      <th>bikes</th>\n",
              "      <th>glasses</th>\n",
              "      <th>pants</th>\n",
              "      <th>shirts</th>\n",
              "      <th>shoes</th>\n",
              "      <th>suits</th>\n",
              "      <th>watches</th>\n",
              "    </tr>\n",
              "  </thead>\n",
              "  <tbody>\n",
              "    <tr>\n",
              "      <th>store 1</th>\n",
              "      <td>20</td>\n",
              "      <td>NaN</td>\n",
              "      <td>30</td>\n",
              "      <td>15.0</td>\n",
              "      <td>8</td>\n",
              "      <td>45.0</td>\n",
              "      <td>35</td>\n",
              "    </tr>\n",
              "    <tr>\n",
              "      <th>store 2</th>\n",
              "      <td>15</td>\n",
              "      <td>50.0</td>\n",
              "      <td>5</td>\n",
              "      <td>2.0</td>\n",
              "      <td>5</td>\n",
              "      <td>7.0</td>\n",
              "      <td>10</td>\n",
              "    </tr>\n",
              "    <tr>\n",
              "      <th>store 3</th>\n",
              "      <td>20</td>\n",
              "      <td>4.0</td>\n",
              "      <td>30</td>\n",
              "      <td>NaN</td>\n",
              "      <td>10</td>\n",
              "      <td>NaN</td>\n",
              "      <td>35</td>\n",
              "    </tr>\n",
              "  </tbody>\n",
              "</table>\n",
              "</div>"
            ],
            "text/plain": [
              "         bikes  glasses  pants  shirts  shoes  suits  watches\n",
              "store 1     20      NaN     30    15.0      8   45.0       35\n",
              "store 2     15     50.0      5     2.0      5    7.0       10\n",
              "store 3     20      4.0     30     NaN     10    NaN       35"
            ]
          },
          "metadata": {
            "tags": []
          },
          "execution_count": 108
        }
      ]
    },
    {
      "metadata": {
        "id": "rsRITYck-tjR",
        "colab_type": "code",
        "outputId": "36048e1b-445b-4705-b0bc-97a525fb217f",
        "colab": {
          "base_uri": "https://localhost:8080/",
          "height": 141
        }
      },
      "cell_type": "code",
      "source": [
        "# We replace all NaN values with 0\n",
        "store_items.fillna(0)"
      ],
      "execution_count": 0,
      "outputs": [
        {
          "output_type": "execute_result",
          "data": {
            "text/html": [
              "<div>\n",
              "<style scoped>\n",
              "    .dataframe tbody tr th:only-of-type {\n",
              "        vertical-align: middle;\n",
              "    }\n",
              "\n",
              "    .dataframe tbody tr th {\n",
              "        vertical-align: top;\n",
              "    }\n",
              "\n",
              "    .dataframe thead th {\n",
              "        text-align: right;\n",
              "    }\n",
              "</style>\n",
              "<table border=\"1\" class=\"dataframe\">\n",
              "  <thead>\n",
              "    <tr style=\"text-align: right;\">\n",
              "      <th></th>\n",
              "      <th>bikes</th>\n",
              "      <th>glasses</th>\n",
              "      <th>pants</th>\n",
              "      <th>shirts</th>\n",
              "      <th>shoes</th>\n",
              "      <th>suits</th>\n",
              "      <th>watches</th>\n",
              "    </tr>\n",
              "  </thead>\n",
              "  <tbody>\n",
              "    <tr>\n",
              "      <th>store 1</th>\n",
              "      <td>20</td>\n",
              "      <td>0.0</td>\n",
              "      <td>30</td>\n",
              "      <td>15.0</td>\n",
              "      <td>8</td>\n",
              "      <td>45.0</td>\n",
              "      <td>35</td>\n",
              "    </tr>\n",
              "    <tr>\n",
              "      <th>store 2</th>\n",
              "      <td>15</td>\n",
              "      <td>50.0</td>\n",
              "      <td>5</td>\n",
              "      <td>2.0</td>\n",
              "      <td>5</td>\n",
              "      <td>7.0</td>\n",
              "      <td>10</td>\n",
              "    </tr>\n",
              "    <tr>\n",
              "      <th>store 3</th>\n",
              "      <td>20</td>\n",
              "      <td>4.0</td>\n",
              "      <td>30</td>\n",
              "      <td>0.0</td>\n",
              "      <td>10</td>\n",
              "      <td>0.0</td>\n",
              "      <td>35</td>\n",
              "    </tr>\n",
              "  </tbody>\n",
              "</table>\n",
              "</div>"
            ],
            "text/plain": [
              "         bikes  glasses  pants  shirts  shoes  suits  watches\n",
              "store 1     20      0.0     30    15.0      8   45.0       35\n",
              "store 2     15     50.0      5     2.0      5    7.0       10\n",
              "store 3     20      4.0     30     0.0     10    0.0       35"
            ]
          },
          "metadata": {
            "tags": []
          },
          "execution_count": 99
        }
      ]
    },
    {
      "metadata": {
        "id": "esjd8gWtBJiT",
        "colab_type": "code",
        "outputId": "575f6046-9397-42ed-ac41-c043d7a41b0e",
        "colab": {
          "base_uri": "https://localhost:8080/",
          "height": 141
        }
      },
      "cell_type": "code",
      "source": [
        "# We create a list of Python dictionaries\n",
        "items2 = [{'bikes': 20, 'pants': 30, 'watches': 35, 'shirts': 15, 'shoes':8, 'suits':45},\n",
        "{'watches': 10, 'glasses': 50, 'bikes': 15, 'pants':5, 'shirts': 2, 'shoes':5, 'suits':7},\n",
        "{'bikes': 20, 'pants': 30, 'watches': 35, 'glasses': 4, 'shoes':10}]\n",
        "\n",
        "# We create a DataFrame  and provide the row index\n",
        "store_items = pd.DataFrame(items2, index = ['store 1', 'store 2', 'store 3'])\n",
        "\n",
        "# We display the DataFrame\n",
        "store_items"
      ],
      "execution_count": 0,
      "outputs": [
        {
          "output_type": "execute_result",
          "data": {
            "text/html": [
              "<div>\n",
              "<style scoped>\n",
              "    .dataframe tbody tr th:only-of-type {\n",
              "        vertical-align: middle;\n",
              "    }\n",
              "\n",
              "    .dataframe tbody tr th {\n",
              "        vertical-align: top;\n",
              "    }\n",
              "\n",
              "    .dataframe thead th {\n",
              "        text-align: right;\n",
              "    }\n",
              "</style>\n",
              "<table border=\"1\" class=\"dataframe\">\n",
              "  <thead>\n",
              "    <tr style=\"text-align: right;\">\n",
              "      <th></th>\n",
              "      <th>bikes</th>\n",
              "      <th>glasses</th>\n",
              "      <th>pants</th>\n",
              "      <th>shirts</th>\n",
              "      <th>shoes</th>\n",
              "      <th>suits</th>\n",
              "      <th>watches</th>\n",
              "    </tr>\n",
              "  </thead>\n",
              "  <tbody>\n",
              "    <tr>\n",
              "      <th>store 1</th>\n",
              "      <td>20</td>\n",
              "      <td>NaN</td>\n",
              "      <td>30</td>\n",
              "      <td>15.0</td>\n",
              "      <td>8</td>\n",
              "      <td>45.0</td>\n",
              "      <td>35</td>\n",
              "    </tr>\n",
              "    <tr>\n",
              "      <th>store 2</th>\n",
              "      <td>15</td>\n",
              "      <td>50.0</td>\n",
              "      <td>5</td>\n",
              "      <td>2.0</td>\n",
              "      <td>5</td>\n",
              "      <td>7.0</td>\n",
              "      <td>10</td>\n",
              "    </tr>\n",
              "    <tr>\n",
              "      <th>store 3</th>\n",
              "      <td>20</td>\n",
              "      <td>4.0</td>\n",
              "      <td>30</td>\n",
              "      <td>NaN</td>\n",
              "      <td>10</td>\n",
              "      <td>NaN</td>\n",
              "      <td>35</td>\n",
              "    </tr>\n",
              "  </tbody>\n",
              "</table>\n",
              "</div>"
            ],
            "text/plain": [
              "         bikes  glasses  pants  shirts  shoes  suits  watches\n",
              "store 1     20      NaN     30    15.0      8   45.0       35\n",
              "store 2     15     50.0      5     2.0      5    7.0       10\n",
              "store 3     20      4.0     30     NaN     10    NaN       35"
            ]
          },
          "metadata": {
            "tags": []
          },
          "execution_count": 107
        }
      ]
    },
    {
      "metadata": {
        "id": "uisKeKLF-5ut",
        "colab_type": "code",
        "outputId": "a0306a2c-2f16-4fb6-d652-213c5a0f3318",
        "colab": {
          "base_uri": "https://localhost:8080/",
          "height": 141
        }
      },
      "cell_type": "code",
      "source": [
        "# We replace NaN values with the previous value in the column\n",
        "store_items.fillna(method = 'ffill', axis = 0)"
      ],
      "execution_count": 0,
      "outputs": [
        {
          "output_type": "execute_result",
          "data": {
            "text/html": [
              "<div>\n",
              "<style scoped>\n",
              "    .dataframe tbody tr th:only-of-type {\n",
              "        vertical-align: middle;\n",
              "    }\n",
              "\n",
              "    .dataframe tbody tr th {\n",
              "        vertical-align: top;\n",
              "    }\n",
              "\n",
              "    .dataframe thead th {\n",
              "        text-align: right;\n",
              "    }\n",
              "</style>\n",
              "<table border=\"1\" class=\"dataframe\">\n",
              "  <thead>\n",
              "    <tr style=\"text-align: right;\">\n",
              "      <th></th>\n",
              "      <th>bikes</th>\n",
              "      <th>glasses</th>\n",
              "      <th>pants</th>\n",
              "      <th>shirts</th>\n",
              "      <th>shoes</th>\n",
              "      <th>suits</th>\n",
              "      <th>watches</th>\n",
              "    </tr>\n",
              "  </thead>\n",
              "  <tbody>\n",
              "    <tr>\n",
              "      <th>store 1</th>\n",
              "      <td>20</td>\n",
              "      <td>NaN</td>\n",
              "      <td>30</td>\n",
              "      <td>15.0</td>\n",
              "      <td>8</td>\n",
              "      <td>45.0</td>\n",
              "      <td>35</td>\n",
              "    </tr>\n",
              "    <tr>\n",
              "      <th>store 2</th>\n",
              "      <td>15</td>\n",
              "      <td>50.0</td>\n",
              "      <td>5</td>\n",
              "      <td>2.0</td>\n",
              "      <td>5</td>\n",
              "      <td>7.0</td>\n",
              "      <td>10</td>\n",
              "    </tr>\n",
              "    <tr>\n",
              "      <th>store 3</th>\n",
              "      <td>20</td>\n",
              "      <td>4.0</td>\n",
              "      <td>30</td>\n",
              "      <td>2.0</td>\n",
              "      <td>10</td>\n",
              "      <td>7.0</td>\n",
              "      <td>35</td>\n",
              "    </tr>\n",
              "  </tbody>\n",
              "</table>\n",
              "</div>"
            ],
            "text/plain": [
              "         bikes  glasses  pants  shirts  shoes  suits  watches\n",
              "store 1     20      NaN     30    15.0      8   45.0       35\n",
              "store 2     15     50.0      5     2.0      5    7.0       10\n",
              "store 3     20      4.0     30     2.0     10    7.0       35"
            ]
          },
          "metadata": {
            "tags": []
          },
          "execution_count": 100
        }
      ]
    },
    {
      "metadata": {
        "id": "54BI9iysBDVU",
        "colab_type": "code",
        "outputId": "c8ff9619-a22d-496e-cb40-9212b0216ead",
        "colab": {
          "base_uri": "https://localhost:8080/",
          "height": 141
        }
      },
      "cell_type": "code",
      "source": [
        "# We create a list of Python dictionaries\n",
        "items2 = [{'bikes': 20, 'pants': 30, 'watches': 35, 'shirts': 15, 'shoes':8, 'suits':45},\n",
        "{'watches': 10, 'glasses': 50, 'bikes': 15, 'pants':5, 'shirts': 2, 'shoes':5, 'suits':7},\n",
        "{'bikes': 20, 'pants': 30, 'watches': 35, 'glasses': 4, 'shoes':10}]\n",
        "\n",
        "# We create a DataFrame  and provide the row index\n",
        "store_items = pd.DataFrame(items2, index = ['store 1', 'store 2', 'store 3'])\n",
        "\n",
        "# We display the DataFrame\n",
        "store_items"
      ],
      "execution_count": 0,
      "outputs": [
        {
          "output_type": "execute_result",
          "data": {
            "text/html": [
              "<div>\n",
              "<style scoped>\n",
              "    .dataframe tbody tr th:only-of-type {\n",
              "        vertical-align: middle;\n",
              "    }\n",
              "\n",
              "    .dataframe tbody tr th {\n",
              "        vertical-align: top;\n",
              "    }\n",
              "\n",
              "    .dataframe thead th {\n",
              "        text-align: right;\n",
              "    }\n",
              "</style>\n",
              "<table border=\"1\" class=\"dataframe\">\n",
              "  <thead>\n",
              "    <tr style=\"text-align: right;\">\n",
              "      <th></th>\n",
              "      <th>bikes</th>\n",
              "      <th>glasses</th>\n",
              "      <th>pants</th>\n",
              "      <th>shirts</th>\n",
              "      <th>shoes</th>\n",
              "      <th>suits</th>\n",
              "      <th>watches</th>\n",
              "    </tr>\n",
              "  </thead>\n",
              "  <tbody>\n",
              "    <tr>\n",
              "      <th>store 1</th>\n",
              "      <td>20</td>\n",
              "      <td>NaN</td>\n",
              "      <td>30</td>\n",
              "      <td>15.0</td>\n",
              "      <td>8</td>\n",
              "      <td>45.0</td>\n",
              "      <td>35</td>\n",
              "    </tr>\n",
              "    <tr>\n",
              "      <th>store 2</th>\n",
              "      <td>15</td>\n",
              "      <td>50.0</td>\n",
              "      <td>5</td>\n",
              "      <td>2.0</td>\n",
              "      <td>5</td>\n",
              "      <td>7.0</td>\n",
              "      <td>10</td>\n",
              "    </tr>\n",
              "    <tr>\n",
              "      <th>store 3</th>\n",
              "      <td>20</td>\n",
              "      <td>4.0</td>\n",
              "      <td>30</td>\n",
              "      <td>NaN</td>\n",
              "      <td>10</td>\n",
              "      <td>NaN</td>\n",
              "      <td>35</td>\n",
              "    </tr>\n",
              "  </tbody>\n",
              "</table>\n",
              "</div>"
            ],
            "text/plain": [
              "         bikes  glasses  pants  shirts  shoes  suits  watches\n",
              "store 1     20      NaN     30    15.0      8   45.0       35\n",
              "store 2     15     50.0      5     2.0      5    7.0       10\n",
              "store 3     20      4.0     30     NaN     10    NaN       35"
            ]
          },
          "metadata": {
            "tags": []
          },
          "execution_count": 106
        }
      ]
    },
    {
      "metadata": {
        "id": "2m6XOlSi--V5",
        "colab_type": "code",
        "outputId": "aa384381-904f-438e-e4ab-3ebc23436b1f",
        "colab": {
          "base_uri": "https://localhost:8080/",
          "height": 141
        }
      },
      "cell_type": "code",
      "source": [
        "# We replace NaN values with the previous value in the row\n",
        "store_items.fillna(method = 'ffill', axis = 1)"
      ],
      "execution_count": 0,
      "outputs": [
        {
          "output_type": "execute_result",
          "data": {
            "text/html": [
              "<div>\n",
              "<style scoped>\n",
              "    .dataframe tbody tr th:only-of-type {\n",
              "        vertical-align: middle;\n",
              "    }\n",
              "\n",
              "    .dataframe tbody tr th {\n",
              "        vertical-align: top;\n",
              "    }\n",
              "\n",
              "    .dataframe thead th {\n",
              "        text-align: right;\n",
              "    }\n",
              "</style>\n",
              "<table border=\"1\" class=\"dataframe\">\n",
              "  <thead>\n",
              "    <tr style=\"text-align: right;\">\n",
              "      <th></th>\n",
              "      <th>bikes</th>\n",
              "      <th>glasses</th>\n",
              "      <th>pants</th>\n",
              "      <th>shirts</th>\n",
              "      <th>shoes</th>\n",
              "      <th>suits</th>\n",
              "      <th>watches</th>\n",
              "    </tr>\n",
              "  </thead>\n",
              "  <tbody>\n",
              "    <tr>\n",
              "      <th>store 1</th>\n",
              "      <td>20.0</td>\n",
              "      <td>20.0</td>\n",
              "      <td>30.0</td>\n",
              "      <td>15.0</td>\n",
              "      <td>8.0</td>\n",
              "      <td>45.0</td>\n",
              "      <td>35.0</td>\n",
              "    </tr>\n",
              "    <tr>\n",
              "      <th>store 2</th>\n",
              "      <td>15.0</td>\n",
              "      <td>50.0</td>\n",
              "      <td>5.0</td>\n",
              "      <td>2.0</td>\n",
              "      <td>5.0</td>\n",
              "      <td>7.0</td>\n",
              "      <td>10.0</td>\n",
              "    </tr>\n",
              "    <tr>\n",
              "      <th>store 3</th>\n",
              "      <td>20.0</td>\n",
              "      <td>4.0</td>\n",
              "      <td>30.0</td>\n",
              "      <td>30.0</td>\n",
              "      <td>10.0</td>\n",
              "      <td>10.0</td>\n",
              "      <td>35.0</td>\n",
              "    </tr>\n",
              "  </tbody>\n",
              "</table>\n",
              "</div>"
            ],
            "text/plain": [
              "         bikes  glasses  pants  shirts  shoes  suits  watches\n",
              "store 1   20.0     20.0   30.0    15.0    8.0   45.0     35.0\n",
              "store 2   15.0     50.0    5.0     2.0    5.0    7.0     10.0\n",
              "store 3   20.0      4.0   30.0    30.0   10.0   10.0     35.0"
            ]
          },
          "metadata": {
            "tags": []
          },
          "execution_count": 101
        }
      ]
    },
    {
      "metadata": {
        "id": "dqyrfcKjA3x8",
        "colab_type": "code",
        "outputId": "e2d54a42-b2f1-4afb-f96f-c6ebd2615738",
        "colab": {
          "base_uri": "https://localhost:8080/",
          "height": 141
        }
      },
      "cell_type": "code",
      "source": [
        "# We create a list of Python dictionaries\n",
        "items2 = [{'bikes': 20, 'pants': 30, 'watches': 35, 'shirts': 15, 'shoes':8, 'suits':45},\n",
        "{'watches': 10, 'glasses': 50, 'bikes': 15, 'pants':5, 'shirts': 2, 'shoes':5, 'suits':7},\n",
        "{'bikes': 20, 'pants': 30, 'watches': 35, 'glasses': 4, 'shoes':10}]\n",
        "\n",
        "# We create a DataFrame  and provide the row index\n",
        "store_items = pd.DataFrame(items2, index = ['store 1', 'store 2', 'store 3'])\n",
        "\n",
        "# We display the DataFrame\n",
        "store_items"
      ],
      "execution_count": 0,
      "outputs": [
        {
          "output_type": "execute_result",
          "data": {
            "text/html": [
              "<div>\n",
              "<style scoped>\n",
              "    .dataframe tbody tr th:only-of-type {\n",
              "        vertical-align: middle;\n",
              "    }\n",
              "\n",
              "    .dataframe tbody tr th {\n",
              "        vertical-align: top;\n",
              "    }\n",
              "\n",
              "    .dataframe thead th {\n",
              "        text-align: right;\n",
              "    }\n",
              "</style>\n",
              "<table border=\"1\" class=\"dataframe\">\n",
              "  <thead>\n",
              "    <tr style=\"text-align: right;\">\n",
              "      <th></th>\n",
              "      <th>bikes</th>\n",
              "      <th>glasses</th>\n",
              "      <th>pants</th>\n",
              "      <th>shirts</th>\n",
              "      <th>shoes</th>\n",
              "      <th>suits</th>\n",
              "      <th>watches</th>\n",
              "    </tr>\n",
              "  </thead>\n",
              "  <tbody>\n",
              "    <tr>\n",
              "      <th>store 1</th>\n",
              "      <td>20</td>\n",
              "      <td>NaN</td>\n",
              "      <td>30</td>\n",
              "      <td>15.0</td>\n",
              "      <td>8</td>\n",
              "      <td>45.0</td>\n",
              "      <td>35</td>\n",
              "    </tr>\n",
              "    <tr>\n",
              "      <th>store 2</th>\n",
              "      <td>15</td>\n",
              "      <td>50.0</td>\n",
              "      <td>5</td>\n",
              "      <td>2.0</td>\n",
              "      <td>5</td>\n",
              "      <td>7.0</td>\n",
              "      <td>10</td>\n",
              "    </tr>\n",
              "    <tr>\n",
              "      <th>store 3</th>\n",
              "      <td>20</td>\n",
              "      <td>4.0</td>\n",
              "      <td>30</td>\n",
              "      <td>NaN</td>\n",
              "      <td>10</td>\n",
              "      <td>NaN</td>\n",
              "      <td>35</td>\n",
              "    </tr>\n",
              "  </tbody>\n",
              "</table>\n",
              "</div>"
            ],
            "text/plain": [
              "         bikes  glasses  pants  shirts  shoes  suits  watches\n",
              "store 1     20      NaN     30    15.0      8   45.0       35\n",
              "store 2     15     50.0      5     2.0      5    7.0       10\n",
              "store 3     20      4.0     30     NaN     10    NaN       35"
            ]
          },
          "metadata": {
            "tags": []
          },
          "execution_count": 105
        }
      ]
    },
    {
      "metadata": {
        "id": "1VvnNBea_Qz-",
        "colab_type": "code",
        "outputId": "c83dfc0a-2da5-41ab-8c39-490ee383a9d9",
        "colab": {
          "base_uri": "https://localhost:8080/",
          "height": 141
        }
      },
      "cell_type": "code",
      "source": [
        "# We replace NaN values with the next value in the column\n",
        "store_items.fillna(method = 'backfill', axis = 0)"
      ],
      "execution_count": 0,
      "outputs": [
        {
          "output_type": "execute_result",
          "data": {
            "text/html": [
              "<div>\n",
              "<style scoped>\n",
              "    .dataframe tbody tr th:only-of-type {\n",
              "        vertical-align: middle;\n",
              "    }\n",
              "\n",
              "    .dataframe tbody tr th {\n",
              "        vertical-align: top;\n",
              "    }\n",
              "\n",
              "    .dataframe thead th {\n",
              "        text-align: right;\n",
              "    }\n",
              "</style>\n",
              "<table border=\"1\" class=\"dataframe\">\n",
              "  <thead>\n",
              "    <tr style=\"text-align: right;\">\n",
              "      <th></th>\n",
              "      <th>bikes</th>\n",
              "      <th>glasses</th>\n",
              "      <th>pants</th>\n",
              "      <th>shirts</th>\n",
              "      <th>shoes</th>\n",
              "      <th>suits</th>\n",
              "      <th>watches</th>\n",
              "    </tr>\n",
              "  </thead>\n",
              "  <tbody>\n",
              "    <tr>\n",
              "      <th>store 1</th>\n",
              "      <td>20</td>\n",
              "      <td>50.0</td>\n",
              "      <td>30</td>\n",
              "      <td>15.0</td>\n",
              "      <td>8</td>\n",
              "      <td>45.0</td>\n",
              "      <td>35</td>\n",
              "    </tr>\n",
              "    <tr>\n",
              "      <th>store 2</th>\n",
              "      <td>15</td>\n",
              "      <td>50.0</td>\n",
              "      <td>5</td>\n",
              "      <td>2.0</td>\n",
              "      <td>5</td>\n",
              "      <td>7.0</td>\n",
              "      <td>10</td>\n",
              "    </tr>\n",
              "    <tr>\n",
              "      <th>store 3</th>\n",
              "      <td>20</td>\n",
              "      <td>4.0</td>\n",
              "      <td>30</td>\n",
              "      <td>NaN</td>\n",
              "      <td>10</td>\n",
              "      <td>NaN</td>\n",
              "      <td>35</td>\n",
              "    </tr>\n",
              "  </tbody>\n",
              "</table>\n",
              "</div>"
            ],
            "text/plain": [
              "         bikes  glasses  pants  shirts  shoes  suits  watches\n",
              "store 1     20     50.0     30    15.0      8   45.0       35\n",
              "store 2     15     50.0      5     2.0      5    7.0       10\n",
              "store 3     20      4.0     30     NaN     10    NaN       35"
            ]
          },
          "metadata": {
            "tags": []
          },
          "execution_count": 102
        }
      ]
    },
    {
      "metadata": {
        "id": "XraI3CteArqZ",
        "colab_type": "code",
        "outputId": "5bb4f4e7-ae72-4fc4-a13b-bfbe862aece2",
        "colab": {
          "base_uri": "https://localhost:8080/",
          "height": 141
        }
      },
      "cell_type": "code",
      "source": [
        "# We create a list of Python dictionaries\n",
        "items2 = [{'bikes': 20, 'pants': 30, 'watches': 35, 'shirts': 15, 'shoes':8, 'suits':45},\n",
        "{'watches': 10, 'glasses': 50, 'bikes': 15, 'pants':5, 'shirts': 2, 'shoes':5, 'suits':7},\n",
        "{'bikes': 20, 'pants': 30, 'watches': 35, 'glasses': 4, 'shoes':10}]\n",
        "\n",
        "# We create a DataFrame  and provide the row index\n",
        "store_items = pd.DataFrame(items2, index = ['store 1', 'store 2', 'store 3'])\n",
        "\n",
        "# We display the DataFrame\n",
        "store_items"
      ],
      "execution_count": 0,
      "outputs": [
        {
          "output_type": "execute_result",
          "data": {
            "text/html": [
              "<div>\n",
              "<style scoped>\n",
              "    .dataframe tbody tr th:only-of-type {\n",
              "        vertical-align: middle;\n",
              "    }\n",
              "\n",
              "    .dataframe tbody tr th {\n",
              "        vertical-align: top;\n",
              "    }\n",
              "\n",
              "    .dataframe thead th {\n",
              "        text-align: right;\n",
              "    }\n",
              "</style>\n",
              "<table border=\"1\" class=\"dataframe\">\n",
              "  <thead>\n",
              "    <tr style=\"text-align: right;\">\n",
              "      <th></th>\n",
              "      <th>bikes</th>\n",
              "      <th>glasses</th>\n",
              "      <th>pants</th>\n",
              "      <th>shirts</th>\n",
              "      <th>shoes</th>\n",
              "      <th>suits</th>\n",
              "      <th>watches</th>\n",
              "    </tr>\n",
              "  </thead>\n",
              "  <tbody>\n",
              "    <tr>\n",
              "      <th>store 1</th>\n",
              "      <td>20</td>\n",
              "      <td>NaN</td>\n",
              "      <td>30</td>\n",
              "      <td>15.0</td>\n",
              "      <td>8</td>\n",
              "      <td>45.0</td>\n",
              "      <td>35</td>\n",
              "    </tr>\n",
              "    <tr>\n",
              "      <th>store 2</th>\n",
              "      <td>15</td>\n",
              "      <td>50.0</td>\n",
              "      <td>5</td>\n",
              "      <td>2.0</td>\n",
              "      <td>5</td>\n",
              "      <td>7.0</td>\n",
              "      <td>10</td>\n",
              "    </tr>\n",
              "    <tr>\n",
              "      <th>store 3</th>\n",
              "      <td>20</td>\n",
              "      <td>4.0</td>\n",
              "      <td>30</td>\n",
              "      <td>NaN</td>\n",
              "      <td>10</td>\n",
              "      <td>NaN</td>\n",
              "      <td>35</td>\n",
              "    </tr>\n",
              "  </tbody>\n",
              "</table>\n",
              "</div>"
            ],
            "text/plain": [
              "         bikes  glasses  pants  shirts  shoes  suits  watches\n",
              "store 1     20      NaN     30    15.0      8   45.0       35\n",
              "store 2     15     50.0      5     2.0      5    7.0       10\n",
              "store 3     20      4.0     30     NaN     10    NaN       35"
            ]
          },
          "metadata": {
            "tags": []
          },
          "execution_count": 104
        }
      ]
    },
    {
      "metadata": {
        "id": "0977oF-a_c76",
        "colab_type": "code",
        "outputId": "364228e3-9fcf-4333-ecd1-f3587e880200",
        "colab": {
          "base_uri": "https://localhost:8080/",
          "height": 141
        }
      },
      "cell_type": "code",
      "source": [
        "# We replace NaN values with the next value in the row\n",
        "store_items.fillna(method = 'backfill', axis = 1)"
      ],
      "execution_count": 0,
      "outputs": [
        {
          "output_type": "execute_result",
          "data": {
            "text/html": [
              "<div>\n",
              "<style scoped>\n",
              "    .dataframe tbody tr th:only-of-type {\n",
              "        vertical-align: middle;\n",
              "    }\n",
              "\n",
              "    .dataframe tbody tr th {\n",
              "        vertical-align: top;\n",
              "    }\n",
              "\n",
              "    .dataframe thead th {\n",
              "        text-align: right;\n",
              "    }\n",
              "</style>\n",
              "<table border=\"1\" class=\"dataframe\">\n",
              "  <thead>\n",
              "    <tr style=\"text-align: right;\">\n",
              "      <th></th>\n",
              "      <th>bikes</th>\n",
              "      <th>glasses</th>\n",
              "      <th>pants</th>\n",
              "      <th>shirts</th>\n",
              "      <th>shoes</th>\n",
              "      <th>suits</th>\n",
              "      <th>watches</th>\n",
              "    </tr>\n",
              "  </thead>\n",
              "  <tbody>\n",
              "    <tr>\n",
              "      <th>store 1</th>\n",
              "      <td>20.0</td>\n",
              "      <td>30.0</td>\n",
              "      <td>30.0</td>\n",
              "      <td>15.0</td>\n",
              "      <td>8.0</td>\n",
              "      <td>45.0</td>\n",
              "      <td>35.0</td>\n",
              "    </tr>\n",
              "    <tr>\n",
              "      <th>store 2</th>\n",
              "      <td>15.0</td>\n",
              "      <td>50.0</td>\n",
              "      <td>5.0</td>\n",
              "      <td>2.0</td>\n",
              "      <td>5.0</td>\n",
              "      <td>7.0</td>\n",
              "      <td>10.0</td>\n",
              "    </tr>\n",
              "    <tr>\n",
              "      <th>store 3</th>\n",
              "      <td>20.0</td>\n",
              "      <td>4.0</td>\n",
              "      <td>30.0</td>\n",
              "      <td>10.0</td>\n",
              "      <td>10.0</td>\n",
              "      <td>35.0</td>\n",
              "      <td>35.0</td>\n",
              "    </tr>\n",
              "  </tbody>\n",
              "</table>\n",
              "</div>"
            ],
            "text/plain": [
              "         bikes  glasses  pants  shirts  shoes  suits  watches\n",
              "store 1   20.0     30.0   30.0    15.0    8.0   45.0     35.0\n",
              "store 2   15.0     50.0    5.0     2.0    5.0    7.0     10.0\n",
              "store 3   20.0      4.0   30.0    10.0   10.0   35.0     35.0"
            ]
          },
          "metadata": {
            "tags": []
          },
          "execution_count": 103
        }
      ]
    },
    {
      "metadata": {
        "id": "O68g7twZAckn",
        "colab_type": "code",
        "outputId": "ede60498-2143-4f61-8ac8-cfa28c8e2753",
        "colab": {
          "base_uri": "https://localhost:8080/",
          "height": 141
        }
      },
      "cell_type": "code",
      "source": [
        "# We replace NaN values by using linear interpolation using column values\n",
        "store_items.interpolate(method = 'linear', axis = 0)"
      ],
      "execution_count": 0,
      "outputs": [
        {
          "output_type": "execute_result",
          "data": {
            "text/html": [
              "<div>\n",
              "<style scoped>\n",
              "    .dataframe tbody tr th:only-of-type {\n",
              "        vertical-align: middle;\n",
              "    }\n",
              "\n",
              "    .dataframe tbody tr th {\n",
              "        vertical-align: top;\n",
              "    }\n",
              "\n",
              "    .dataframe thead th {\n",
              "        text-align: right;\n",
              "    }\n",
              "</style>\n",
              "<table border=\"1\" class=\"dataframe\">\n",
              "  <thead>\n",
              "    <tr style=\"text-align: right;\">\n",
              "      <th></th>\n",
              "      <th>bikes</th>\n",
              "      <th>glasses</th>\n",
              "      <th>pants</th>\n",
              "      <th>shirts</th>\n",
              "      <th>shoes</th>\n",
              "      <th>suits</th>\n",
              "      <th>watches</th>\n",
              "    </tr>\n",
              "  </thead>\n",
              "  <tbody>\n",
              "    <tr>\n",
              "      <th>store 1</th>\n",
              "      <td>20</td>\n",
              "      <td>NaN</td>\n",
              "      <td>30</td>\n",
              "      <td>15.0</td>\n",
              "      <td>8</td>\n",
              "      <td>45.0</td>\n",
              "      <td>35</td>\n",
              "    </tr>\n",
              "    <tr>\n",
              "      <th>store 2</th>\n",
              "      <td>15</td>\n",
              "      <td>50.0</td>\n",
              "      <td>5</td>\n",
              "      <td>2.0</td>\n",
              "      <td>5</td>\n",
              "      <td>7.0</td>\n",
              "      <td>10</td>\n",
              "    </tr>\n",
              "    <tr>\n",
              "      <th>store 3</th>\n",
              "      <td>20</td>\n",
              "      <td>4.0</td>\n",
              "      <td>30</td>\n",
              "      <td>2.0</td>\n",
              "      <td>10</td>\n",
              "      <td>7.0</td>\n",
              "      <td>35</td>\n",
              "    </tr>\n",
              "  </tbody>\n",
              "</table>\n",
              "</div>"
            ],
            "text/plain": [
              "         bikes  glasses  pants  shirts  shoes  suits  watches\n",
              "store 1     20      NaN     30    15.0      8   45.0       35\n",
              "store 2     15     50.0      5     2.0      5    7.0       10\n",
              "store 3     20      4.0     30     2.0     10    7.0       35"
            ]
          },
          "metadata": {
            "tags": []
          },
          "execution_count": 111
        }
      ]
    },
    {
      "metadata": {
        "id": "5iGh9qObB1us",
        "colab_type": "code",
        "outputId": "ad34e546-ed0c-4f63-f48e-fb408f2e28ff",
        "colab": {
          "base_uri": "https://localhost:8080/",
          "height": 141
        }
      },
      "cell_type": "code",
      "source": [
        "# We replace NaN values by using linear interpolation using row values\n",
        "store_items.interpolate(method = 'linear', axis = 1)"
      ],
      "execution_count": 0,
      "outputs": [
        {
          "output_type": "execute_result",
          "data": {
            "text/html": [
              "<div>\n",
              "<style scoped>\n",
              "    .dataframe tbody tr th:only-of-type {\n",
              "        vertical-align: middle;\n",
              "    }\n",
              "\n",
              "    .dataframe tbody tr th {\n",
              "        vertical-align: top;\n",
              "    }\n",
              "\n",
              "    .dataframe thead th {\n",
              "        text-align: right;\n",
              "    }\n",
              "</style>\n",
              "<table border=\"1\" class=\"dataframe\">\n",
              "  <thead>\n",
              "    <tr style=\"text-align: right;\">\n",
              "      <th></th>\n",
              "      <th>bikes</th>\n",
              "      <th>glasses</th>\n",
              "      <th>pants</th>\n",
              "      <th>shirts</th>\n",
              "      <th>shoes</th>\n",
              "      <th>suits</th>\n",
              "      <th>watches</th>\n",
              "    </tr>\n",
              "  </thead>\n",
              "  <tbody>\n",
              "    <tr>\n",
              "      <th>store 1</th>\n",
              "      <td>20.0</td>\n",
              "      <td>25.0</td>\n",
              "      <td>30.0</td>\n",
              "      <td>15.0</td>\n",
              "      <td>8.0</td>\n",
              "      <td>45.0</td>\n",
              "      <td>35.0</td>\n",
              "    </tr>\n",
              "    <tr>\n",
              "      <th>store 2</th>\n",
              "      <td>15.0</td>\n",
              "      <td>50.0</td>\n",
              "      <td>5.0</td>\n",
              "      <td>2.0</td>\n",
              "      <td>5.0</td>\n",
              "      <td>7.0</td>\n",
              "      <td>10.0</td>\n",
              "    </tr>\n",
              "    <tr>\n",
              "      <th>store 3</th>\n",
              "      <td>20.0</td>\n",
              "      <td>4.0</td>\n",
              "      <td>30.0</td>\n",
              "      <td>20.0</td>\n",
              "      <td>10.0</td>\n",
              "      <td>22.5</td>\n",
              "      <td>35.0</td>\n",
              "    </tr>\n",
              "  </tbody>\n",
              "</table>\n",
              "</div>"
            ],
            "text/plain": [
              "         bikes  glasses  pants  shirts  shoes  suits  watches\n",
              "store 1   20.0     25.0   30.0    15.0    8.0   45.0     35.0\n",
              "store 2   15.0     50.0    5.0     2.0    5.0    7.0     10.0\n",
              "store 3   20.0      4.0   30.0    20.0   10.0   22.5     35.0"
            ]
          },
          "metadata": {
            "tags": []
          },
          "execution_count": 112
        }
      ]
    },
    {
      "metadata": {
        "id": "zafx48fZCCxm",
        "colab_type": "code",
        "colab": {}
      },
      "cell_type": "code",
      "source": [
        "# import pandas as pd\n",
        "# import numpy as np\n",
        "\n",
        "# # Since we will be working with ratings, we will set the precision of our \n",
        "# # dataframes to one decimal place.\n",
        "# pd.set_option('precision', 1)\n",
        "\n",
        "# # Create a Pandas DataFrame that contains the ratings some users have given to a\n",
        "# # series of books. The ratings given are in the range from 1 to 5, with 5 being\n",
        "# # the best score. The names of the books, the authors, and the ratings of each user\n",
        "# # are given below:\n",
        "\n",
        "# books = pd.Series(data = ['Great Expectations', 'Of Mice and Men', 'Romeo and Juliet', 'The Time Machine', 'Alice in Wonderland' ])\n",
        "# authors = pd.Series(data = ['Charles Dickens', 'John Steinbeck', 'William Shakespeare', ' H. G. Wells', 'Lewis Carroll' ])\n",
        "\n",
        "# user_1 = pd.Series(data = [3.2, np.nan ,2.5])\n",
        "# user_2 = pd.Series(data = [5., 1.3, 4.0, 3.8])\n",
        "# user_3 = pd.Series(data = [2.0, 2.3, np.nan, 4])\n",
        "# user_4 = pd.Series(data = [4, 3.5, 4, 5, 4.2])\n",
        "\n",
        "# # Users that have np.nan values means that the user has not yet rated that book.\n",
        "# # Use the data above to create a Pandas DataFrame that has the following column\n",
        "# # labels: 'Author', 'Book Title', 'User 1', 'User 2', 'User 3', 'User 4'. Let Pandas\n",
        "# # automatically assign numerical row indices to the DataFrame. \n",
        "\n",
        "# # Create a dictionary with the data given above\n",
        "# dat = \n",
        "\n",
        "# # Use the dictionary to create a Pandas DataFrame\n",
        "# book_ratings = \n",
        "\n",
        "# # If you created the dictionary correctly you should have a Pandas DataFrame\n",
        "# # that has column labels: 'Author', 'Book Title', 'User 1', 'User 2', 'User 3',\n",
        "# # 'User 4' and row indices 0 through 4.\n",
        "\n",
        "# # Now replace all the NaN values in your DataFrame with the average rating in\n",
        "# # each column. Replace the NaN values in place. HINT: you can use the fillna()\n",
        "# # function with the keyword inplace = True, to do this. Write your code below:\n",
        "\n",
        "\n",
        "\n"
      ],
      "execution_count": 0,
      "outputs": []
    },
    {
      "metadata": {
        "id": "XEiG6ysaCaJU",
        "colab_type": "code",
        "colab": {}
      },
      "cell_type": "code",
      "source": [
        "import pandas as pd\n",
        "import numpy as np\n",
        "\n",
        "pd.set_option('precision', 1)\n",
        "\n",
        "books = pd.Series(data = ['Great Expectations', 'Of Mice and Men', 'Romeo and Juliet', 'The Time Machine', 'Alice in Wonderland' ])\n",
        "authors = pd.Series(data = ['Charles Dickens', 'John Steinbeck', 'William Shakespeare', ' H. G. Wells', 'Lewis Carroll' ])\n",
        "user_1 = pd.Series(data = [3.2, np.nan ,2.5])\n",
        "user_2 = pd.Series(data = [5., 1.3, 4.0, 3.8])\n",
        "user_3 = pd.Series(data = [2.0, 2.3, np.nan, 4])\n",
        "user_4 = pd.Series(data = [4, 3.5, 4, 5, 4.2])\n",
        "\n",
        "dat = {'Book Title' : books,\n",
        "       'Author' : authors,\n",
        "       'User 1' : user_1,\n",
        "       'User 2' : user_2,\n",
        "       'User 3' : user_3,\n",
        "       'User 4' : user_4}\n",
        "\n",
        "book_ratings = pd.DataFrame(dat)\n",
        "\n",
        "book_ratings.fillna(book_ratings.mean(), inplace = True)\n"
      ],
      "execution_count": 0,
      "outputs": []
    },
    {
      "metadata": {
        "id": "qp2PLia8DcWN",
        "colab_type": "code",
        "colab": {}
      },
      "cell_type": "code",
      "source": [
        ""
      ],
      "execution_count": 0,
      "outputs": []
    },
    {
      "metadata": {
        "id": "Cs8YtdjfDkn7",
        "colab_type": "code",
        "colab": {}
      },
      "cell_type": "code",
      "source": [
        "# Install the PyDrive wrapper & import libraries.\n",
        "# This only needs to be done once per notebook.\n",
        "!pip install -U -q PyDrive\n",
        "from pydrive.auth import GoogleAuth\n",
        "from pydrive.drive import GoogleDrive\n",
        "from google.colab import auth\n",
        "from oauth2client.client import GoogleCredentials\n",
        "\n",
        "# Authenticate and create the PyDrive client.\n",
        "# This only needs to be done once per notebook.\n",
        "auth.authenticate_user()\n",
        "gauth = GoogleAuth()\n",
        "gauth.credentials = GoogleCredentials.get_application_default()\n",
        "drive = GoogleDrive(gauth)\n",
        "\n",
        "# # Download a file based on its file ID.\n",
        "# #\n",
        "# # A file ID looks like: laggVyWshwcyP6kEI-y_W3P8D26sz\n",
        "# file_id = 'REPLACE_WITH_YOUR_FILE_ID'\n",
        "# downloaded = drive.CreateFile({'id': file_id})\n",
        "# print('Downloaded content \"{}\"'.format(downloaded.GetContentString()))"
      ],
      "execution_count": 0,
      "outputs": []
    },
    {
      "metadata": {
        "id": "hp-K0HOiEGYr",
        "colab_type": "code",
        "colab": {}
      },
      "cell_type": "code",
      "source": [
        ""
      ],
      "execution_count": 0,
      "outputs": []
    },
    {
      "metadata": {
        "id": "lzewPAzJC-06",
        "colab_type": "code",
        "outputId": "4683fb72-25a2-4c7a-ad27-9bb9b3ba9a8e",
        "colab": {
          "base_uri": "https://localhost:8080/",
          "height": 52
        }
      },
      "cell_type": "code",
      "source": [
        "# We load Google stock data in a DataFrame\n",
        "Google_stock = pd.read_csv('/content/goog-1.csv')\n",
        "\n",
        "# We print some information about Google_stock\n",
        "print('Google_stock is of type:', type(Google_stock))\n",
        "print('Google_stock has shape:', Google_stock.shape)"
      ],
      "execution_count": 0,
      "outputs": [
        {
          "output_type": "stream",
          "text": [
            "Google_stock is of type: <class 'pandas.core.frame.DataFrame'>\n",
            "Google_stock has shape: (3313, 7)\n"
          ],
          "name": "stdout"
        }
      ]
    },
    {
      "metadata": {
        "id": "R7W9cGD3Daw5",
        "colab_type": "code",
        "outputId": "ac0ad9ee-50eb-4399-d464-4aeab73fb3bd",
        "colab": {
          "base_uri": "https://localhost:8080/",
          "height": 1949
        }
      },
      "cell_type": "code",
      "source": [
        "Google_stock\n"
      ],
      "execution_count": 0,
      "outputs": [
        {
          "output_type": "execute_result",
          "data": {
            "text/html": [
              "<div>\n",
              "<style scoped>\n",
              "    .dataframe tbody tr th:only-of-type {\n",
              "        vertical-align: middle;\n",
              "    }\n",
              "\n",
              "    .dataframe tbody tr th {\n",
              "        vertical-align: top;\n",
              "    }\n",
              "\n",
              "    .dataframe thead th {\n",
              "        text-align: right;\n",
              "    }\n",
              "</style>\n",
              "<table border=\"1\" class=\"dataframe\">\n",
              "  <thead>\n",
              "    <tr style=\"text-align: right;\">\n",
              "      <th></th>\n",
              "      <th>Date</th>\n",
              "      <th>Open</th>\n",
              "      <th>High</th>\n",
              "      <th>Low</th>\n",
              "      <th>Close</th>\n",
              "      <th>Adj Close</th>\n",
              "      <th>Volume</th>\n",
              "    </tr>\n",
              "  </thead>\n",
              "  <tbody>\n",
              "    <tr>\n",
              "      <th>0</th>\n",
              "      <td>2004-08-19</td>\n",
              "      <td>49.7</td>\n",
              "      <td>51.7</td>\n",
              "      <td>47.7</td>\n",
              "      <td>49.8</td>\n",
              "      <td>49.8</td>\n",
              "      <td>44994500</td>\n",
              "    </tr>\n",
              "    <tr>\n",
              "      <th>1</th>\n",
              "      <td>2004-08-20</td>\n",
              "      <td>50.2</td>\n",
              "      <td>54.2</td>\n",
              "      <td>49.9</td>\n",
              "      <td>53.8</td>\n",
              "      <td>53.8</td>\n",
              "      <td>23005800</td>\n",
              "    </tr>\n",
              "    <tr>\n",
              "      <th>2</th>\n",
              "      <td>2004-08-23</td>\n",
              "      <td>55.0</td>\n",
              "      <td>56.4</td>\n",
              "      <td>54.2</td>\n",
              "      <td>54.3</td>\n",
              "      <td>54.3</td>\n",
              "      <td>18393200</td>\n",
              "    </tr>\n",
              "    <tr>\n",
              "      <th>3</th>\n",
              "      <td>2004-08-24</td>\n",
              "      <td>55.3</td>\n",
              "      <td>55.4</td>\n",
              "      <td>51.5</td>\n",
              "      <td>52.1</td>\n",
              "      <td>52.1</td>\n",
              "      <td>15361800</td>\n",
              "    </tr>\n",
              "    <tr>\n",
              "      <th>4</th>\n",
              "      <td>2004-08-25</td>\n",
              "      <td>52.1</td>\n",
              "      <td>53.7</td>\n",
              "      <td>51.6</td>\n",
              "      <td>52.7</td>\n",
              "      <td>52.7</td>\n",
              "      <td>9257400</td>\n",
              "    </tr>\n",
              "    <tr>\n",
              "      <th>5</th>\n",
              "      <td>2004-08-26</td>\n",
              "      <td>52.1</td>\n",
              "      <td>53.6</td>\n",
              "      <td>52.0</td>\n",
              "      <td>53.6</td>\n",
              "      <td>53.6</td>\n",
              "      <td>7148200</td>\n",
              "    </tr>\n",
              "    <tr>\n",
              "      <th>6</th>\n",
              "      <td>2004-08-27</td>\n",
              "      <td>53.7</td>\n",
              "      <td>54.0</td>\n",
              "      <td>52.5</td>\n",
              "      <td>52.7</td>\n",
              "      <td>52.7</td>\n",
              "      <td>6258300</td>\n",
              "    </tr>\n",
              "    <tr>\n",
              "      <th>7</th>\n",
              "      <td>2004-08-30</td>\n",
              "      <td>52.3</td>\n",
              "      <td>52.4</td>\n",
              "      <td>50.7</td>\n",
              "      <td>50.7</td>\n",
              "      <td>50.7</td>\n",
              "      <td>5235700</td>\n",
              "    </tr>\n",
              "    <tr>\n",
              "      <th>8</th>\n",
              "      <td>2004-08-31</td>\n",
              "      <td>50.8</td>\n",
              "      <td>51.5</td>\n",
              "      <td>50.7</td>\n",
              "      <td>50.9</td>\n",
              "      <td>50.9</td>\n",
              "      <td>4954800</td>\n",
              "    </tr>\n",
              "    <tr>\n",
              "      <th>9</th>\n",
              "      <td>2004-09-01</td>\n",
              "      <td>51.0</td>\n",
              "      <td>51.2</td>\n",
              "      <td>49.5</td>\n",
              "      <td>49.8</td>\n",
              "      <td>49.8</td>\n",
              "      <td>9206800</td>\n",
              "    </tr>\n",
              "    <tr>\n",
              "      <th>10</th>\n",
              "      <td>2004-09-02</td>\n",
              "      <td>49.3</td>\n",
              "      <td>50.9</td>\n",
              "      <td>49.2</td>\n",
              "      <td>50.4</td>\n",
              "      <td>50.4</td>\n",
              "      <td>15232100</td>\n",
              "    </tr>\n",
              "    <tr>\n",
              "      <th>11</th>\n",
              "      <td>2004-09-03</td>\n",
              "      <td>50.1</td>\n",
              "      <td>50.5</td>\n",
              "      <td>49.3</td>\n",
              "      <td>49.7</td>\n",
              "      <td>49.7</td>\n",
              "      <td>5191000</td>\n",
              "    </tr>\n",
              "    <tr>\n",
              "      <th>12</th>\n",
              "      <td>2004-09-07</td>\n",
              "      <td>50.2</td>\n",
              "      <td>50.7</td>\n",
              "      <td>49.5</td>\n",
              "      <td>50.5</td>\n",
              "      <td>50.5</td>\n",
              "      <td>5891300</td>\n",
              "    </tr>\n",
              "    <tr>\n",
              "      <th>13</th>\n",
              "      <td>2004-09-08</td>\n",
              "      <td>50.0</td>\n",
              "      <td>51.2</td>\n",
              "      <td>49.9</td>\n",
              "      <td>50.8</td>\n",
              "      <td>50.8</td>\n",
              "      <td>5023000</td>\n",
              "    </tr>\n",
              "    <tr>\n",
              "      <th>14</th>\n",
              "      <td>2004-09-09</td>\n",
              "      <td>50.9</td>\n",
              "      <td>51.0</td>\n",
              "      <td>50.2</td>\n",
              "      <td>50.8</td>\n",
              "      <td>50.8</td>\n",
              "      <td>4092100</td>\n",
              "    </tr>\n",
              "    <tr>\n",
              "      <th>15</th>\n",
              "      <td>2004-09-10</td>\n",
              "      <td>50.5</td>\n",
              "      <td>52.9</td>\n",
              "      <td>50.3</td>\n",
              "      <td>52.3</td>\n",
              "      <td>52.3</td>\n",
              "      <td>8764200</td>\n",
              "    </tr>\n",
              "    <tr>\n",
              "      <th>16</th>\n",
              "      <td>2004-09-13</td>\n",
              "      <td>53.0</td>\n",
              "      <td>53.9</td>\n",
              "      <td>52.9</td>\n",
              "      <td>53.4</td>\n",
              "      <td>53.4</td>\n",
              "      <td>7902900</td>\n",
              "    </tr>\n",
              "    <tr>\n",
              "      <th>17</th>\n",
              "      <td>2004-09-14</td>\n",
              "      <td>53.4</td>\n",
              "      <td>55.6</td>\n",
              "      <td>53.0</td>\n",
              "      <td>55.4</td>\n",
              "      <td>55.4</td>\n",
              "      <td>10910200</td>\n",
              "    </tr>\n",
              "    <tr>\n",
              "      <th>18</th>\n",
              "      <td>2004-09-15</td>\n",
              "      <td>54.9</td>\n",
              "      <td>56.7</td>\n",
              "      <td>54.7</td>\n",
              "      <td>55.6</td>\n",
              "      <td>55.6</td>\n",
              "      <td>10793500</td>\n",
              "    </tr>\n",
              "    <tr>\n",
              "      <th>19</th>\n",
              "      <td>2004-09-16</td>\n",
              "      <td>55.8</td>\n",
              "      <td>57.5</td>\n",
              "      <td>55.5</td>\n",
              "      <td>56.6</td>\n",
              "      <td>56.6</td>\n",
              "      <td>9335800</td>\n",
              "    </tr>\n",
              "    <tr>\n",
              "      <th>20</th>\n",
              "      <td>2004-09-17</td>\n",
              "      <td>56.8</td>\n",
              "      <td>58.4</td>\n",
              "      <td>56.4</td>\n",
              "      <td>58.4</td>\n",
              "      <td>58.4</td>\n",
              "      <td>9543500</td>\n",
              "    </tr>\n",
              "    <tr>\n",
              "      <th>21</th>\n",
              "      <td>2004-09-20</td>\n",
              "      <td>58.1</td>\n",
              "      <td>60.4</td>\n",
              "      <td>58.0</td>\n",
              "      <td>59.3</td>\n",
              "      <td>59.3</td>\n",
              "      <td>10708500</td>\n",
              "    </tr>\n",
              "    <tr>\n",
              "      <th>22</th>\n",
              "      <td>2004-09-21</td>\n",
              "      <td>59.5</td>\n",
              "      <td>59.8</td>\n",
              "      <td>58.4</td>\n",
              "      <td>58.5</td>\n",
              "      <td>58.5</td>\n",
              "      <td>7282900</td>\n",
              "    </tr>\n",
              "    <tr>\n",
              "      <th>23</th>\n",
              "      <td>2004-09-22</td>\n",
              "      <td>58.3</td>\n",
              "      <td>59.4</td>\n",
              "      <td>58.0</td>\n",
              "      <td>58.8</td>\n",
              "      <td>58.8</td>\n",
              "      <td>7638000</td>\n",
              "    </tr>\n",
              "    <tr>\n",
              "      <th>24</th>\n",
              "      <td>2004-09-23</td>\n",
              "      <td>59.0</td>\n",
              "      <td>60.9</td>\n",
              "      <td>58.1</td>\n",
              "      <td>60.0</td>\n",
              "      <td>60.0</td>\n",
              "      <td>8599600</td>\n",
              "    </tr>\n",
              "    <tr>\n",
              "      <th>25</th>\n",
              "      <td>2004-09-24</td>\n",
              "      <td>60.1</td>\n",
              "      <td>61.6</td>\n",
              "      <td>59.5</td>\n",
              "      <td>59.5</td>\n",
              "      <td>59.5</td>\n",
              "      <td>9191900</td>\n",
              "    </tr>\n",
              "    <tr>\n",
              "      <th>26</th>\n",
              "      <td>2004-09-27</td>\n",
              "      <td>59.4</td>\n",
              "      <td>60.0</td>\n",
              "      <td>58.5</td>\n",
              "      <td>58.7</td>\n",
              "      <td>58.7</td>\n",
              "      <td>7119100</td>\n",
              "    </tr>\n",
              "    <tr>\n",
              "      <th>27</th>\n",
              "      <td>2004-09-28</td>\n",
              "      <td>60.3</td>\n",
              "      <td>63.3</td>\n",
              "      <td>59.7</td>\n",
              "      <td>63.0</td>\n",
              "      <td>63.0</td>\n",
              "      <td>17056100</td>\n",
              "    </tr>\n",
              "    <tr>\n",
              "      <th>28</th>\n",
              "      <td>2004-09-29</td>\n",
              "      <td>62.9</td>\n",
              "      <td>67.1</td>\n",
              "      <td>62.7</td>\n",
              "      <td>65.1</td>\n",
              "      <td>65.1</td>\n",
              "      <td>30745600</td>\n",
              "    </tr>\n",
              "    <tr>\n",
              "      <th>29</th>\n",
              "      <td>2004-09-30</td>\n",
              "      <td>64.5</td>\n",
              "      <td>65.7</td>\n",
              "      <td>64.1</td>\n",
              "      <td>64.4</td>\n",
              "      <td>64.4</td>\n",
              "      <td>13861300</td>\n",
              "    </tr>\n",
              "    <tr>\n",
              "      <th>...</th>\n",
              "      <td>...</td>\n",
              "      <td>...</td>\n",
              "      <td>...</td>\n",
              "      <td>...</td>\n",
              "      <td>...</td>\n",
              "      <td>...</td>\n",
              "      <td>...</td>\n",
              "    </tr>\n",
              "    <tr>\n",
              "      <th>3283</th>\n",
              "      <td>2017-09-01</td>\n",
              "      <td>941.1</td>\n",
              "      <td>942.5</td>\n",
              "      <td>935.2</td>\n",
              "      <td>937.3</td>\n",
              "      <td>937.3</td>\n",
              "      <td>947400</td>\n",
              "    </tr>\n",
              "    <tr>\n",
              "      <th>3284</th>\n",
              "      <td>2017-09-05</td>\n",
              "      <td>933.1</td>\n",
              "      <td>937.0</td>\n",
              "      <td>922.0</td>\n",
              "      <td>928.5</td>\n",
              "      <td>928.5</td>\n",
              "      <td>1326400</td>\n",
              "    </tr>\n",
              "    <tr>\n",
              "      <th>3285</th>\n",
              "      <td>2017-09-06</td>\n",
              "      <td>930.2</td>\n",
              "      <td>930.9</td>\n",
              "      <td>919.3</td>\n",
              "      <td>927.8</td>\n",
              "      <td>927.8</td>\n",
              "      <td>1527700</td>\n",
              "    </tr>\n",
              "    <tr>\n",
              "      <th>3286</th>\n",
              "      <td>2017-09-07</td>\n",
              "      <td>931.7</td>\n",
              "      <td>936.4</td>\n",
              "      <td>923.6</td>\n",
              "      <td>936.0</td>\n",
              "      <td>936.0</td>\n",
              "      <td>1212700</td>\n",
              "    </tr>\n",
              "    <tr>\n",
              "      <th>3287</th>\n",
              "      <td>2017-09-08</td>\n",
              "      <td>936.5</td>\n",
              "      <td>937.0</td>\n",
              "      <td>924.9</td>\n",
              "      <td>926.5</td>\n",
              "      <td>926.5</td>\n",
              "      <td>1011500</td>\n",
              "    </tr>\n",
              "    <tr>\n",
              "      <th>3288</th>\n",
              "      <td>2017-09-11</td>\n",
              "      <td>934.2</td>\n",
              "      <td>938.4</td>\n",
              "      <td>926.9</td>\n",
              "      <td>929.1</td>\n",
              "      <td>929.1</td>\n",
              "      <td>1267000</td>\n",
              "    </tr>\n",
              "    <tr>\n",
              "      <th>3289</th>\n",
              "      <td>2017-09-12</td>\n",
              "      <td>932.6</td>\n",
              "      <td>933.5</td>\n",
              "      <td>923.9</td>\n",
              "      <td>932.1</td>\n",
              "      <td>932.1</td>\n",
              "      <td>1134400</td>\n",
              "    </tr>\n",
              "    <tr>\n",
              "      <th>3290</th>\n",
              "      <td>2017-09-13</td>\n",
              "      <td>930.7</td>\n",
              "      <td>937.2</td>\n",
              "      <td>929.9</td>\n",
              "      <td>935.1</td>\n",
              "      <td>935.1</td>\n",
              "      <td>1102600</td>\n",
              "    </tr>\n",
              "    <tr>\n",
              "      <th>3291</th>\n",
              "      <td>2017-09-14</td>\n",
              "      <td>931.2</td>\n",
              "      <td>932.8</td>\n",
              "      <td>924.0</td>\n",
              "      <td>925.1</td>\n",
              "      <td>925.1</td>\n",
              "      <td>1397600</td>\n",
              "    </tr>\n",
              "    <tr>\n",
              "      <th>3292</th>\n",
              "      <td>2017-09-15</td>\n",
              "      <td>924.7</td>\n",
              "      <td>926.5</td>\n",
              "      <td>916.4</td>\n",
              "      <td>920.3</td>\n",
              "      <td>920.3</td>\n",
              "      <td>2505400</td>\n",
              "    </tr>\n",
              "    <tr>\n",
              "      <th>3293</th>\n",
              "      <td>2017-09-18</td>\n",
              "      <td>920.0</td>\n",
              "      <td>922.1</td>\n",
              "      <td>910.6</td>\n",
              "      <td>915.0</td>\n",
              "      <td>915.0</td>\n",
              "      <td>1306900</td>\n",
              "    </tr>\n",
              "    <tr>\n",
              "      <th>3294</th>\n",
              "      <td>2017-09-19</td>\n",
              "      <td>917.4</td>\n",
              "      <td>922.4</td>\n",
              "      <td>912.5</td>\n",
              "      <td>921.8</td>\n",
              "      <td>921.8</td>\n",
              "      <td>936700</td>\n",
              "    </tr>\n",
              "    <tr>\n",
              "      <th>3295</th>\n",
              "      <td>2017-09-20</td>\n",
              "      <td>923.0</td>\n",
              "      <td>933.9</td>\n",
              "      <td>922.0</td>\n",
              "      <td>931.6</td>\n",
              "      <td>931.6</td>\n",
              "      <td>1669800</td>\n",
              "    </tr>\n",
              "    <tr>\n",
              "      <th>3296</th>\n",
              "      <td>2017-09-21</td>\n",
              "      <td>933.0</td>\n",
              "      <td>936.5</td>\n",
              "      <td>923.8</td>\n",
              "      <td>932.5</td>\n",
              "      <td>932.5</td>\n",
              "      <td>1290600</td>\n",
              "    </tr>\n",
              "    <tr>\n",
              "      <th>3297</th>\n",
              "      <td>2017-09-22</td>\n",
              "      <td>927.8</td>\n",
              "      <td>934.7</td>\n",
              "      <td>926.5</td>\n",
              "      <td>928.5</td>\n",
              "      <td>928.5</td>\n",
              "      <td>1052700</td>\n",
              "    </tr>\n",
              "    <tr>\n",
              "      <th>3298</th>\n",
              "      <td>2017-09-25</td>\n",
              "      <td>925.5</td>\n",
              "      <td>926.4</td>\n",
              "      <td>909.7</td>\n",
              "      <td>921.0</td>\n",
              "      <td>921.0</td>\n",
              "      <td>1856800</td>\n",
              "    </tr>\n",
              "    <tr>\n",
              "      <th>3299</th>\n",
              "      <td>2017-09-26</td>\n",
              "      <td>923.7</td>\n",
              "      <td>930.8</td>\n",
              "      <td>921.1</td>\n",
              "      <td>924.9</td>\n",
              "      <td>924.9</td>\n",
              "      <td>1666900</td>\n",
              "    </tr>\n",
              "    <tr>\n",
              "      <th>3300</th>\n",
              "      <td>2017-09-27</td>\n",
              "      <td>927.7</td>\n",
              "      <td>949.9</td>\n",
              "      <td>927.7</td>\n",
              "      <td>944.5</td>\n",
              "      <td>944.5</td>\n",
              "      <td>2239400</td>\n",
              "    </tr>\n",
              "    <tr>\n",
              "      <th>3301</th>\n",
              "      <td>2017-09-28</td>\n",
              "      <td>941.4</td>\n",
              "      <td>950.7</td>\n",
              "      <td>940.5</td>\n",
              "      <td>949.5</td>\n",
              "      <td>949.5</td>\n",
              "      <td>1020300</td>\n",
              "    </tr>\n",
              "    <tr>\n",
              "      <th>3302</th>\n",
              "      <td>2017-09-29</td>\n",
              "      <td>952.0</td>\n",
              "      <td>959.8</td>\n",
              "      <td>951.5</td>\n",
              "      <td>959.1</td>\n",
              "      <td>959.1</td>\n",
              "      <td>1581000</td>\n",
              "    </tr>\n",
              "    <tr>\n",
              "      <th>3303</th>\n",
              "      <td>2017-10-02</td>\n",
              "      <td>960.0</td>\n",
              "      <td>962.5</td>\n",
              "      <td>947.8</td>\n",
              "      <td>953.3</td>\n",
              "      <td>953.3</td>\n",
              "      <td>1283400</td>\n",
              "    </tr>\n",
              "    <tr>\n",
              "      <th>3304</th>\n",
              "      <td>2017-10-03</td>\n",
              "      <td>954.0</td>\n",
              "      <td>958.0</td>\n",
              "      <td>949.1</td>\n",
              "      <td>957.8</td>\n",
              "      <td>957.8</td>\n",
              "      <td>888300</td>\n",
              "    </tr>\n",
              "    <tr>\n",
              "      <th>3305</th>\n",
              "      <td>2017-10-04</td>\n",
              "      <td>957.0</td>\n",
              "      <td>960.4</td>\n",
              "      <td>950.7</td>\n",
              "      <td>951.7</td>\n",
              "      <td>951.7</td>\n",
              "      <td>952400</td>\n",
              "    </tr>\n",
              "    <tr>\n",
              "      <th>3306</th>\n",
              "      <td>2017-10-05</td>\n",
              "      <td>955.5</td>\n",
              "      <td>970.9</td>\n",
              "      <td>955.2</td>\n",
              "      <td>970.0</td>\n",
              "      <td>970.0</td>\n",
              "      <td>1213800</td>\n",
              "    </tr>\n",
              "    <tr>\n",
              "      <th>3307</th>\n",
              "      <td>2017-10-06</td>\n",
              "      <td>966.7</td>\n",
              "      <td>979.5</td>\n",
              "      <td>963.4</td>\n",
              "      <td>978.9</td>\n",
              "      <td>978.9</td>\n",
              "      <td>1173900</td>\n",
              "    </tr>\n",
              "    <tr>\n",
              "      <th>3308</th>\n",
              "      <td>2017-10-09</td>\n",
              "      <td>980.0</td>\n",
              "      <td>985.4</td>\n",
              "      <td>976.1</td>\n",
              "      <td>977.0</td>\n",
              "      <td>977.0</td>\n",
              "      <td>891400</td>\n",
              "    </tr>\n",
              "    <tr>\n",
              "      <th>3309</th>\n",
              "      <td>2017-10-10</td>\n",
              "      <td>980.0</td>\n",
              "      <td>981.6</td>\n",
              "      <td>966.1</td>\n",
              "      <td>972.6</td>\n",
              "      <td>972.6</td>\n",
              "      <td>968400</td>\n",
              "    </tr>\n",
              "    <tr>\n",
              "      <th>3310</th>\n",
              "      <td>2017-10-11</td>\n",
              "      <td>973.7</td>\n",
              "      <td>990.7</td>\n",
              "      <td>972.2</td>\n",
              "      <td>989.2</td>\n",
              "      <td>989.2</td>\n",
              "      <td>1693300</td>\n",
              "    </tr>\n",
              "    <tr>\n",
              "      <th>3311</th>\n",
              "      <td>2017-10-12</td>\n",
              "      <td>987.5</td>\n",
              "      <td>994.1</td>\n",
              "      <td>985.0</td>\n",
              "      <td>987.8</td>\n",
              "      <td>987.8</td>\n",
              "      <td>1262400</td>\n",
              "    </tr>\n",
              "    <tr>\n",
              "      <th>3312</th>\n",
              "      <td>2017-10-13</td>\n",
              "      <td>992.0</td>\n",
              "      <td>997.2</td>\n",
              "      <td>989.0</td>\n",
              "      <td>989.7</td>\n",
              "      <td>989.7</td>\n",
              "      <td>1157700</td>\n",
              "    </tr>\n",
              "  </tbody>\n",
              "</table>\n",
              "<p>3313 rows × 7 columns</p>\n",
              "</div>"
            ],
            "text/plain": [
              "            Date   Open   High    Low  Close  Adj Close    Volume\n",
              "0     2004-08-19   49.7   51.7   47.7   49.8       49.8  44994500\n",
              "1     2004-08-20   50.2   54.2   49.9   53.8       53.8  23005800\n",
              "2     2004-08-23   55.0   56.4   54.2   54.3       54.3  18393200\n",
              "3     2004-08-24   55.3   55.4   51.5   52.1       52.1  15361800\n",
              "4     2004-08-25   52.1   53.7   51.6   52.7       52.7   9257400\n",
              "5     2004-08-26   52.1   53.6   52.0   53.6       53.6   7148200\n",
              "6     2004-08-27   53.7   54.0   52.5   52.7       52.7   6258300\n",
              "7     2004-08-30   52.3   52.4   50.7   50.7       50.7   5235700\n",
              "8     2004-08-31   50.8   51.5   50.7   50.9       50.9   4954800\n",
              "9     2004-09-01   51.0   51.2   49.5   49.8       49.8   9206800\n",
              "10    2004-09-02   49.3   50.9   49.2   50.4       50.4  15232100\n",
              "11    2004-09-03   50.1   50.5   49.3   49.7       49.7   5191000\n",
              "12    2004-09-07   50.2   50.7   49.5   50.5       50.5   5891300\n",
              "13    2004-09-08   50.0   51.2   49.9   50.8       50.8   5023000\n",
              "14    2004-09-09   50.9   51.0   50.2   50.8       50.8   4092100\n",
              "15    2004-09-10   50.5   52.9   50.3   52.3       52.3   8764200\n",
              "16    2004-09-13   53.0   53.9   52.9   53.4       53.4   7902900\n",
              "17    2004-09-14   53.4   55.6   53.0   55.4       55.4  10910200\n",
              "18    2004-09-15   54.9   56.7   54.7   55.6       55.6  10793500\n",
              "19    2004-09-16   55.8   57.5   55.5   56.6       56.6   9335800\n",
              "20    2004-09-17   56.8   58.4   56.4   58.4       58.4   9543500\n",
              "21    2004-09-20   58.1   60.4   58.0   59.3       59.3  10708500\n",
              "22    2004-09-21   59.5   59.8   58.4   58.5       58.5   7282900\n",
              "23    2004-09-22   58.3   59.4   58.0   58.8       58.8   7638000\n",
              "24    2004-09-23   59.0   60.9   58.1   60.0       60.0   8599600\n",
              "25    2004-09-24   60.1   61.6   59.5   59.5       59.5   9191900\n",
              "26    2004-09-27   59.4   60.0   58.5   58.7       58.7   7119100\n",
              "27    2004-09-28   60.3   63.3   59.7   63.0       63.0  17056100\n",
              "28    2004-09-29   62.9   67.1   62.7   65.1       65.1  30745600\n",
              "29    2004-09-30   64.5   65.7   64.1   64.4       64.4  13861300\n",
              "...          ...    ...    ...    ...    ...        ...       ...\n",
              "3283  2017-09-01  941.1  942.5  935.2  937.3      937.3    947400\n",
              "3284  2017-09-05  933.1  937.0  922.0  928.5      928.5   1326400\n",
              "3285  2017-09-06  930.2  930.9  919.3  927.8      927.8   1527700\n",
              "3286  2017-09-07  931.7  936.4  923.6  936.0      936.0   1212700\n",
              "3287  2017-09-08  936.5  937.0  924.9  926.5      926.5   1011500\n",
              "3288  2017-09-11  934.2  938.4  926.9  929.1      929.1   1267000\n",
              "3289  2017-09-12  932.6  933.5  923.9  932.1      932.1   1134400\n",
              "3290  2017-09-13  930.7  937.2  929.9  935.1      935.1   1102600\n",
              "3291  2017-09-14  931.2  932.8  924.0  925.1      925.1   1397600\n",
              "3292  2017-09-15  924.7  926.5  916.4  920.3      920.3   2505400\n",
              "3293  2017-09-18  920.0  922.1  910.6  915.0      915.0   1306900\n",
              "3294  2017-09-19  917.4  922.4  912.5  921.8      921.8    936700\n",
              "3295  2017-09-20  923.0  933.9  922.0  931.6      931.6   1669800\n",
              "3296  2017-09-21  933.0  936.5  923.8  932.5      932.5   1290600\n",
              "3297  2017-09-22  927.8  934.7  926.5  928.5      928.5   1052700\n",
              "3298  2017-09-25  925.5  926.4  909.7  921.0      921.0   1856800\n",
              "3299  2017-09-26  923.7  930.8  921.1  924.9      924.9   1666900\n",
              "3300  2017-09-27  927.7  949.9  927.7  944.5      944.5   2239400\n",
              "3301  2017-09-28  941.4  950.7  940.5  949.5      949.5   1020300\n",
              "3302  2017-09-29  952.0  959.8  951.5  959.1      959.1   1581000\n",
              "3303  2017-10-02  960.0  962.5  947.8  953.3      953.3   1283400\n",
              "3304  2017-10-03  954.0  958.0  949.1  957.8      957.8    888300\n",
              "3305  2017-10-04  957.0  960.4  950.7  951.7      951.7    952400\n",
              "3306  2017-10-05  955.5  970.9  955.2  970.0      970.0   1213800\n",
              "3307  2017-10-06  966.7  979.5  963.4  978.9      978.9   1173900\n",
              "3308  2017-10-09  980.0  985.4  976.1  977.0      977.0    891400\n",
              "3309  2017-10-10  980.0  981.6  966.1  972.6      972.6    968400\n",
              "3310  2017-10-11  973.7  990.7  972.2  989.2      989.2   1693300\n",
              "3311  2017-10-12  987.5  994.1  985.0  987.8      987.8   1262400\n",
              "3312  2017-10-13  992.0  997.2  989.0  989.7      989.7   1157700\n",
              "\n",
              "[3313 rows x 7 columns]"
            ]
          },
          "metadata": {
            "tags": []
          },
          "execution_count": 120
        }
      ]
    },
    {
      "metadata": {
        "id": "nYq8kRvpEL-_",
        "colab_type": "code",
        "outputId": "8691cbc5-e391-47ac-f0ff-2ee5444e16fb",
        "colab": {
          "base_uri": "https://localhost:8080/",
          "height": 202
        }
      },
      "cell_type": "code",
      "source": [
        "Google_stock.head()\n"
      ],
      "execution_count": 0,
      "outputs": [
        {
          "output_type": "execute_result",
          "data": {
            "text/html": [
              "<div>\n",
              "<style scoped>\n",
              "    .dataframe tbody tr th:only-of-type {\n",
              "        vertical-align: middle;\n",
              "    }\n",
              "\n",
              "    .dataframe tbody tr th {\n",
              "        vertical-align: top;\n",
              "    }\n",
              "\n",
              "    .dataframe thead th {\n",
              "        text-align: right;\n",
              "    }\n",
              "</style>\n",
              "<table border=\"1\" class=\"dataframe\">\n",
              "  <thead>\n",
              "    <tr style=\"text-align: right;\">\n",
              "      <th></th>\n",
              "      <th>Date</th>\n",
              "      <th>Open</th>\n",
              "      <th>High</th>\n",
              "      <th>Low</th>\n",
              "      <th>Close</th>\n",
              "      <th>Adj Close</th>\n",
              "      <th>Volume</th>\n",
              "    </tr>\n",
              "  </thead>\n",
              "  <tbody>\n",
              "    <tr>\n",
              "      <th>0</th>\n",
              "      <td>2004-08-19</td>\n",
              "      <td>49.7</td>\n",
              "      <td>51.7</td>\n",
              "      <td>47.7</td>\n",
              "      <td>49.8</td>\n",
              "      <td>49.8</td>\n",
              "      <td>44994500</td>\n",
              "    </tr>\n",
              "    <tr>\n",
              "      <th>1</th>\n",
              "      <td>2004-08-20</td>\n",
              "      <td>50.2</td>\n",
              "      <td>54.2</td>\n",
              "      <td>49.9</td>\n",
              "      <td>53.8</td>\n",
              "      <td>53.8</td>\n",
              "      <td>23005800</td>\n",
              "    </tr>\n",
              "    <tr>\n",
              "      <th>2</th>\n",
              "      <td>2004-08-23</td>\n",
              "      <td>55.0</td>\n",
              "      <td>56.4</td>\n",
              "      <td>54.2</td>\n",
              "      <td>54.3</td>\n",
              "      <td>54.3</td>\n",
              "      <td>18393200</td>\n",
              "    </tr>\n",
              "    <tr>\n",
              "      <th>3</th>\n",
              "      <td>2004-08-24</td>\n",
              "      <td>55.3</td>\n",
              "      <td>55.4</td>\n",
              "      <td>51.5</td>\n",
              "      <td>52.1</td>\n",
              "      <td>52.1</td>\n",
              "      <td>15361800</td>\n",
              "    </tr>\n",
              "    <tr>\n",
              "      <th>4</th>\n",
              "      <td>2004-08-25</td>\n",
              "      <td>52.1</td>\n",
              "      <td>53.7</td>\n",
              "      <td>51.6</td>\n",
              "      <td>52.7</td>\n",
              "      <td>52.7</td>\n",
              "      <td>9257400</td>\n",
              "    </tr>\n",
              "  </tbody>\n",
              "</table>\n",
              "</div>"
            ],
            "text/plain": [
              "         Date  Open  High   Low  Close  Adj Close    Volume\n",
              "0  2004-08-19  49.7  51.7  47.7   49.8       49.8  44994500\n",
              "1  2004-08-20  50.2  54.2  49.9   53.8       53.8  23005800\n",
              "2  2004-08-23  55.0  56.4  54.2   54.3       54.3  18393200\n",
              "3  2004-08-24  55.3  55.4  51.5   52.1       52.1  15361800\n",
              "4  2004-08-25  52.1  53.7  51.6   52.7       52.7   9257400"
            ]
          },
          "metadata": {
            "tags": []
          },
          "execution_count": 121
        }
      ]
    },
    {
      "metadata": {
        "id": "JDiwpsnZERYu",
        "colab_type": "code",
        "outputId": "611633fe-d651-4e1d-d66b-72d5aa6d438f",
        "colab": {
          "base_uri": "https://localhost:8080/",
          "height": 202
        }
      },
      "cell_type": "code",
      "source": [
        "Google_stock.tail()\n"
      ],
      "execution_count": 0,
      "outputs": [
        {
          "output_type": "execute_result",
          "data": {
            "text/html": [
              "<div>\n",
              "<style scoped>\n",
              "    .dataframe tbody tr th:only-of-type {\n",
              "        vertical-align: middle;\n",
              "    }\n",
              "\n",
              "    .dataframe tbody tr th {\n",
              "        vertical-align: top;\n",
              "    }\n",
              "\n",
              "    .dataframe thead th {\n",
              "        text-align: right;\n",
              "    }\n",
              "</style>\n",
              "<table border=\"1\" class=\"dataframe\">\n",
              "  <thead>\n",
              "    <tr style=\"text-align: right;\">\n",
              "      <th></th>\n",
              "      <th>Date</th>\n",
              "      <th>Open</th>\n",
              "      <th>High</th>\n",
              "      <th>Low</th>\n",
              "      <th>Close</th>\n",
              "      <th>Adj Close</th>\n",
              "      <th>Volume</th>\n",
              "    </tr>\n",
              "  </thead>\n",
              "  <tbody>\n",
              "    <tr>\n",
              "      <th>3308</th>\n",
              "      <td>2017-10-09</td>\n",
              "      <td>980.0</td>\n",
              "      <td>985.4</td>\n",
              "      <td>976.1</td>\n",
              "      <td>977.0</td>\n",
              "      <td>977.0</td>\n",
              "      <td>891400</td>\n",
              "    </tr>\n",
              "    <tr>\n",
              "      <th>3309</th>\n",
              "      <td>2017-10-10</td>\n",
              "      <td>980.0</td>\n",
              "      <td>981.6</td>\n",
              "      <td>966.1</td>\n",
              "      <td>972.6</td>\n",
              "      <td>972.6</td>\n",
              "      <td>968400</td>\n",
              "    </tr>\n",
              "    <tr>\n",
              "      <th>3310</th>\n",
              "      <td>2017-10-11</td>\n",
              "      <td>973.7</td>\n",
              "      <td>990.7</td>\n",
              "      <td>972.2</td>\n",
              "      <td>989.2</td>\n",
              "      <td>989.2</td>\n",
              "      <td>1693300</td>\n",
              "    </tr>\n",
              "    <tr>\n",
              "      <th>3311</th>\n",
              "      <td>2017-10-12</td>\n",
              "      <td>987.5</td>\n",
              "      <td>994.1</td>\n",
              "      <td>985.0</td>\n",
              "      <td>987.8</td>\n",
              "      <td>987.8</td>\n",
              "      <td>1262400</td>\n",
              "    </tr>\n",
              "    <tr>\n",
              "      <th>3312</th>\n",
              "      <td>2017-10-13</td>\n",
              "      <td>992.0</td>\n",
              "      <td>997.2</td>\n",
              "      <td>989.0</td>\n",
              "      <td>989.7</td>\n",
              "      <td>989.7</td>\n",
              "      <td>1157700</td>\n",
              "    </tr>\n",
              "  </tbody>\n",
              "</table>\n",
              "</div>"
            ],
            "text/plain": [
              "            Date   Open   High    Low  Close  Adj Close   Volume\n",
              "3308  2017-10-09  980.0  985.4  976.1  977.0      977.0   891400\n",
              "3309  2017-10-10  980.0  981.6  966.1  972.6      972.6   968400\n",
              "3310  2017-10-11  973.7  990.7  972.2  989.2      989.2  1693300\n",
              "3311  2017-10-12  987.5  994.1  985.0  987.8      987.8  1262400\n",
              "3312  2017-10-13  992.0  997.2  989.0  989.7      989.7  1157700"
            ]
          },
          "metadata": {
            "tags": []
          },
          "execution_count": 122
        }
      ]
    },
    {
      "metadata": {
        "id": "kaKkZFryEV0G",
        "colab_type": "code",
        "outputId": "73c875e5-a667-4cf4-cb37-8cf413bead09",
        "colab": {
          "base_uri": "https://localhost:8080/",
          "height": 156
        }
      },
      "cell_type": "code",
      "source": [
        "Google_stock.isnull().any()\n"
      ],
      "execution_count": 0,
      "outputs": [
        {
          "output_type": "execute_result",
          "data": {
            "text/plain": [
              "Date         False\n",
              "Open         False\n",
              "High         False\n",
              "Low          False\n",
              "Close        False\n",
              "Adj Close    False\n",
              "Volume       False\n",
              "dtype: bool"
            ]
          },
          "metadata": {
            "tags": []
          },
          "execution_count": 123
        }
      ]
    },
    {
      "metadata": {
        "id": "gNB7-rffEbnd",
        "colab_type": "code",
        "outputId": "3ded071c-f751-46fc-a1f7-61f0dfb60802",
        "colab": {
          "base_uri": "https://localhost:8080/",
          "height": 294
        }
      },
      "cell_type": "code",
      "source": [
        "# We get descriptive statistics on our stock data\n",
        "Google_stock.describe()\n"
      ],
      "execution_count": 0,
      "outputs": [
        {
          "output_type": "execute_result",
          "data": {
            "text/html": [
              "<div>\n",
              "<style scoped>\n",
              "    .dataframe tbody tr th:only-of-type {\n",
              "        vertical-align: middle;\n",
              "    }\n",
              "\n",
              "    .dataframe tbody tr th {\n",
              "        vertical-align: top;\n",
              "    }\n",
              "\n",
              "    .dataframe thead th {\n",
              "        text-align: right;\n",
              "    }\n",
              "</style>\n",
              "<table border=\"1\" class=\"dataframe\">\n",
              "  <thead>\n",
              "    <tr style=\"text-align: right;\">\n",
              "      <th></th>\n",
              "      <th>Open</th>\n",
              "      <th>High</th>\n",
              "      <th>Low</th>\n",
              "      <th>Close</th>\n",
              "      <th>Adj Close</th>\n",
              "      <th>Volume</th>\n",
              "    </tr>\n",
              "  </thead>\n",
              "  <tbody>\n",
              "    <tr>\n",
              "      <th>count</th>\n",
              "      <td>3313.0</td>\n",
              "      <td>3313.0</td>\n",
              "      <td>3313.0</td>\n",
              "      <td>3313.0</td>\n",
              "      <td>3313.0</td>\n",
              "      <td>3.3e+03</td>\n",
              "    </tr>\n",
              "    <tr>\n",
              "      <th>mean</th>\n",
              "      <td>380.2</td>\n",
              "      <td>383.5</td>\n",
              "      <td>376.5</td>\n",
              "      <td>380.1</td>\n",
              "      <td>380.1</td>\n",
              "      <td>8.0e+06</td>\n",
              "    </tr>\n",
              "    <tr>\n",
              "      <th>std</th>\n",
              "      <td>223.8</td>\n",
              "      <td>225.0</td>\n",
              "      <td>222.5</td>\n",
              "      <td>223.9</td>\n",
              "      <td>223.9</td>\n",
              "      <td>8.4e+06</td>\n",
              "    </tr>\n",
              "    <tr>\n",
              "      <th>min</th>\n",
              "      <td>49.3</td>\n",
              "      <td>50.5</td>\n",
              "      <td>47.7</td>\n",
              "      <td>49.7</td>\n",
              "      <td>49.7</td>\n",
              "      <td>7.9e+03</td>\n",
              "    </tr>\n",
              "    <tr>\n",
              "      <th>25%</th>\n",
              "      <td>226.6</td>\n",
              "      <td>228.4</td>\n",
              "      <td>224.0</td>\n",
              "      <td>226.4</td>\n",
              "      <td>226.4</td>\n",
              "      <td>2.6e+06</td>\n",
              "    </tr>\n",
              "    <tr>\n",
              "      <th>50%</th>\n",
              "      <td>293.3</td>\n",
              "      <td>295.4</td>\n",
              "      <td>289.9</td>\n",
              "      <td>293.0</td>\n",
              "      <td>293.0</td>\n",
              "      <td>5.3e+06</td>\n",
              "    </tr>\n",
              "    <tr>\n",
              "      <th>75%</th>\n",
              "      <td>536.7</td>\n",
              "      <td>540.0</td>\n",
              "      <td>532.4</td>\n",
              "      <td>536.7</td>\n",
              "      <td>536.7</td>\n",
              "      <td>1.1e+07</td>\n",
              "    </tr>\n",
              "    <tr>\n",
              "      <th>max</th>\n",
              "      <td>992.0</td>\n",
              "      <td>997.2</td>\n",
              "      <td>989.0</td>\n",
              "      <td>989.7</td>\n",
              "      <td>989.7</td>\n",
              "      <td>8.3e+07</td>\n",
              "    </tr>\n",
              "  </tbody>\n",
              "</table>\n",
              "</div>"
            ],
            "text/plain": [
              "         Open    High     Low   Close  Adj Close   Volume\n",
              "count  3313.0  3313.0  3313.0  3313.0     3313.0  3.3e+03\n",
              "mean    380.2   383.5   376.5   380.1      380.1  8.0e+06\n",
              "std     223.8   225.0   222.5   223.9      223.9  8.4e+06\n",
              "min      49.3    50.5    47.7    49.7       49.7  7.9e+03\n",
              "25%     226.6   228.4   224.0   226.4      226.4  2.6e+06\n",
              "50%     293.3   295.4   289.9   293.0      293.0  5.3e+06\n",
              "75%     536.7   540.0   532.4   536.7      536.7  1.1e+07\n",
              "max     992.0   997.2   989.0   989.7      989.7  8.3e+07"
            ]
          },
          "metadata": {
            "tags": []
          },
          "execution_count": 124
        }
      ]
    },
    {
      "metadata": {
        "id": "Tm73Ch41Ekj4",
        "colab_type": "code",
        "outputId": "67b0204d-656d-4742-fc7d-347e81d78d3c",
        "colab": {
          "base_uri": "https://localhost:8080/",
          "height": 173
        }
      },
      "cell_type": "code",
      "source": [
        "# We get descriptive statistics on a single column of our DataFrame\n",
        "Google_stock['Adj Close'].describe()"
      ],
      "execution_count": 0,
      "outputs": [
        {
          "output_type": "execute_result",
          "data": {
            "text/plain": [
              "count    3313.0\n",
              "mean      380.1\n",
              "std       223.9\n",
              "min        49.7\n",
              "25%       226.4\n",
              "50%       293.0\n",
              "75%       536.7\n",
              "max       989.7\n",
              "Name: Adj Close, dtype: float64"
            ]
          },
          "metadata": {
            "tags": []
          },
          "execution_count": 125
        }
      ]
    },
    {
      "metadata": {
        "id": "eFNqMYqTErlB",
        "colab_type": "code",
        "outputId": "7e9ee2c4-08d5-4ed5-e41f-8904fcfc4137",
        "colab": {
          "base_uri": "https://localhost:8080/",
          "height": 381
        }
      },
      "cell_type": "code",
      "source": [
        "# We print information about our DataFrame  \n",
        "print()\n",
        "print('Maximum values of each column:\\n', Google_stock.max())\n",
        "print()\n",
        "print('Minimum Close value:', Google_stock['Close'].min())\n",
        "print()\n",
        "print('Average value of each column:\\n', Google_stock.mean())"
      ],
      "execution_count": 0,
      "outputs": [
        {
          "output_type": "stream",
          "text": [
            "\n",
            "Maximum values of each column:\n",
            " Date         2017-10-13\n",
            "Open              1e+03\n",
            "High              1e+03\n",
            "Low               1e+03\n",
            "Close             1e+03\n",
            "Adj Close         1e+03\n",
            "Volume         82768100\n",
            "dtype: object\n",
            "\n",
            "Minimum Close value: 49.681866\n",
            "\n",
            "Average value of each column:\n",
            " Open         3.8e+02\n",
            "High         3.8e+02\n",
            "Low          3.8e+02\n",
            "Close        3.8e+02\n",
            "Adj Close    3.8e+02\n",
            "Volume       8.0e+06\n",
            "dtype: float64\n"
          ],
          "name": "stdout"
        }
      ]
    },
    {
      "metadata": {
        "id": "2JukK2qJEw3J",
        "colab_type": "code",
        "outputId": "9e34d1ea-247a-4b63-c68d-0201faba260d",
        "colab": {
          "base_uri": "https://localhost:8080/",
          "height": 233
        }
      },
      "cell_type": "code",
      "source": [
        "# We display the correlation between columns\n",
        "Google_stock.corr()"
      ],
      "execution_count": 0,
      "outputs": [
        {
          "output_type": "execute_result",
          "data": {
            "text/html": [
              "<div>\n",
              "<style scoped>\n",
              "    .dataframe tbody tr th:only-of-type {\n",
              "        vertical-align: middle;\n",
              "    }\n",
              "\n",
              "    .dataframe tbody tr th {\n",
              "        vertical-align: top;\n",
              "    }\n",
              "\n",
              "    .dataframe thead th {\n",
              "        text-align: right;\n",
              "    }\n",
              "</style>\n",
              "<table border=\"1\" class=\"dataframe\">\n",
              "  <thead>\n",
              "    <tr style=\"text-align: right;\">\n",
              "      <th></th>\n",
              "      <th>Open</th>\n",
              "      <th>High</th>\n",
              "      <th>Low</th>\n",
              "      <th>Close</th>\n",
              "      <th>Adj Close</th>\n",
              "      <th>Volume</th>\n",
              "    </tr>\n",
              "  </thead>\n",
              "  <tbody>\n",
              "    <tr>\n",
              "      <th>Open</th>\n",
              "      <td>1.0</td>\n",
              "      <td>1.0</td>\n",
              "      <td>1.0</td>\n",
              "      <td>1.0</td>\n",
              "      <td>1.0</td>\n",
              "      <td>-0.6</td>\n",
              "    </tr>\n",
              "    <tr>\n",
              "      <th>High</th>\n",
              "      <td>1.0</td>\n",
              "      <td>1.0</td>\n",
              "      <td>1.0</td>\n",
              "      <td>1.0</td>\n",
              "      <td>1.0</td>\n",
              "      <td>-0.6</td>\n",
              "    </tr>\n",
              "    <tr>\n",
              "      <th>Low</th>\n",
              "      <td>1.0</td>\n",
              "      <td>1.0</td>\n",
              "      <td>1.0</td>\n",
              "      <td>1.0</td>\n",
              "      <td>1.0</td>\n",
              "      <td>-0.6</td>\n",
              "    </tr>\n",
              "    <tr>\n",
              "      <th>Close</th>\n",
              "      <td>1.0</td>\n",
              "      <td>1.0</td>\n",
              "      <td>1.0</td>\n",
              "      <td>1.0</td>\n",
              "      <td>1.0</td>\n",
              "      <td>-0.6</td>\n",
              "    </tr>\n",
              "    <tr>\n",
              "      <th>Adj Close</th>\n",
              "      <td>1.0</td>\n",
              "      <td>1.0</td>\n",
              "      <td>1.0</td>\n",
              "      <td>1.0</td>\n",
              "      <td>1.0</td>\n",
              "      <td>-0.6</td>\n",
              "    </tr>\n",
              "    <tr>\n",
              "      <th>Volume</th>\n",
              "      <td>-0.6</td>\n",
              "      <td>-0.6</td>\n",
              "      <td>-0.6</td>\n",
              "      <td>-0.6</td>\n",
              "      <td>-0.6</td>\n",
              "      <td>1.0</td>\n",
              "    </tr>\n",
              "  </tbody>\n",
              "</table>\n",
              "</div>"
            ],
            "text/plain": [
              "           Open  High  Low  Close  Adj Close  Volume\n",
              "Open        1.0   1.0  1.0    1.0        1.0    -0.6\n",
              "High        1.0   1.0  1.0    1.0        1.0    -0.6\n",
              "Low         1.0   1.0  1.0    1.0        1.0    -0.6\n",
              "Close       1.0   1.0  1.0    1.0        1.0    -0.6\n",
              "Adj Close   1.0   1.0  1.0    1.0        1.0    -0.6\n",
              "Volume     -0.6  -0.6 -0.6   -0.6       -0.6     1.0"
            ]
          },
          "metadata": {
            "tags": []
          },
          "execution_count": 128
        }
      ]
    },
    {
      "metadata": {
        "id": "o2YU7TnQGXKY",
        "colab_type": "code",
        "colab": {}
      },
      "cell_type": "code",
      "source": [
        "# file missing fake_company.csv'"
      ],
      "execution_count": 0,
      "outputs": []
    },
    {
      "metadata": {
        "id": "n1eq4q2IE9mp",
        "colab_type": "code",
        "colab": {}
      },
      "cell_type": "code",
      "source": [
        "# We load fake Company data in a DataFrame\n",
        "data = pd.read_csv('./fake_company.csv')\n",
        "\n",
        "data"
      ],
      "execution_count": 0,
      "outputs": []
    },
    {
      "metadata": {
        "id": "rVV18G-OFDGj",
        "colab_type": "code",
        "colab": {}
      },
      "cell_type": "code",
      "source": [
        "# We display the total amount of money spent in salaries each year\n",
        "data.groupby(['Year'])['Salary'].sum()"
      ],
      "execution_count": 0,
      "outputs": []
    },
    {
      "metadata": {
        "id": "OmN8Bz7KF4f5",
        "colab_type": "code",
        "colab": {}
      },
      "cell_type": "code",
      "source": [
        "# We display the average salary per year\n",
        "data.groupby(['Year'])['Salary'].mean()"
      ],
      "execution_count": 0,
      "outputs": []
    },
    {
      "metadata": {
        "id": "ML_EZYKMF9vN",
        "colab_type": "code",
        "colab": {}
      },
      "cell_type": "code",
      "source": [
        "# We display the salary distribution per department per year.\n",
        "data.groupby(['Year', 'Department'])['Salary'].sum()"
      ],
      "execution_count": 0,
      "outputs": []
    },
    {
      "metadata": {
        "id": "YTDKXM0DGBqk",
        "colab_type": "code",
        "colab": {}
      },
      "cell_type": "code",
      "source": [
        ""
      ],
      "execution_count": 0,
      "outputs": []
    }
  ]
}