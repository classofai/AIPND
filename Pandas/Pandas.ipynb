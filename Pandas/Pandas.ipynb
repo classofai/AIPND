{
  "nbformat": 4,
  "nbformat_minor": 0,
  "metadata": {
    "colab": {
      "name": "Pandas.ipynb",
      "version": "0.3.2",
      "provenance": []
    }
  },
  "cells": [
    {
      "metadata": {
        "id": "S4Fu2cwpi4cM",
        "colab_type": "code",
        "colab": {}
      },
      "cell_type": "code",
      "source": [
        "import pandas as pd\n"
      ],
      "execution_count": 0,
      "outputs": []
    },
    {
      "metadata": {
        "id": "jLzYYJKojqJr",
        "colab_type": "code",
        "colab": {
          "base_uri": "https://localhost:8080/",
          "height": 104
        },
        "outputId": "404cab27-3a36-44ff-f25a-c69e80a2edd1"
      },
      "cell_type": "code",
      "source": [
        "# We import Pandas as pd into Python\n",
        "import pandas as pd\n",
        "\n",
        "# We create a Pandas Series that stores a grocery list\n",
        "groceries = pd.Series(data = [30, 6, 'Yes', 'No'], index = ['eggs', 'apples', 'milk', 'bread'])\n",
        "\n",
        "# We display the Groceries Pandas Series\n",
        "groceries"
      ],
      "execution_count": 3,
      "outputs": [
        {
          "output_type": "execute_result",
          "data": {
            "text/plain": [
              "eggs       30\n",
              "apples      6\n",
              "milk      Yes\n",
              "bread      No\n",
              "dtype: object"
            ]
          },
          "metadata": {
            "tags": []
          },
          "execution_count": 3
        }
      ]
    },
    {
      "metadata": {
        "id": "JsgQnWN4kF0K",
        "colab_type": "code",
        "colab": {
          "base_uri": "https://localhost:8080/",
          "height": 69
        },
        "outputId": "cfcf99a6-0110-4ef6-d528-26c4aa40fac7"
      },
      "cell_type": "code",
      "source": [
        "# We print some information about Groceries\n",
        "print('Groceries has shape:', groceries.shape)\n",
        "print('Groceries has dimension:', groceries.ndim)\n",
        "print('Groceries has a total of', groceries.size, 'elements')"
      ],
      "execution_count": 4,
      "outputs": [
        {
          "output_type": "stream",
          "text": [
            "('Groceries has shape:', (4,))\n",
            "('Groceries has dimension:', 1)\n",
            "('Groceries has a total of', 4, 'elements')\n"
          ],
          "name": "stdout"
        }
      ]
    },
    {
      "metadata": {
        "id": "MPdCVunWkZ84",
        "colab_type": "code",
        "colab": {
          "base_uri": "https://localhost:8080/",
          "height": 52
        },
        "outputId": "f36bfe74-63c9-459e-f3ab-c8ddb328eca3"
      },
      "cell_type": "code",
      "source": [
        "# We print the index and data of Groceries\n",
        "print('The data in Groceries is:', groceries.values)\n",
        "print('The index of Groceries is:', groceries.index)"
      ],
      "execution_count": 5,
      "outputs": [
        {
          "output_type": "stream",
          "text": [
            "('The data in Groceries is:', array([30, 6, 'Yes', 'No'], dtype=object))\n",
            "('The index of Groceries is:', Index([u'eggs', u'apples', u'milk', u'bread'], dtype='object'))\n"
          ],
          "name": "stdout"
        }
      ]
    },
    {
      "metadata": {
        "id": "MRVwTSgyk2jq",
        "colab_type": "code",
        "colab": {
          "base_uri": "https://localhost:8080/",
          "height": 52
        },
        "outputId": "7b2887d7-cfd3-4c14-cebd-bcc7ef7d0256"
      },
      "cell_type": "code",
      "source": [
        "# We check whether bananas is a food item (an index) in Groceries\n",
        "x = 'bananas' in groceries\n",
        "\n",
        "# We check whether bread is a food item (an index) in Groceries\n",
        "y = 'bread' in groceries\n",
        "\n",
        "# We print the results\n",
        "print('Is bananas an index label in Groceries:', x)\n",
        "print('Is bread an index label in Groceries:', y)\n"
      ],
      "execution_count": 6,
      "outputs": [
        {
          "output_type": "stream",
          "text": [
            "('Is bananas an index label in Groceries:', False)\n",
            "('Is bread an index label in Groceries:', True)\n"
          ],
          "name": "stdout"
        }
      ]
    },
    {
      "metadata": {
        "id": "hVZqnkRUlDRu",
        "colab_type": "code",
        "colab": {
          "base_uri": "https://localhost:8080/",
          "height": 399
        },
        "outputId": "54c13a5c-b901-45d0-bff4-94fc05a0a1ff"
      },
      "cell_type": "code",
      "source": [
        "# We access elements in Groceries using index labels:\n",
        "\n",
        "# We use a single index label\n",
        "print('How many eggs do we need to buy:', groceries['eggs'])\n",
        "print()\n",
        "\n",
        "# we can access multiple index labels\n",
        "print('Do we need milk and bread:\\n', groceries[['milk', 'bread']]) \n",
        "print()\n",
        "\n",
        "# we use loc to access multiple index labels\n",
        "print('How many eggs and apples do we need to buy:\\n', groceries.loc[['eggs', 'apples']]) \n",
        "print()\n",
        "\n",
        "# We access elements in Groceries using numerical indices:\n",
        "\n",
        "# we use multiple numerical indices\n",
        "print('How many eggs and apples do we need to buy:\\n',  groceries[[0, 1]]) \n",
        "print()\n",
        "\n",
        "# We use a negative numerical index\n",
        "print('Do we need bread:\\n', groceries[[-1]]) \n",
        "print()\n",
        "\n",
        "# We use a single numerical index\n",
        "print('How many eggs do we need to buy:', groceries[0]) \n",
        "print()\n",
        "# we use iloc to access multiple numerical indices\n",
        "print('Do we need milk and bread:\\n', groceries.iloc[[2, 3]]) "
      ],
      "execution_count": 7,
      "outputs": [
        {
          "output_type": "stream",
          "text": [
            "('How many eggs do we need to buy:', 30)\n",
            "()\n",
            "('Do we need milk and bread:\\n', milk     Yes\n",
            "bread     No\n",
            "dtype: object)\n",
            "()\n",
            "('How many eggs and apples do we need to buy:\\n', eggs      30\n",
            "apples     6\n",
            "dtype: object)\n",
            "()\n",
            "('How many eggs and apples do we need to buy:\\n', eggs      30\n",
            "apples     6\n",
            "dtype: object)\n",
            "()\n",
            "('Do we need bread:\\n', bread    No\n",
            "dtype: object)\n",
            "()\n",
            "('How many eggs do we need to buy:', 30)\n",
            "()\n",
            "('Do we need milk and bread:\\n', milk     Yes\n",
            "bread     No\n",
            "dtype: object)\n"
          ],
          "name": "stdout"
        }
      ]
    },
    {
      "metadata": {
        "id": "gAZiJ4t0lfsp",
        "colab_type": "code",
        "colab": {
          "base_uri": "https://localhost:8080/",
          "height": 208
        },
        "outputId": "edd83eac-a970-485d-daec-c0b67e5c1d56"
      },
      "cell_type": "code",
      "source": [
        "# We display the original grocery list\n",
        "print('Original Grocery List:\\n', groceries)\n",
        "\n",
        "# We change the number of eggs to 2\n",
        "groceries['eggs'] = 2\n",
        "\n",
        "# We display the changed grocery list\n",
        "print()\n",
        "print('Modified Grocery List:\\n', groceries)"
      ],
      "execution_count": 8,
      "outputs": [
        {
          "output_type": "stream",
          "text": [
            "('Original Grocery List:\\n', eggs       30\n",
            "apples      6\n",
            "milk      Yes\n",
            "bread      No\n",
            "dtype: object)\n",
            "()\n",
            "('Modified Grocery List:\\n', eggs        2\n",
            "apples      6\n",
            "milk      Yes\n",
            "bread      No\n",
            "dtype: object)\n"
          ],
          "name": "stdout"
        }
      ]
    },
    {
      "metadata": {
        "id": "36SBRsxknBp2",
        "colab_type": "code",
        "colab": {
          "base_uri": "https://localhost:8080/",
          "height": 295
        },
        "outputId": "19f4ae4d-58e9-42ec-a249-f8052fdf409a"
      },
      "cell_type": "code",
      "source": [
        "# We display the original grocery list\n",
        "print('Original Grocery List:\\n', groceries)\n",
        "\n",
        "# We remove apples from our grocery list. The drop function removes elements out of place\n",
        "print()\n",
        "print('We remove apples (out of place):\\n', groceries.drop('apples'))\n",
        "\n",
        "# When we remove elements out of place the original Series remains intact. To see this\n",
        "# we display our grocery list again\n",
        "print()\n",
        "print('Grocery List after removing apples out of place:\\n', groceries)"
      ],
      "execution_count": 9,
      "outputs": [
        {
          "output_type": "stream",
          "text": [
            "('Original Grocery List:\\n', eggs        2\n",
            "apples      6\n",
            "milk      Yes\n",
            "bread      No\n",
            "dtype: object)\n",
            "()\n",
            "('We remove apples (out of place):\\n', eggs       2\n",
            "milk     Yes\n",
            "bread     No\n",
            "dtype: object)\n",
            "()\n",
            "('Grocery List after removing apples out of place:\\n', eggs        2\n",
            "apples      6\n",
            "milk      Yes\n",
            "bread      No\n",
            "dtype: object)\n"
          ],
          "name": "stdout"
        }
      ]
    },
    {
      "metadata": {
        "id": "9CxuaEfHnNuv",
        "colab_type": "code",
        "colab": {
          "base_uri": "https://localhost:8080/",
          "height": 191
        },
        "outputId": "f2cbebea-f653-4a73-e3d3-ffe2901fbc6f"
      },
      "cell_type": "code",
      "source": [
        "# We display the original grocery list\n",
        "print('Original Grocery List:\\n', groceries)\n",
        "\n",
        "# We remove apples from our grocery list in place by setting the inplace keyword to True\n",
        "groceries.drop('apples', inplace = True)\n",
        "\n",
        "# When we remove elements in place the original Series its modified. To see this\n",
        "# we display our grocery list again\n",
        "print()\n",
        "print('Grocery List after removing apples in place:\\n', groceries)"
      ],
      "execution_count": 10,
      "outputs": [
        {
          "output_type": "stream",
          "text": [
            "('Original Grocery List:\\n', eggs        2\n",
            "apples      6\n",
            "milk      Yes\n",
            "bread      No\n",
            "dtype: object)\n",
            "()\n",
            "('Grocery List after removing apples in place:\\n', eggs       2\n",
            "milk     Yes\n",
            "bread     No\n",
            "dtype: object)\n"
          ],
          "name": "stdout"
        }
      ]
    },
    {
      "metadata": {
        "id": "xecaCRUMog7T",
        "colab_type": "code",
        "colab": {
          "base_uri": "https://localhost:8080/",
          "height": 87
        },
        "outputId": "546ecfbd-317c-4b5b-fd3c-251b1bb70efa"
      },
      "cell_type": "code",
      "source": [
        "# We create a Pandas Series that stores a grocery list of just fruits\n",
        "fruits= pd.Series(data = [10, 6, 3,], index = ['apples', 'oranges', 'bananas'])\n",
        "\n",
        "# We display the fruits Pandas Series\n",
        "fruits"
      ],
      "execution_count": 11,
      "outputs": [
        {
          "output_type": "execute_result",
          "data": {
            "text/plain": [
              "apples     10\n",
              "oranges     6\n",
              "bananas     3\n",
              "dtype: int64"
            ]
          },
          "metadata": {
            "tags": []
          },
          "execution_count": 11
        }
      ]
    },
    {
      "metadata": {
        "id": "GyUqSw7GoxAW",
        "colab_type": "code",
        "colab": {
          "base_uri": "https://localhost:8080/",
          "height": 451
        },
        "outputId": "63f72e05-8df9-4f27-ab63-1f24f79ccb86"
      },
      "cell_type": "code",
      "source": [
        "# We print fruits for reference\n",
        "print('Original grocery list of fruits:\\n ', fruits)\n",
        "\n",
        "# We perform basic element-wise operations using arithmetic symbols\n",
        "print(\"\")\n",
        "print('fruits + 2:\\n', fruits + 2) # We add 2 to each item in fruits\n",
        "print(\"\")\n",
        "print('fruits - 2:\\n', fruits - 2) # We subtract 2 to each item in fruits\n",
        "print(\"\")\n",
        "print('fruits * 2:\\n', fruits * 2) # We multiply each item in fruits by 2 \n",
        "print(\"\")\n",
        "print('fruits / 2:\\n', fruits / 2) # We divide each item in fruits by 2\n",
        "print(\"\")\n"
      ],
      "execution_count": 15,
      "outputs": [
        {
          "output_type": "stream",
          "text": [
            "('Original grocery list of fruits:\\n ', apples     10\n",
            "oranges     6\n",
            "bananas     3\n",
            "dtype: int64)\n",
            "\n",
            "('fruits + 2:\\n', apples     12\n",
            "oranges     8\n",
            "bananas     5\n",
            "dtype: int64)\n",
            "\n",
            "('fruits - 2:\\n', apples     8\n",
            "oranges    4\n",
            "bananas    1\n",
            "dtype: int64)\n",
            "\n",
            "('fruits * 2:\\n', apples     20\n",
            "oranges    12\n",
            "bananas     6\n",
            "dtype: int64)\n",
            "\n",
            "('fruits / 2:\\n', apples     5.0\n",
            "oranges    3.0\n",
            "bananas    1.5\n",
            "dtype: float64)\n",
            "\n"
          ],
          "name": "stdout"
        }
      ]
    },
    {
      "metadata": {
        "id": "UwyjnRbppLqX",
        "colab_type": "code",
        "colab": {
          "base_uri": "https://localhost:8080/",
          "height": 347
        },
        "outputId": "8f28a1fe-27f3-4fdd-d629-fd587fe48f81"
      },
      "cell_type": "code",
      "source": [
        "# We import NumPy as np to be able to use the mathematical functions\n",
        "import numpy as np\n",
        "\n",
        "# We print fruits for reference\n",
        "print('Original grocery list of fruits:\\n', fruits)\n",
        "\n",
        "# We apply different mathematical functions to all elements of fruits\n",
        "print(\"\")\n",
        "print('EXP(X) = \\n', np.exp(fruits))\n",
        "print(\"\")\n",
        "print('SQRT(X) =\\n', np.sqrt(fruits))\n",
        "print(\"\")\n",
        "print('POW(X,2) =\\n',np.power(fruits,2)) # We raise all elements of fruits to the power of 2"
      ],
      "execution_count": 17,
      "outputs": [
        {
          "output_type": "stream",
          "text": [
            "('Original grocery list of fruits:\\n', apples     10\n",
            "oranges     6\n",
            "bananas     3\n",
            "dtype: int64)\n",
            "\n",
            "('EXP(X) = \\n', apples     22026.465795\n",
            "oranges      403.428793\n",
            "bananas       20.085537\n",
            "dtype: float64)\n",
            "\n",
            "('SQRT(X) =\\n', apples     3.162278\n",
            "oranges    2.449490\n",
            "bananas    1.732051\n",
            "dtype: float64)\n",
            "\n",
            "('POW(X,2) =\\n', apples     100\n",
            "oranges     36\n",
            "bananas      9\n",
            "dtype: int64)\n"
          ],
          "name": "stdout"
        }
      ]
    },
    {
      "metadata": {
        "id": "ELYNY1abqGt7",
        "colab_type": "code",
        "colab": {
          "base_uri": "https://localhost:8080/",
          "height": 295
        },
        "outputId": "3db9796f-549b-44d9-fab3-774ab13033c2"
      },
      "cell_type": "code",
      "source": [
        "# We print fruits for reference\n",
        "print('Original grocery list of fruits:\\n ', fruits)\n",
        "print(\"\")\n",
        "\n",
        "# We add 2 only to the bananas\n",
        "print('Amount of bananas + 2 = ', fruits['bananas'] + 2)\n",
        "print(\"\")\n",
        "\n",
        "# We subtract 2 from apples\n",
        "print('Amount of apples - 2 = ', fruits.iloc[0] - 2)\n",
        "print(\"\")\n",
        "\n",
        "# We multiply apples and oranges by 2\n",
        "print('We double the amount of apples and oranges:\\n', fruits[['apples', 'oranges']] * 2)\n",
        "print(\"\")\n",
        "\n",
        "# We divide apples and oranges by 2\n",
        "print('We half the amount of apples and oranges:\\n', fruits.loc[['apples', 'oranges']] / 2)"
      ],
      "execution_count": 19,
      "outputs": [
        {
          "output_type": "stream",
          "text": [
            "('Original grocery list of fruits:\\n ', apples     10\n",
            "oranges     6\n",
            "bananas     3\n",
            "dtype: int64)\n",
            "\n",
            "('Amount of bananas + 2 = ', 5)\n",
            "\n",
            "('Amount of apples - 2 = ', 8)\n",
            "\n",
            "('We double the amount of apples and oranges:\\n', apples     20\n",
            "oranges    12\n",
            "dtype: int64)\n",
            "\n",
            "('We half the amount of apples and oranges:\\n', apples     5.0\n",
            "oranges    3.0\n",
            "dtype: float64)\n"
          ],
          "name": "stdout"
        }
      ]
    },
    {
      "metadata": {
        "id": "havvbpWkqxlA",
        "colab_type": "code",
        "colab": {
          "base_uri": "https://localhost:8080/",
          "height": 87
        },
        "outputId": "75d054e3-f3a0-4a1c-fca2-3576e3d7ec2b"
      },
      "cell_type": "code",
      "source": [
        "# We multiply our grocery list by 2\n",
        "groceries * 2"
      ],
      "execution_count": 20,
      "outputs": [
        {
          "output_type": "execute_result",
          "data": {
            "text/plain": [
              "eggs          4\n",
              "milk     YesYes\n",
              "bread      NoNo\n",
              "dtype: object"
            ]
          },
          "metadata": {
            "tags": []
          },
          "execution_count": 20
        }
      ]
    },
    {
      "metadata": {
        "id": "U3X210_isBH5",
        "colab_type": "code",
        "colab": {}
      },
      "cell_type": "code",
      "source": [
        "import pandas as pd\n",
        "\n",
        "# Create a Pandas Series that contains the distance of some planets from the Sun.\n",
        "# Use the name of the planets as the index to your Pandas Series, and the distance\n",
        "# from the Sun as your data. The distance from the Sun is in units of 10^6 km\n",
        "\n",
        "distance_from_sun = [149.6, 1433.5, 227.9, 108.2, 778.6]\n",
        "\n",
        "planets = ['Earth','Saturn', 'Mars','Venus', 'Jupiter']\n",
        "\n",
        "# Create a Pandas Series using the above data, with the name of the planets as\n",
        "# the index and the distance from the Sun as your data.\n",
        "dist_planets = \n",
        "\n",
        "# Calculate the number of minutes it takes sunlight to reach each planet. You can\n",
        "# do this by dividing the distance from the Sun for each planet by the speed of light.\n",
        "# Since in the data above the distance from the Sun is in units of 10^6 km, you can\n",
        "# use a value for the speed of light of c = 18, since light travels 18 x 10^6 km/minute.\n",
        "time_light = \n",
        "\n",
        "# Use Boolean indexing to select only those planets for which sunlight takes less\n",
        "# than 40 minutes to reach them.\n",
        "close_planets = "
      ],
      "execution_count": 0,
      "outputs": []
    },
    {
      "metadata": {
        "id": "oPpyjDEksSkc",
        "colab_type": "code",
        "colab": {}
      },
      "cell_type": "code",
      "source": [
        "import pandas as pd\n",
        "\n",
        "distance_from_sun = [149.6, 1433.5, 227.9, 108.2, 778.6]\n",
        "\n",
        "planets = ['Earth','Saturn', 'Mars','Venus', 'Jupiter']\n",
        "\n",
        "dist_planets = pd.Series(data = distance_from_sun, index = planets)\n",
        "\n",
        "time_light = dist_planets / 18\n",
        "\n",
        "close_planets = time_light[time_light < 40]"
      ],
      "execution_count": 0,
      "outputs": []
    },
    {
      "metadata": {
        "id": "JlMxb2cPsViA",
        "colab_type": "code",
        "colab": {
          "base_uri": "https://localhost:8080/",
          "height": 35
        },
        "outputId": "d12ae523-ba4e-489c-d13c-87b0e10f596b"
      },
      "cell_type": "code",
      "source": [
        "# We import Pandas as pd into Python\n",
        "import pandas as pd\n",
        "\n",
        "# We create a dictionary of Pandas Series \n",
        "items = {'Bob' : pd.Series(data = [245, 25, 55], index = ['bike', 'pants', 'watch']),\n",
        "         'Alice' : pd.Series(data = [40, 110, 500, 45], index = ['book', 'glasses', 'bike', 'pants'])}\n",
        "\n",
        "# We print the type of items to see that it is a dictionary\n",
        "print(type(items))"
      ],
      "execution_count": 22,
      "outputs": [
        {
          "output_type": "stream",
          "text": [
            "<type 'dict'>\n"
          ],
          "name": "stdout"
        }
      ]
    },
    {
      "metadata": {
        "id": "4mCYOk2Zsh4V",
        "colab_type": "code",
        "colab": {
          "base_uri": "https://localhost:8080/",
          "height": 202
        },
        "outputId": "31eae214-8ce0-4cf8-a69a-fdeefdc04c10"
      },
      "cell_type": "code",
      "source": [
        "# We create a Pandas DataFrame by passing it a dictionary of Pandas Series\n",
        "shopping_carts = pd.DataFrame(items)\n",
        "\n",
        "# We display the DataFrame\n",
        "shopping_carts"
      ],
      "execution_count": 23,
      "outputs": [
        {
          "output_type": "execute_result",
          "data": {
            "text/html": [
              "<div>\n",
              "<style scoped>\n",
              "    .dataframe tbody tr th:only-of-type {\n",
              "        vertical-align: middle;\n",
              "    }\n",
              "\n",
              "    .dataframe tbody tr th {\n",
              "        vertical-align: top;\n",
              "    }\n",
              "\n",
              "    .dataframe thead th {\n",
              "        text-align: right;\n",
              "    }\n",
              "</style>\n",
              "<table border=\"1\" class=\"dataframe\">\n",
              "  <thead>\n",
              "    <tr style=\"text-align: right;\">\n",
              "      <th></th>\n",
              "      <th>Alice</th>\n",
              "      <th>Bob</th>\n",
              "    </tr>\n",
              "  </thead>\n",
              "  <tbody>\n",
              "    <tr>\n",
              "      <th>bike</th>\n",
              "      <td>500.0</td>\n",
              "      <td>245.0</td>\n",
              "    </tr>\n",
              "    <tr>\n",
              "      <th>book</th>\n",
              "      <td>40.0</td>\n",
              "      <td>NaN</td>\n",
              "    </tr>\n",
              "    <tr>\n",
              "      <th>glasses</th>\n",
              "      <td>110.0</td>\n",
              "      <td>NaN</td>\n",
              "    </tr>\n",
              "    <tr>\n",
              "      <th>pants</th>\n",
              "      <td>45.0</td>\n",
              "      <td>25.0</td>\n",
              "    </tr>\n",
              "    <tr>\n",
              "      <th>watch</th>\n",
              "      <td>NaN</td>\n",
              "      <td>55.0</td>\n",
              "    </tr>\n",
              "  </tbody>\n",
              "</table>\n",
              "</div>"
            ],
            "text/plain": [
              "         Alice    Bob\n",
              "bike     500.0  245.0\n",
              "book      40.0    NaN\n",
              "glasses  110.0    NaN\n",
              "pants     45.0   25.0\n",
              "watch      NaN   55.0"
            ]
          },
          "metadata": {
            "tags": []
          },
          "execution_count": 23
        }
      ]
    },
    {
      "metadata": {
        "id": "bgjpDgIes_zB",
        "colab_type": "code",
        "colab": {
          "base_uri": "https://localhost:8080/",
          "height": 171
        },
        "outputId": "3ef8af4a-0e52-45f6-d86c-45c8d6e35f77"
      },
      "cell_type": "code",
      "source": [
        "# We create a dictionary of Pandas Series without indexes\n",
        "data = {'Bob' : pd.Series([245, 25, 55]),\n",
        "        'Alice' : pd.Series([40, 110, 500, 45])}\n",
        "\n",
        "# We create a DataFrame\n",
        "df = pd.DataFrame(data)\n",
        "\n",
        "# We display the DataFrame\n",
        "df\n"
      ],
      "execution_count": 24,
      "outputs": [
        {
          "output_type": "execute_result",
          "data": {
            "text/html": [
              "<div>\n",
              "<style scoped>\n",
              "    .dataframe tbody tr th:only-of-type {\n",
              "        vertical-align: middle;\n",
              "    }\n",
              "\n",
              "    .dataframe tbody tr th {\n",
              "        vertical-align: top;\n",
              "    }\n",
              "\n",
              "    .dataframe thead th {\n",
              "        text-align: right;\n",
              "    }\n",
              "</style>\n",
              "<table border=\"1\" class=\"dataframe\">\n",
              "  <thead>\n",
              "    <tr style=\"text-align: right;\">\n",
              "      <th></th>\n",
              "      <th>Alice</th>\n",
              "      <th>Bob</th>\n",
              "    </tr>\n",
              "  </thead>\n",
              "  <tbody>\n",
              "    <tr>\n",
              "      <th>0</th>\n",
              "      <td>40</td>\n",
              "      <td>245.0</td>\n",
              "    </tr>\n",
              "    <tr>\n",
              "      <th>1</th>\n",
              "      <td>110</td>\n",
              "      <td>25.0</td>\n",
              "    </tr>\n",
              "    <tr>\n",
              "      <th>2</th>\n",
              "      <td>500</td>\n",
              "      <td>55.0</td>\n",
              "    </tr>\n",
              "    <tr>\n",
              "      <th>3</th>\n",
              "      <td>45</td>\n",
              "      <td>NaN</td>\n",
              "    </tr>\n",
              "  </tbody>\n",
              "</table>\n",
              "</div>"
            ],
            "text/plain": [
              "   Alice    Bob\n",
              "0     40  245.0\n",
              "1    110   25.0\n",
              "2    500   55.0\n",
              "3     45    NaN"
            ]
          },
          "metadata": {
            "tags": []
          },
          "execution_count": 24
        }
      ]
    },
    {
      "metadata": {
        "id": "-Fj0NoAotLid",
        "colab_type": "code",
        "colab": {
          "base_uri": "https://localhost:8080/",
          "height": 243
        },
        "outputId": "a4516857-9165-4b55-88d1-2c2f7f53b951"
      },
      "cell_type": "code",
      "source": [
        "# We print some information about shopping_carts\n",
        "print('shopping_carts has shape:', shopping_carts.shape)\n",
        "print('shopping_carts has dimension:', shopping_carts.ndim)\n",
        "print('shopping_carts has a total of:', shopping_carts.size, 'elements')\n",
        "print(\"\")\n",
        "print('The data in shopping_carts is:\\n', shopping_carts.values)\n",
        "print(\"\")\n",
        "print('The row index in shopping_carts is:', shopping_carts.index)\n",
        "print(\"\")\n",
        "print('The column index in shopping_carts is:', shopping_carts.columns)"
      ],
      "execution_count": 26,
      "outputs": [
        {
          "output_type": "stream",
          "text": [
            "('shopping_carts has shape:', (5, 2))\n",
            "('shopping_carts has dimension:', 2)\n",
            "('shopping_carts has a total of:', 10, 'elements')\n",
            "\n",
            "('The data in shopping_carts is:\\n', array([[500., 245.],\n",
            "       [ 40.,  nan],\n",
            "       [110.,  nan],\n",
            "       [ 45.,  25.],\n",
            "       [ nan,  55.]]))\n",
            "\n",
            "('The row index in shopping_carts is:', Index([u'bike', u'book', u'glasses', u'pants', u'watch'], dtype='object'))\n",
            "\n",
            "('The column index in shopping_carts is:', Index([u'Alice', u'Bob'], dtype='object'))\n"
          ],
          "name": "stdout"
        }
      ]
    },
    {
      "metadata": {
        "id": "OmyXyNbVtUKK",
        "colab_type": "code",
        "colab": {
          "base_uri": "https://localhost:8080/",
          "height": 141
        },
        "outputId": "176eaa34-f79f-4ad5-e24c-5cbe90dd4bee"
      },
      "cell_type": "code",
      "source": [
        "# We Create a DataFrame that only has Bob's data\n",
        "bob_shopping_cart = pd.DataFrame(items, columns=['Bob'])\n",
        "\n",
        "# We display bob_shopping_cart\n",
        "bob_shopping_cart"
      ],
      "execution_count": 27,
      "outputs": [
        {
          "output_type": "execute_result",
          "data": {
            "text/html": [
              "<div>\n",
              "<style scoped>\n",
              "    .dataframe tbody tr th:only-of-type {\n",
              "        vertical-align: middle;\n",
              "    }\n",
              "\n",
              "    .dataframe tbody tr th {\n",
              "        vertical-align: top;\n",
              "    }\n",
              "\n",
              "    .dataframe thead th {\n",
              "        text-align: right;\n",
              "    }\n",
              "</style>\n",
              "<table border=\"1\" class=\"dataframe\">\n",
              "  <thead>\n",
              "    <tr style=\"text-align: right;\">\n",
              "      <th></th>\n",
              "      <th>Bob</th>\n",
              "    </tr>\n",
              "  </thead>\n",
              "  <tbody>\n",
              "    <tr>\n",
              "      <th>bike</th>\n",
              "      <td>245</td>\n",
              "    </tr>\n",
              "    <tr>\n",
              "      <th>pants</th>\n",
              "      <td>25</td>\n",
              "    </tr>\n",
              "    <tr>\n",
              "      <th>watch</th>\n",
              "      <td>55</td>\n",
              "    </tr>\n",
              "  </tbody>\n",
              "</table>\n",
              "</div>"
            ],
            "text/plain": [
              "       Bob\n",
              "bike   245\n",
              "pants   25\n",
              "watch   55"
            ]
          },
          "metadata": {
            "tags": []
          },
          "execution_count": 27
        }
      ]
    },
    {
      "metadata": {
        "id": "iN0Z-ysStxiB",
        "colab_type": "code",
        "colab": {}
      },
      "cell_type": "code",
      "source": [
        ""
      ],
      "execution_count": 0,
      "outputs": []
    }
  ]
}