{
  "nbformat": 4,
  "nbformat_minor": 0,
  "metadata": {
    "colab": {
      "name": "Pandas.ipynb",
      "version": "0.3.2",
      "provenance": [],
      "include_colab_link": true
    },
    "kernelspec": {
      "name": "python2",
      "display_name": "Python 2"
    },
    "accelerator": "TPU"
  },
  "cells": [
    {
      "cell_type": "markdown",
      "metadata": {
        "id": "view-in-github",
        "colab_type": "text"
      },
      "source": [
        "<a href=\"https://colab.research.google.com/github/classofai/AIPND/blob/master/Pandas/Pandas.ipynb\" target=\"_parent\"><img src=\"https://colab.research.google.com/assets/colab-badge.svg\" alt=\"Open In Colab\"/></a>"
      ]
    },
    {
      "metadata": {
        "id": "S4Fu2cwpi4cM",
        "colab_type": "code",
        "colab": {}
      },
      "cell_type": "code",
      "source": [
        "import pandas as pd\n"
      ],
      "execution_count": 0,
      "outputs": []
    },
    {
      "metadata": {
        "id": "jLzYYJKojqJr",
        "colab_type": "code",
        "outputId": "55614877-4103-4fb2-90c9-ef93382ea9c5",
        "colab": {
          "base_uri": "https://localhost:8080/",
          "height": 104
        }
      },
      "cell_type": "code",
      "source": [
        "# We import Pandas as pd into Python\n",
        "import pandas as pd\n",
        "\n",
        "# We create a Pandas Series that stores a grocery list\n",
        "groceries = pd.Series(data = [30, 6, 'Yes', 'No'], index = ['eggs', 'apples', 'milk', 'bread'])\n",
        "\n",
        "# We display the Groceries Pandas Series\n",
        "groceries"
      ],
      "execution_count": 2,
      "outputs": [
        {
          "output_type": "execute_result",
          "data": {
            "text/plain": [
              "eggs       30\n",
              "apples      6\n",
              "milk      Yes\n",
              "bread      No\n",
              "dtype: object"
            ]
          },
          "metadata": {
            "tags": []
          },
          "execution_count": 2
        }
      ]
    },
    {
      "metadata": {
        "id": "JsgQnWN4kF0K",
        "colab_type": "code",
        "outputId": "69ef4a55-6b54-44d3-8d03-c4000f50e1cf",
        "colab": {
          "base_uri": "https://localhost:8080/",
          "height": 69
        }
      },
      "cell_type": "code",
      "source": [
        "# We print some information about Groceries\n",
        "print('Groceries has shape:', groceries.shape)\n",
        "print('Groceries has dimension:', groceries.ndim)\n",
        "print('Groceries has a total of', groceries.size, 'elements')"
      ],
      "execution_count": 3,
      "outputs": [
        {
          "output_type": "stream",
          "text": [
            "('Groceries has shape:', (4,))\n",
            "('Groceries has dimension:', 1)\n",
            "('Groceries has a total of', 4, 'elements')\n"
          ],
          "name": "stdout"
        }
      ]
    },
    {
      "metadata": {
        "id": "MPdCVunWkZ84",
        "colab_type": "code",
        "outputId": "56f0f3ca-d8d2-4cf2-b6a7-47eaf702302f",
        "colab": {
          "base_uri": "https://localhost:8080/",
          "height": 52
        }
      },
      "cell_type": "code",
      "source": [
        "# We print the index and data of Groceries\n",
        "print('The data in Groceries is:', groceries.values)\n",
        "print('The index of Groceries is:', groceries.index)"
      ],
      "execution_count": 4,
      "outputs": [
        {
          "output_type": "stream",
          "text": [
            "('The data in Groceries is:', array([30, 6, 'Yes', 'No'], dtype=object))\n",
            "('The index of Groceries is:', Index([u'eggs', u'apples', u'milk', u'bread'], dtype='object'))\n"
          ],
          "name": "stdout"
        }
      ]
    },
    {
      "metadata": {
        "id": "MRVwTSgyk2jq",
        "colab_type": "code",
        "outputId": "1f0aeeab-a1a9-42ce-8436-1d8a1872799e",
        "colab": {
          "base_uri": "https://localhost:8080/",
          "height": 52
        }
      },
      "cell_type": "code",
      "source": [
        "# We check whether bananas is a food item (an index) in Groceries\n",
        "x = 'bananas' in groceries\n",
        "\n",
        "# We check whether bread is a food item (an index) in Groceries\n",
        "y = 'bread' in groceries\n",
        "\n",
        "# We print the results\n",
        "print('Is bananas an index label in Groceries:', x)\n",
        "print('Is bread an index label in Groceries:', y)\n"
      ],
      "execution_count": 5,
      "outputs": [
        {
          "output_type": "stream",
          "text": [
            "('Is bananas an index label in Groceries:', False)\n",
            "('Is bread an index label in Groceries:', True)\n"
          ],
          "name": "stdout"
        }
      ]
    },
    {
      "metadata": {
        "id": "hVZqnkRUlDRu",
        "colab_type": "code",
        "outputId": "92dc9376-bd8f-4913-c7b0-fa07b04416e2",
        "colab": {
          "base_uri": "https://localhost:8080/",
          "height": 399
        }
      },
      "cell_type": "code",
      "source": [
        "# We access elements in Groceries using index labels:\n",
        "\n",
        "# We use a single index label\n",
        "print('How many eggs do we need to buy:', groceries['eggs'])\n",
        "print()\n",
        "\n",
        "# we can access multiple index labels\n",
        "print('Do we need milk and bread:\\n', groceries[['milk', 'bread']]) \n",
        "print()\n",
        "\n",
        "# we use loc to access multiple index labels\n",
        "print('How many eggs and apples do we need to buy:\\n', groceries.loc[['eggs', 'apples']]) \n",
        "print()\n",
        "\n",
        "# We access elements in Groceries using numerical indices:\n",
        "\n",
        "# we use multiple numerical indices\n",
        "print('How many eggs and apples do we need to buy:\\n',  groceries[[0, 1]]) \n",
        "print()\n",
        "\n",
        "# We use a negative numerical index\n",
        "print('Do we need bread:\\n', groceries[[-1]]) \n",
        "print()\n",
        "\n",
        "# We use a single numerical index\n",
        "print('How many eggs do we need to buy:', groceries[0]) \n",
        "print()\n",
        "# we use iloc to access multiple numerical indices\n",
        "print('Do we need milk and bread:\\n', groceries.iloc[[2, 3]]) "
      ],
      "execution_count": 6,
      "outputs": [
        {
          "output_type": "stream",
          "text": [
            "('How many eggs do we need to buy:', 30)\n",
            "()\n",
            "('Do we need milk and bread:\\n', milk     Yes\n",
            "bread     No\n",
            "dtype: object)\n",
            "()\n",
            "('How many eggs and apples do we need to buy:\\n', eggs      30\n",
            "apples     6\n",
            "dtype: object)\n",
            "()\n",
            "('How many eggs and apples do we need to buy:\\n', eggs      30\n",
            "apples     6\n",
            "dtype: object)\n",
            "()\n",
            "('Do we need bread:\\n', bread    No\n",
            "dtype: object)\n",
            "()\n",
            "('How many eggs do we need to buy:', 30)\n",
            "()\n",
            "('Do we need milk and bread:\\n', milk     Yes\n",
            "bread     No\n",
            "dtype: object)\n"
          ],
          "name": "stdout"
        }
      ]
    },
    {
      "metadata": {
        "id": "gAZiJ4t0lfsp",
        "colab_type": "code",
        "outputId": "f35965c7-3eca-4814-ed27-8dbcba363eb8",
        "colab": {
          "base_uri": "https://localhost:8080/",
          "height": 208
        }
      },
      "cell_type": "code",
      "source": [
        "# We display the original grocery list\n",
        "print('Original Grocery List:\\n', groceries)\n",
        "\n",
        "# We change the number of eggs to 2\n",
        "groceries['eggs'] = 2\n",
        "\n",
        "# We display the changed grocery list\n",
        "print()\n",
        "print('Modified Grocery List:\\n', groceries)"
      ],
      "execution_count": 7,
      "outputs": [
        {
          "output_type": "stream",
          "text": [
            "('Original Grocery List:\\n', eggs       30\n",
            "apples      6\n",
            "milk      Yes\n",
            "bread      No\n",
            "dtype: object)\n",
            "()\n",
            "('Modified Grocery List:\\n', eggs        2\n",
            "apples      6\n",
            "milk      Yes\n",
            "bread      No\n",
            "dtype: object)\n"
          ],
          "name": "stdout"
        }
      ]
    },
    {
      "metadata": {
        "id": "36SBRsxknBp2",
        "colab_type": "code",
        "outputId": "3547a5a3-bdfe-40f4-d341-1d092badcae6",
        "colab": {
          "base_uri": "https://localhost:8080/",
          "height": 295
        }
      },
      "cell_type": "code",
      "source": [
        "# We display the original grocery list\n",
        "print('Original Grocery List:\\n', groceries)\n",
        "\n",
        "# We remove apples from our grocery list. The drop function removes elements out of place\n",
        "print()\n",
        "print('We remove apples (out of place):\\n', groceries.drop('apples'))\n",
        "\n",
        "# When we remove elements out of place the original Series remains intact. To see this\n",
        "# we display our grocery list again\n",
        "print()\n",
        "print('Grocery List after removing apples out of place:\\n', groceries)"
      ],
      "execution_count": 8,
      "outputs": [
        {
          "output_type": "stream",
          "text": [
            "('Original Grocery List:\\n', eggs        2\n",
            "apples      6\n",
            "milk      Yes\n",
            "bread      No\n",
            "dtype: object)\n",
            "()\n",
            "('We remove apples (out of place):\\n', eggs       2\n",
            "milk     Yes\n",
            "bread     No\n",
            "dtype: object)\n",
            "()\n",
            "('Grocery List after removing apples out of place:\\n', eggs        2\n",
            "apples      6\n",
            "milk      Yes\n",
            "bread      No\n",
            "dtype: object)\n"
          ],
          "name": "stdout"
        }
      ]
    },
    {
      "metadata": {
        "id": "9CxuaEfHnNuv",
        "colab_type": "code",
        "outputId": "c2829b1d-83a7-47eb-fbbd-5e1045206ab1",
        "colab": {
          "base_uri": "https://localhost:8080/",
          "height": 191
        }
      },
      "cell_type": "code",
      "source": [
        "# We display the original grocery list\n",
        "print('Original Grocery List:\\n', groceries)\n",
        "\n",
        "# We remove apples from our grocery list in place by setting the inplace keyword to True\n",
        "groceries.drop('apples', inplace = True)\n",
        "\n",
        "# When we remove elements in place the original Series its modified. To see this\n",
        "# we display our grocery list again\n",
        "print()\n",
        "print('Grocery List after removing apples in place:\\n', groceries)"
      ],
      "execution_count": 9,
      "outputs": [
        {
          "output_type": "stream",
          "text": [
            "('Original Grocery List:\\n', eggs        2\n",
            "apples      6\n",
            "milk      Yes\n",
            "bread      No\n",
            "dtype: object)\n",
            "()\n",
            "('Grocery List after removing apples in place:\\n', eggs       2\n",
            "milk     Yes\n",
            "bread     No\n",
            "dtype: object)\n"
          ],
          "name": "stdout"
        }
      ]
    },
    {
      "metadata": {
        "id": "xecaCRUMog7T",
        "colab_type": "code",
        "outputId": "c921d0a0-afc2-4b07-b1f0-75594edc0562",
        "colab": {
          "base_uri": "https://localhost:8080/",
          "height": 87
        }
      },
      "cell_type": "code",
      "source": [
        "# We create a Pandas Series that stores a grocery list of just fruits\n",
        "fruits= pd.Series(data = [10, 6, 3,], index = ['apples', 'oranges', 'bananas'])\n",
        "\n",
        "# We display the fruits Pandas Series\n",
        "fruits"
      ],
      "execution_count": 10,
      "outputs": [
        {
          "output_type": "execute_result",
          "data": {
            "text/plain": [
              "apples     10\n",
              "oranges     6\n",
              "bananas     3\n",
              "dtype: int64"
            ]
          },
          "metadata": {
            "tags": []
          },
          "execution_count": 10
        }
      ]
    },
    {
      "metadata": {
        "id": "GyUqSw7GoxAW",
        "colab_type": "code",
        "outputId": "942e8458-d3e4-4873-c814-995d26c6cf61",
        "colab": {
          "base_uri": "https://localhost:8080/",
          "height": 451
        }
      },
      "cell_type": "code",
      "source": [
        "# We print fruits for reference\n",
        "print('Original grocery list of fruits:\\n ', fruits)\n",
        "\n",
        "# We perform basic element-wise operations using arithmetic symbols\n",
        "print(\"\")\n",
        "print('fruits + 2:\\n', fruits + 2) # We add 2 to each item in fruits\n",
        "print(\"\")\n",
        "print('fruits - 2:\\n', fruits - 2) # We subtract 2 to each item in fruits\n",
        "print(\"\")\n",
        "print('fruits * 2:\\n', fruits * 2) # We multiply each item in fruits by 2 \n",
        "print(\"\")\n",
        "print('fruits / 2:\\n', fruits / 2) # We divide each item in fruits by 2\n",
        "print(\"\")\n"
      ],
      "execution_count": 11,
      "outputs": [
        {
          "output_type": "stream",
          "text": [
            "('Original grocery list of fruits:\\n ', apples     10\n",
            "oranges     6\n",
            "bananas     3\n",
            "dtype: int64)\n",
            "\n",
            "('fruits + 2:\\n', apples     12\n",
            "oranges     8\n",
            "bananas     5\n",
            "dtype: int64)\n",
            "\n",
            "('fruits - 2:\\n', apples     8\n",
            "oranges    4\n",
            "bananas    1\n",
            "dtype: int64)\n",
            "\n",
            "('fruits * 2:\\n', apples     20\n",
            "oranges    12\n",
            "bananas     6\n",
            "dtype: int64)\n",
            "\n",
            "('fruits / 2:\\n', apples     5.0\n",
            "oranges    3.0\n",
            "bananas    1.5\n",
            "dtype: float64)\n",
            "\n"
          ],
          "name": "stdout"
        }
      ]
    },
    {
      "metadata": {
        "id": "UwyjnRbppLqX",
        "colab_type": "code",
        "outputId": "05af99a6-ff74-4d53-c1bf-ec085db58c83",
        "colab": {
          "base_uri": "https://localhost:8080/",
          "height": 347
        }
      },
      "cell_type": "code",
      "source": [
        "# We import NumPy as np to be able to use the mathematical functions\n",
        "import numpy as np\n",
        "\n",
        "# We print fruits for reference\n",
        "print('Original grocery list of fruits:\\n', fruits)\n",
        "\n",
        "# We apply different mathematical functions to all elements of fruits\n",
        "print(\"\")\n",
        "print('EXP(X) = \\n', np.exp(fruits))\n",
        "print(\"\")\n",
        "print('SQRT(X) =\\n', np.sqrt(fruits))\n",
        "print(\"\")\n",
        "print('POW(X,2) =\\n',np.power(fruits,2)) # We raise all elements of fruits to the power of 2"
      ],
      "execution_count": 12,
      "outputs": [
        {
          "output_type": "stream",
          "text": [
            "('Original grocery list of fruits:\\n', apples     10\n",
            "oranges     6\n",
            "bananas     3\n",
            "dtype: int64)\n",
            "\n",
            "('EXP(X) = \\n', apples     22026.465795\n",
            "oranges      403.428793\n",
            "bananas       20.085537\n",
            "dtype: float64)\n",
            "\n",
            "('SQRT(X) =\\n', apples     3.162278\n",
            "oranges    2.449490\n",
            "bananas    1.732051\n",
            "dtype: float64)\n",
            "\n",
            "('POW(X,2) =\\n', apples     100\n",
            "oranges     36\n",
            "bananas      9\n",
            "dtype: int64)\n"
          ],
          "name": "stdout"
        }
      ]
    },
    {
      "metadata": {
        "id": "ELYNY1abqGt7",
        "colab_type": "code",
        "outputId": "e478463e-4ea6-4798-8963-82fd0621b35a",
        "colab": {
          "base_uri": "https://localhost:8080/",
          "height": 295
        }
      },
      "cell_type": "code",
      "source": [
        "# We print fruits for reference\n",
        "print('Original grocery list of fruits:\\n ', fruits)\n",
        "print(\"\")\n",
        "\n",
        "# We add 2 only to the bananas\n",
        "print('Amount of bananas + 2 = ', fruits['bananas'] + 2)\n",
        "print(\"\")\n",
        "\n",
        "# We subtract 2 from apples\n",
        "print('Amount of apples - 2 = ', fruits.iloc[0] - 2)\n",
        "print(\"\")\n",
        "\n",
        "# We multiply apples and oranges by 2\n",
        "print('We double the amount of apples and oranges:\\n', fruits[['apples', 'oranges']] * 2)\n",
        "print(\"\")\n",
        "\n",
        "# We divide apples and oranges by 2\n",
        "print('We half the amount of apples and oranges:\\n', fruits.loc[['apples', 'oranges']] / 2)"
      ],
      "execution_count": 13,
      "outputs": [
        {
          "output_type": "stream",
          "text": [
            "('Original grocery list of fruits:\\n ', apples     10\n",
            "oranges     6\n",
            "bananas     3\n",
            "dtype: int64)\n",
            "\n",
            "('Amount of bananas + 2 = ', 5)\n",
            "\n",
            "('Amount of apples - 2 = ', 8)\n",
            "\n",
            "('We double the amount of apples and oranges:\\n', apples     20\n",
            "oranges    12\n",
            "dtype: int64)\n",
            "\n",
            "('We half the amount of apples and oranges:\\n', apples     5.0\n",
            "oranges    3.0\n",
            "dtype: float64)\n"
          ],
          "name": "stdout"
        }
      ]
    },
    {
      "metadata": {
        "id": "havvbpWkqxlA",
        "colab_type": "code",
        "outputId": "e533af8a-b0bf-48fc-b63a-90de209f3e50",
        "colab": {
          "base_uri": "https://localhost:8080/",
          "height": 87
        }
      },
      "cell_type": "code",
      "source": [
        "# We multiply our grocery list by 2\n",
        "groceries * 2"
      ],
      "execution_count": 14,
      "outputs": [
        {
          "output_type": "execute_result",
          "data": {
            "text/plain": [
              "eggs          4\n",
              "milk     YesYes\n",
              "bread      NoNo\n",
              "dtype: object"
            ]
          },
          "metadata": {
            "tags": []
          },
          "execution_count": 14
        }
      ]
    },
    {
      "metadata": {
        "id": "U3X210_isBH5",
        "colab_type": "code",
        "colab": {}
      },
      "cell_type": "code",
      "source": [
        "import pandas as pd\n",
        "\n",
        "# Create a Pandas Series that contains the distance of some planets from the Sun.\n",
        "# Use the name of the planets as the index to your Pandas Series, and the distance\n",
        "# from the Sun as your data. The distance from the Sun is in units of 10^6 km\n",
        "\n",
        "distance_from_sun = [149.6, 1433.5, 227.9, 108.2, 778.6]\n",
        "\n",
        "planets = ['Earth','Saturn', 'Mars','Venus', 'Jupiter']\n",
        "\n",
        "# Create a Pandas Series using the above data, with the name of the planets as\n",
        "# the index and the distance from the Sun as your data.\n",
        "dist_planets = \n",
        "\n",
        "# Calculate the number of minutes it takes sunlight to reach each planet. You can\n",
        "# do this by dividing the distance from the Sun for each planet by the speed of light.\n",
        "# Since in the data above the distance from the Sun is in units of 10^6 km, you can\n",
        "# use a value for the speed of light of c = 18, since light travels 18 x 10^6 km/minute.\n",
        "time_light = \n",
        "\n",
        "# Use Boolean indexing to select only those planets for which sunlight takes less\n",
        "# than 40 minutes to reach them.\n",
        "close_planets = "
      ],
      "execution_count": 0,
      "outputs": []
    },
    {
      "metadata": {
        "id": "oPpyjDEksSkc",
        "colab_type": "code",
        "colab": {}
      },
      "cell_type": "code",
      "source": [
        "import pandas as pd\n",
        "\n",
        "distance_from_sun = [149.6, 1433.5, 227.9, 108.2, 778.6]\n",
        "\n",
        "planets = ['Earth','Saturn', 'Mars','Venus', 'Jupiter']\n",
        "\n",
        "dist_planets = pd.Series(data = distance_from_sun, index = planets)\n",
        "\n",
        "time_light = dist_planets / 18\n",
        "\n",
        "close_planets = time_light[time_light < 40]"
      ],
      "execution_count": 0,
      "outputs": []
    },
    {
      "metadata": {
        "id": "JlMxb2cPsViA",
        "colab_type": "code",
        "outputId": "2f13b3ba-38b4-4370-d898-da984d6fbe50",
        "colab": {
          "base_uri": "https://localhost:8080/",
          "height": 35
        }
      },
      "cell_type": "code",
      "source": [
        "# We import Pandas as pd into Python\n",
        "import pandas as pd\n",
        "\n",
        "# We create a dictionary of Pandas Series \n",
        "items = {'Bob' : pd.Series(data = [245, 25, 55], index = ['bike', 'pants', 'watch']),\n",
        "         'Alice' : pd.Series(data = [40, 110, 500, 45], index = ['book', 'glasses', 'bike', 'pants'])}\n",
        "\n",
        "# We print the type of items to see that it is a dictionary\n",
        "print(type(items))"
      ],
      "execution_count": 18,
      "outputs": [
        {
          "output_type": "stream",
          "text": [
            "<type 'dict'>\n"
          ],
          "name": "stdout"
        }
      ]
    },
    {
      "metadata": {
        "id": "4mCYOk2Zsh4V",
        "colab_type": "code",
        "outputId": "c69f9c15-cea4-4be6-d780-a2abfac02889",
        "colab": {
          "base_uri": "https://localhost:8080/",
          "height": 202
        }
      },
      "cell_type": "code",
      "source": [
        "# We create a Pandas DataFrame by passing it a dictionary of Pandas Series\n",
        "shopping_carts = pd.DataFrame(items)\n",
        "\n",
        "# We display the DataFrame\n",
        "shopping_carts"
      ],
      "execution_count": 19,
      "outputs": [
        {
          "output_type": "execute_result",
          "data": {
            "text/html": [
              "<div>\n",
              "<style scoped>\n",
              "    .dataframe tbody tr th:only-of-type {\n",
              "        vertical-align: middle;\n",
              "    }\n",
              "\n",
              "    .dataframe tbody tr th {\n",
              "        vertical-align: top;\n",
              "    }\n",
              "\n",
              "    .dataframe thead th {\n",
              "        text-align: right;\n",
              "    }\n",
              "</style>\n",
              "<table border=\"1\" class=\"dataframe\">\n",
              "  <thead>\n",
              "    <tr style=\"text-align: right;\">\n",
              "      <th></th>\n",
              "      <th>Alice</th>\n",
              "      <th>Bob</th>\n",
              "    </tr>\n",
              "  </thead>\n",
              "  <tbody>\n",
              "    <tr>\n",
              "      <th>bike</th>\n",
              "      <td>500.0</td>\n",
              "      <td>245.0</td>\n",
              "    </tr>\n",
              "    <tr>\n",
              "      <th>book</th>\n",
              "      <td>40.0</td>\n",
              "      <td>NaN</td>\n",
              "    </tr>\n",
              "    <tr>\n",
              "      <th>glasses</th>\n",
              "      <td>110.0</td>\n",
              "      <td>NaN</td>\n",
              "    </tr>\n",
              "    <tr>\n",
              "      <th>pants</th>\n",
              "      <td>45.0</td>\n",
              "      <td>25.0</td>\n",
              "    </tr>\n",
              "    <tr>\n",
              "      <th>watch</th>\n",
              "      <td>NaN</td>\n",
              "      <td>55.0</td>\n",
              "    </tr>\n",
              "  </tbody>\n",
              "</table>\n",
              "</div>"
            ],
            "text/plain": [
              "         Alice    Bob\n",
              "bike     500.0  245.0\n",
              "book      40.0    NaN\n",
              "glasses  110.0    NaN\n",
              "pants     45.0   25.0\n",
              "watch      NaN   55.0"
            ]
          },
          "metadata": {
            "tags": []
          },
          "execution_count": 19
        }
      ]
    },
    {
      "metadata": {
        "id": "bgjpDgIes_zB",
        "colab_type": "code",
        "outputId": "87dfe067-55a6-4c0c-ac0d-50b70966253c",
        "colab": {
          "base_uri": "https://localhost:8080/",
          "height": 171
        }
      },
      "cell_type": "code",
      "source": [
        "# We create a dictionary of Pandas Series without indexes\n",
        "data = {'Bob' : pd.Series([245, 25, 55]),\n",
        "        'Alice' : pd.Series([40, 110, 500, 45])}\n",
        "\n",
        "# We create a DataFrame\n",
        "df = pd.DataFrame(data)\n",
        "\n",
        "# We display the DataFrame\n",
        "df\n"
      ],
      "execution_count": 20,
      "outputs": [
        {
          "output_type": "execute_result",
          "data": {
            "text/html": [
              "<div>\n",
              "<style scoped>\n",
              "    .dataframe tbody tr th:only-of-type {\n",
              "        vertical-align: middle;\n",
              "    }\n",
              "\n",
              "    .dataframe tbody tr th {\n",
              "        vertical-align: top;\n",
              "    }\n",
              "\n",
              "    .dataframe thead th {\n",
              "        text-align: right;\n",
              "    }\n",
              "</style>\n",
              "<table border=\"1\" class=\"dataframe\">\n",
              "  <thead>\n",
              "    <tr style=\"text-align: right;\">\n",
              "      <th></th>\n",
              "      <th>Alice</th>\n",
              "      <th>Bob</th>\n",
              "    </tr>\n",
              "  </thead>\n",
              "  <tbody>\n",
              "    <tr>\n",
              "      <th>0</th>\n",
              "      <td>40</td>\n",
              "      <td>245.0</td>\n",
              "    </tr>\n",
              "    <tr>\n",
              "      <th>1</th>\n",
              "      <td>110</td>\n",
              "      <td>25.0</td>\n",
              "    </tr>\n",
              "    <tr>\n",
              "      <th>2</th>\n",
              "      <td>500</td>\n",
              "      <td>55.0</td>\n",
              "    </tr>\n",
              "    <tr>\n",
              "      <th>3</th>\n",
              "      <td>45</td>\n",
              "      <td>NaN</td>\n",
              "    </tr>\n",
              "  </tbody>\n",
              "</table>\n",
              "</div>"
            ],
            "text/plain": [
              "   Alice    Bob\n",
              "0     40  245.0\n",
              "1    110   25.0\n",
              "2    500   55.0\n",
              "3     45    NaN"
            ]
          },
          "metadata": {
            "tags": []
          },
          "execution_count": 20
        }
      ]
    },
    {
      "metadata": {
        "id": "-Fj0NoAotLid",
        "colab_type": "code",
        "outputId": "d0dbdf37-01f3-4790-cd4c-f36b123bf49c",
        "colab": {
          "base_uri": "https://localhost:8080/",
          "height": 243
        }
      },
      "cell_type": "code",
      "source": [
        "# We print some information about shopping_carts\n",
        "print('shopping_carts has shape:', shopping_carts.shape)\n",
        "print('shopping_carts has dimension:', shopping_carts.ndim)\n",
        "print('shopping_carts has a total of:', shopping_carts.size, 'elements')\n",
        "print(\"\")\n",
        "print('The data in shopping_carts is:\\n', shopping_carts.values)\n",
        "print(\"\")\n",
        "print('The row index in shopping_carts is:', shopping_carts.index)\n",
        "print(\"\")\n",
        "print('The column index in shopping_carts is:', shopping_carts.columns)"
      ],
      "execution_count": 21,
      "outputs": [
        {
          "output_type": "stream",
          "text": [
            "('shopping_carts has shape:', (5, 2))\n",
            "('shopping_carts has dimension:', 2)\n",
            "('shopping_carts has a total of:', 10, 'elements')\n",
            "\n",
            "('The data in shopping_carts is:\\n', array([[500., 245.],\n",
            "       [ 40.,  nan],\n",
            "       [110.,  nan],\n",
            "       [ 45.,  25.],\n",
            "       [ nan,  55.]]))\n",
            "\n",
            "('The row index in shopping_carts is:', Index([u'bike', u'book', u'glasses', u'pants', u'watch'], dtype='object'))\n",
            "\n",
            "('The column index in shopping_carts is:', Index([u'Alice', u'Bob'], dtype='object'))\n"
          ],
          "name": "stdout"
        }
      ]
    },
    {
      "metadata": {
        "id": "OmyXyNbVtUKK",
        "colab_type": "code",
        "outputId": "bdc0baa7-12cd-4d75-fe6c-167c531be037",
        "colab": {
          "base_uri": "https://localhost:8080/",
          "height": 141
        }
      },
      "cell_type": "code",
      "source": [
        "# We Create a DataFrame that only has Bob's data\n",
        "bob_shopping_cart = pd.DataFrame(items, columns=['Bob'])\n",
        "\n",
        "# We display bob_shopping_cart\n",
        "bob_shopping_cart"
      ],
      "execution_count": 22,
      "outputs": [
        {
          "output_type": "execute_result",
          "data": {
            "text/html": [
              "<div>\n",
              "<style scoped>\n",
              "    .dataframe tbody tr th:only-of-type {\n",
              "        vertical-align: middle;\n",
              "    }\n",
              "\n",
              "    .dataframe tbody tr th {\n",
              "        vertical-align: top;\n",
              "    }\n",
              "\n",
              "    .dataframe thead th {\n",
              "        text-align: right;\n",
              "    }\n",
              "</style>\n",
              "<table border=\"1\" class=\"dataframe\">\n",
              "  <thead>\n",
              "    <tr style=\"text-align: right;\">\n",
              "      <th></th>\n",
              "      <th>Bob</th>\n",
              "    </tr>\n",
              "  </thead>\n",
              "  <tbody>\n",
              "    <tr>\n",
              "      <th>bike</th>\n",
              "      <td>245</td>\n",
              "    </tr>\n",
              "    <tr>\n",
              "      <th>pants</th>\n",
              "      <td>25</td>\n",
              "    </tr>\n",
              "    <tr>\n",
              "      <th>watch</th>\n",
              "      <td>55</td>\n",
              "    </tr>\n",
              "  </tbody>\n",
              "</table>\n",
              "</div>"
            ],
            "text/plain": [
              "       Bob\n",
              "bike   245\n",
              "pants   25\n",
              "watch   55"
            ]
          },
          "metadata": {
            "tags": []
          },
          "execution_count": 22
        }
      ]
    },
    {
      "metadata": {
        "id": "iN0Z-ysStxiB",
        "colab_type": "code",
        "colab": {
          "base_uri": "https://localhost:8080/",
          "height": 110
        },
        "outputId": "6bc7c671-e0ef-4155-f7ca-9c78c3e20080"
      },
      "cell_type": "code",
      "source": [
        "# We Create a DataFrame that only has selected items for both Alice and Bob\n",
        "sel_shopping_cart = pd.DataFrame(items, index = ['pants', 'book'])\n",
        "\n",
        "# We display sel_shopping_cart\n",
        "sel_shopping_cart"
      ],
      "execution_count": 23,
      "outputs": [
        {
          "output_type": "execute_result",
          "data": {
            "text/html": [
              "<div>\n",
              "<style scoped>\n",
              "    .dataframe tbody tr th:only-of-type {\n",
              "        vertical-align: middle;\n",
              "    }\n",
              "\n",
              "    .dataframe tbody tr th {\n",
              "        vertical-align: top;\n",
              "    }\n",
              "\n",
              "    .dataframe thead th {\n",
              "        text-align: right;\n",
              "    }\n",
              "</style>\n",
              "<table border=\"1\" class=\"dataframe\">\n",
              "  <thead>\n",
              "    <tr style=\"text-align: right;\">\n",
              "      <th></th>\n",
              "      <th>Alice</th>\n",
              "      <th>Bob</th>\n",
              "    </tr>\n",
              "  </thead>\n",
              "  <tbody>\n",
              "    <tr>\n",
              "      <th>pants</th>\n",
              "      <td>45</td>\n",
              "      <td>25.0</td>\n",
              "    </tr>\n",
              "    <tr>\n",
              "      <th>book</th>\n",
              "      <td>40</td>\n",
              "      <td>NaN</td>\n",
              "    </tr>\n",
              "  </tbody>\n",
              "</table>\n",
              "</div>"
            ],
            "text/plain": [
              "       Alice   Bob\n",
              "pants     45  25.0\n",
              "book      40   NaN"
            ]
          },
          "metadata": {
            "tags": []
          },
          "execution_count": 23
        }
      ]
    },
    {
      "metadata": {
        "id": "ghRuU36VumWc",
        "colab_type": "code",
        "colab": {
          "base_uri": "https://localhost:8080/",
          "height": 110
        },
        "outputId": "5fd3c27e-8fa3-4381-b518-53614dea5920"
      },
      "cell_type": "code",
      "source": [
        "# We Create a DataFrame that only has selected items for Alice\n",
        "alice_sel_shopping_cart = pd.DataFrame(items, index = ['glasses', 'bike'], columns = ['Alice'])\n",
        "\n",
        "# We display alice_sel_shopping_cart\n",
        "alice_sel_shopping_cart"
      ],
      "execution_count": 24,
      "outputs": [
        {
          "output_type": "execute_result",
          "data": {
            "text/html": [
              "<div>\n",
              "<style scoped>\n",
              "    .dataframe tbody tr th:only-of-type {\n",
              "        vertical-align: middle;\n",
              "    }\n",
              "\n",
              "    .dataframe tbody tr th {\n",
              "        vertical-align: top;\n",
              "    }\n",
              "\n",
              "    .dataframe thead th {\n",
              "        text-align: right;\n",
              "    }\n",
              "</style>\n",
              "<table border=\"1\" class=\"dataframe\">\n",
              "  <thead>\n",
              "    <tr style=\"text-align: right;\">\n",
              "      <th></th>\n",
              "      <th>Alice</th>\n",
              "    </tr>\n",
              "  </thead>\n",
              "  <tbody>\n",
              "    <tr>\n",
              "      <th>glasses</th>\n",
              "      <td>110</td>\n",
              "    </tr>\n",
              "    <tr>\n",
              "      <th>bike</th>\n",
              "      <td>500</td>\n",
              "    </tr>\n",
              "  </tbody>\n",
              "</table>\n",
              "</div>"
            ],
            "text/plain": [
              "         Alice\n",
              "glasses    110\n",
              "bike       500"
            ]
          },
          "metadata": {
            "tags": []
          },
          "execution_count": 24
        }
      ]
    },
    {
      "metadata": {
        "id": "qXR9ntm6u1Px",
        "colab_type": "code",
        "colab": {
          "base_uri": "https://localhost:8080/",
          "height": 141
        },
        "outputId": "9b7c09d0-6b5a-47d0-ae14-b13533e037c4"
      },
      "cell_type": "code",
      "source": [
        "# We create a dictionary of lists (arrays)\n",
        "data = {'Integers' : [1,2,3],\n",
        "        'Floats' : [4.5, 8.2, 9.6]}\n",
        "\n",
        "# We create a DataFrame \n",
        "df = pd.DataFrame(data)\n",
        "\n",
        "# We display the DataFrame\n",
        "df"
      ],
      "execution_count": 25,
      "outputs": [
        {
          "output_type": "execute_result",
          "data": {
            "text/html": [
              "<div>\n",
              "<style scoped>\n",
              "    .dataframe tbody tr th:only-of-type {\n",
              "        vertical-align: middle;\n",
              "    }\n",
              "\n",
              "    .dataframe tbody tr th {\n",
              "        vertical-align: top;\n",
              "    }\n",
              "\n",
              "    .dataframe thead th {\n",
              "        text-align: right;\n",
              "    }\n",
              "</style>\n",
              "<table border=\"1\" class=\"dataframe\">\n",
              "  <thead>\n",
              "    <tr style=\"text-align: right;\">\n",
              "      <th></th>\n",
              "      <th>Floats</th>\n",
              "      <th>Integers</th>\n",
              "    </tr>\n",
              "  </thead>\n",
              "  <tbody>\n",
              "    <tr>\n",
              "      <th>0</th>\n",
              "      <td>4.5</td>\n",
              "      <td>1</td>\n",
              "    </tr>\n",
              "    <tr>\n",
              "      <th>1</th>\n",
              "      <td>8.2</td>\n",
              "      <td>2</td>\n",
              "    </tr>\n",
              "    <tr>\n",
              "      <th>2</th>\n",
              "      <td>9.6</td>\n",
              "      <td>3</td>\n",
              "    </tr>\n",
              "  </tbody>\n",
              "</table>\n",
              "</div>"
            ],
            "text/plain": [
              "   Floats  Integers\n",
              "0     4.5         1\n",
              "1     8.2         2\n",
              "2     9.6         3"
            ]
          },
          "metadata": {
            "tags": []
          },
          "execution_count": 25
        }
      ]
    },
    {
      "metadata": {
        "id": "LaGxMMb0u8u8",
        "colab_type": "code",
        "colab": {
          "base_uri": "https://localhost:8080/",
          "height": 141
        },
        "outputId": "13282aa0-787f-4e87-8d91-93cfac43b851"
      },
      "cell_type": "code",
      "source": [
        "# We create a dictionary of lists (arrays)\n",
        "data = {'Integers' : [1,2,3],\n",
        "        'Floats' : [4.5, 8.2, 9.6]}\n",
        "\n",
        "# We create a DataFrame and provide the row index\n",
        "df = pd.DataFrame(data, index = ['label 1', 'label 2', 'label 3'])\n",
        "\n",
        "# We display the DataFrame\n",
        "df"
      ],
      "execution_count": 26,
      "outputs": [
        {
          "output_type": "execute_result",
          "data": {
            "text/html": [
              "<div>\n",
              "<style scoped>\n",
              "    .dataframe tbody tr th:only-of-type {\n",
              "        vertical-align: middle;\n",
              "    }\n",
              "\n",
              "    .dataframe tbody tr th {\n",
              "        vertical-align: top;\n",
              "    }\n",
              "\n",
              "    .dataframe thead th {\n",
              "        text-align: right;\n",
              "    }\n",
              "</style>\n",
              "<table border=\"1\" class=\"dataframe\">\n",
              "  <thead>\n",
              "    <tr style=\"text-align: right;\">\n",
              "      <th></th>\n",
              "      <th>Floats</th>\n",
              "      <th>Integers</th>\n",
              "    </tr>\n",
              "  </thead>\n",
              "  <tbody>\n",
              "    <tr>\n",
              "      <th>label 1</th>\n",
              "      <td>4.5</td>\n",
              "      <td>1</td>\n",
              "    </tr>\n",
              "    <tr>\n",
              "      <th>label 2</th>\n",
              "      <td>8.2</td>\n",
              "      <td>2</td>\n",
              "    </tr>\n",
              "    <tr>\n",
              "      <th>label 3</th>\n",
              "      <td>9.6</td>\n",
              "      <td>3</td>\n",
              "    </tr>\n",
              "  </tbody>\n",
              "</table>\n",
              "</div>"
            ],
            "text/plain": [
              "         Floats  Integers\n",
              "label 1     4.5         1\n",
              "label 2     8.2         2\n",
              "label 3     9.6         3"
            ]
          },
          "metadata": {
            "tags": []
          },
          "execution_count": 26
        }
      ]
    },
    {
      "metadata": {
        "id": "-xdbZ8OZvCxo",
        "colab_type": "code",
        "colab": {
          "base_uri": "https://localhost:8080/",
          "height": 110
        },
        "outputId": "8b62f891-3319-460a-dcb1-a9e19dd25541"
      },
      "cell_type": "code",
      "source": [
        "# We create a list of Python dictionaries\n",
        "items2 = [{'bikes': 20, 'pants': 30, 'watches': 35}, \n",
        "          {'watches': 10, 'glasses': 50, 'bikes': 15, 'pants':5}]\n",
        "\n",
        "# We create a DataFrame \n",
        "store_items = pd.DataFrame(items2)\n",
        "\n",
        "# We display the DataFrame\n",
        "store_items"
      ],
      "execution_count": 27,
      "outputs": [
        {
          "output_type": "execute_result",
          "data": {
            "text/html": [
              "<div>\n",
              "<style scoped>\n",
              "    .dataframe tbody tr th:only-of-type {\n",
              "        vertical-align: middle;\n",
              "    }\n",
              "\n",
              "    .dataframe tbody tr th {\n",
              "        vertical-align: top;\n",
              "    }\n",
              "\n",
              "    .dataframe thead th {\n",
              "        text-align: right;\n",
              "    }\n",
              "</style>\n",
              "<table border=\"1\" class=\"dataframe\">\n",
              "  <thead>\n",
              "    <tr style=\"text-align: right;\">\n",
              "      <th></th>\n",
              "      <th>bikes</th>\n",
              "      <th>glasses</th>\n",
              "      <th>pants</th>\n",
              "      <th>watches</th>\n",
              "    </tr>\n",
              "  </thead>\n",
              "  <tbody>\n",
              "    <tr>\n",
              "      <th>0</th>\n",
              "      <td>20</td>\n",
              "      <td>NaN</td>\n",
              "      <td>30</td>\n",
              "      <td>35</td>\n",
              "    </tr>\n",
              "    <tr>\n",
              "      <th>1</th>\n",
              "      <td>15</td>\n",
              "      <td>50.0</td>\n",
              "      <td>5</td>\n",
              "      <td>10</td>\n",
              "    </tr>\n",
              "  </tbody>\n",
              "</table>\n",
              "</div>"
            ],
            "text/plain": [
              "   bikes  glasses  pants  watches\n",
              "0     20      NaN     30       35\n",
              "1     15     50.0      5       10"
            ]
          },
          "metadata": {
            "tags": []
          },
          "execution_count": 27
        }
      ]
    },
    {
      "metadata": {
        "id": "QmgiRZb9yLTe",
        "colab_type": "code",
        "colab": {
          "base_uri": "https://localhost:8080/",
          "height": 110
        },
        "outputId": "b8a4f3dc-a029-49aa-e3cd-e32ac51a3e89"
      },
      "cell_type": "code",
      "source": [
        "# We create a list of Python dictionaries\n",
        "items2 = [{'bikes': 20, 'pants': 30, 'watches': 35}, \n",
        "          {'watches': 10, 'glasses': 50, 'bikes': 15, 'pants':5}]\n",
        "\n",
        "# We create a DataFrame \n",
        "store_items = pd.DataFrame(items2, index = ['store 1', 'store 2'])\n",
        "\n",
        "# We display the DataFrame\n",
        "store_items"
      ],
      "execution_count": 29,
      "outputs": [
        {
          "output_type": "execute_result",
          "data": {
            "text/html": [
              "<div>\n",
              "<style scoped>\n",
              "    .dataframe tbody tr th:only-of-type {\n",
              "        vertical-align: middle;\n",
              "    }\n",
              "\n",
              "    .dataframe tbody tr th {\n",
              "        vertical-align: top;\n",
              "    }\n",
              "\n",
              "    .dataframe thead th {\n",
              "        text-align: right;\n",
              "    }\n",
              "</style>\n",
              "<table border=\"1\" class=\"dataframe\">\n",
              "  <thead>\n",
              "    <tr style=\"text-align: right;\">\n",
              "      <th></th>\n",
              "      <th>bikes</th>\n",
              "      <th>glasses</th>\n",
              "      <th>pants</th>\n",
              "      <th>watches</th>\n",
              "    </tr>\n",
              "  </thead>\n",
              "  <tbody>\n",
              "    <tr>\n",
              "      <th>store 1</th>\n",
              "      <td>20</td>\n",
              "      <td>NaN</td>\n",
              "      <td>30</td>\n",
              "      <td>35</td>\n",
              "    </tr>\n",
              "    <tr>\n",
              "      <th>store 2</th>\n",
              "      <td>15</td>\n",
              "      <td>50.0</td>\n",
              "      <td>5</td>\n",
              "      <td>10</td>\n",
              "    </tr>\n",
              "  </tbody>\n",
              "</table>\n",
              "</div>"
            ],
            "text/plain": [
              "         bikes  glasses  pants  watches\n",
              "store 1     20      NaN     30       35\n",
              "store 2     15     50.0      5       10"
            ]
          },
          "metadata": {
            "tags": []
          },
          "execution_count": 29
        }
      ]
    },
    {
      "metadata": {
        "id": "uBPC7lomvy-6",
        "colab_type": "code",
        "colab": {
          "base_uri": "https://localhost:8080/",
          "height": 295
        },
        "outputId": "9fde9e8d-61bc-4503-8992-d4bc06e2b5c8"
      },
      "cell_type": "code",
      "source": [
        "# We print the store_items DataFrame\n",
        "print(store_items)\n",
        "\n",
        "# We access rows, columns and elements using labels\n",
        "print(\"\")\n",
        "print('How many bikes are in each store:\\n', store_items[['bikes']])\n",
        "print(\"\")\n",
        "print('How many bikes and pants are in each store:\\n', store_items[['bikes', 'pants']])\n",
        "print(\"\")\n",
        "print('What items are in Store 1:\\n', store_items.loc[['store 1']])\n",
        "print(\"\")\n",
        "print('How many bikes are in Store 2:', store_items['bikes']['store 2'])"
      ],
      "execution_count": 31,
      "outputs": [
        {
          "output_type": "stream",
          "text": [
            "         bikes  glasses  pants  watches\n",
            "store 1     20      NaN     30       35\n",
            "store 2     15     50.0      5       10\n",
            "\n",
            "('How many bikes are in each store:\\n',          bikes\n",
            "store 1     20\n",
            "store 2     15)\n",
            "\n",
            "('How many bikes and pants are in each store:\\n',          bikes  pants\n",
            "store 1     20     30\n",
            "store 2     15      5)\n",
            "\n",
            "('What items are in Store 1:\\n',          bikes  glasses  pants  watches\n",
            "store 1     20      NaN     30       35)\n",
            "\n",
            "('How many bikes are in Store 2:', 15)\n"
          ],
          "name": "stdout"
        }
      ]
    },
    {
      "metadata": {
        "id": "JZoYyw0kwdsJ",
        "colab_type": "code",
        "colab": {
          "base_uri": "https://localhost:8080/",
          "height": 110
        },
        "outputId": "6d7a9961-e71b-4963-da39-f7780235b587"
      },
      "cell_type": "code",
      "source": [
        "# We add a new column named shirts to our store_items DataFrame indicating the number of\n",
        "# shirts in stock at each store. We will put 15 shirts in store 1 and 2 shirts in store 2\n",
        "store_items['shirts'] = [15,2]\n",
        "\n",
        "# We display the modified DataFrame\n",
        "store_items\n"
      ],
      "execution_count": 32,
      "outputs": [
        {
          "output_type": "execute_result",
          "data": {
            "text/html": [
              "<div>\n",
              "<style scoped>\n",
              "    .dataframe tbody tr th:only-of-type {\n",
              "        vertical-align: middle;\n",
              "    }\n",
              "\n",
              "    .dataframe tbody tr th {\n",
              "        vertical-align: top;\n",
              "    }\n",
              "\n",
              "    .dataframe thead th {\n",
              "        text-align: right;\n",
              "    }\n",
              "</style>\n",
              "<table border=\"1\" class=\"dataframe\">\n",
              "  <thead>\n",
              "    <tr style=\"text-align: right;\">\n",
              "      <th></th>\n",
              "      <th>bikes</th>\n",
              "      <th>glasses</th>\n",
              "      <th>pants</th>\n",
              "      <th>watches</th>\n",
              "      <th>shirts</th>\n",
              "    </tr>\n",
              "  </thead>\n",
              "  <tbody>\n",
              "    <tr>\n",
              "      <th>store 1</th>\n",
              "      <td>20</td>\n",
              "      <td>NaN</td>\n",
              "      <td>30</td>\n",
              "      <td>35</td>\n",
              "      <td>15</td>\n",
              "    </tr>\n",
              "    <tr>\n",
              "      <th>store 2</th>\n",
              "      <td>15</td>\n",
              "      <td>50.0</td>\n",
              "      <td>5</td>\n",
              "      <td>10</td>\n",
              "      <td>2</td>\n",
              "    </tr>\n",
              "  </tbody>\n",
              "</table>\n",
              "</div>"
            ],
            "text/plain": [
              "         bikes  glasses  pants  watches  shirts\n",
              "store 1     20      NaN     30       35      15\n",
              "store 2     15     50.0      5       10       2"
            ]
          },
          "metadata": {
            "tags": []
          },
          "execution_count": 32
        }
      ]
    },
    {
      "metadata": {
        "id": "WhYjA7lLy2LX",
        "colab_type": "code",
        "colab": {
          "base_uri": "https://localhost:8080/",
          "height": 110
        },
        "outputId": "19e1c31e-0ed9-4082-e1ed-683e71fd0471"
      },
      "cell_type": "code",
      "source": [
        "# We make a new column called suits by adding the number of shirts and pants\n",
        "store_items['suits'] = store_items['pants'] + store_items['shirts']\n",
        "\n",
        "# We display the modified DataFrame\n",
        "store_items"
      ],
      "execution_count": 33,
      "outputs": [
        {
          "output_type": "execute_result",
          "data": {
            "text/html": [
              "<div>\n",
              "<style scoped>\n",
              "    .dataframe tbody tr th:only-of-type {\n",
              "        vertical-align: middle;\n",
              "    }\n",
              "\n",
              "    .dataframe tbody tr th {\n",
              "        vertical-align: top;\n",
              "    }\n",
              "\n",
              "    .dataframe thead th {\n",
              "        text-align: right;\n",
              "    }\n",
              "</style>\n",
              "<table border=\"1\" class=\"dataframe\">\n",
              "  <thead>\n",
              "    <tr style=\"text-align: right;\">\n",
              "      <th></th>\n",
              "      <th>bikes</th>\n",
              "      <th>glasses</th>\n",
              "      <th>pants</th>\n",
              "      <th>watches</th>\n",
              "      <th>shirts</th>\n",
              "      <th>suits</th>\n",
              "    </tr>\n",
              "  </thead>\n",
              "  <tbody>\n",
              "    <tr>\n",
              "      <th>store 1</th>\n",
              "      <td>20</td>\n",
              "      <td>NaN</td>\n",
              "      <td>30</td>\n",
              "      <td>35</td>\n",
              "      <td>15</td>\n",
              "      <td>45</td>\n",
              "    </tr>\n",
              "    <tr>\n",
              "      <th>store 2</th>\n",
              "      <td>15</td>\n",
              "      <td>50.0</td>\n",
              "      <td>5</td>\n",
              "      <td>10</td>\n",
              "      <td>2</td>\n",
              "      <td>7</td>\n",
              "    </tr>\n",
              "  </tbody>\n",
              "</table>\n",
              "</div>"
            ],
            "text/plain": [
              "         bikes  glasses  pants  watches  shirts  suits\n",
              "store 1     20      NaN     30       35      15     45\n",
              "store 2     15     50.0      5       10       2      7"
            ]
          },
          "metadata": {
            "tags": []
          },
          "execution_count": 33
        }
      ]
    },
    {
      "metadata": {
        "id": "5TZiz_zMzIZ6",
        "colab_type": "code",
        "colab": {
          "base_uri": "https://localhost:8080/",
          "height": 79
        },
        "outputId": "d4d7e0c5-0b04-45bd-87f1-4ad2150e756a"
      },
      "cell_type": "code",
      "source": [
        "# We create a dictionary from a list of Python dictionaries that will number of items at the new store\n",
        "new_items = [{'bikes': 20, 'pants': 30, 'watches': 35, 'glasses': 4}]\n",
        "\n",
        "# We create new DataFrame with the new_items and provide and index labeled store 3\n",
        "new_store = pd.DataFrame(new_items, index = ['store 3'])\n",
        "\n",
        "# We display the items at the new store\n",
        "new_store"
      ],
      "execution_count": 34,
      "outputs": [
        {
          "output_type": "execute_result",
          "data": {
            "text/html": [
              "<div>\n",
              "<style scoped>\n",
              "    .dataframe tbody tr th:only-of-type {\n",
              "        vertical-align: middle;\n",
              "    }\n",
              "\n",
              "    .dataframe tbody tr th {\n",
              "        vertical-align: top;\n",
              "    }\n",
              "\n",
              "    .dataframe thead th {\n",
              "        text-align: right;\n",
              "    }\n",
              "</style>\n",
              "<table border=\"1\" class=\"dataframe\">\n",
              "  <thead>\n",
              "    <tr style=\"text-align: right;\">\n",
              "      <th></th>\n",
              "      <th>bikes</th>\n",
              "      <th>glasses</th>\n",
              "      <th>pants</th>\n",
              "      <th>watches</th>\n",
              "    </tr>\n",
              "  </thead>\n",
              "  <tbody>\n",
              "    <tr>\n",
              "      <th>store 3</th>\n",
              "      <td>20</td>\n",
              "      <td>4</td>\n",
              "      <td>30</td>\n",
              "      <td>35</td>\n",
              "    </tr>\n",
              "  </tbody>\n",
              "</table>\n",
              "</div>"
            ],
            "text/plain": [
              "         bikes  glasses  pants  watches\n",
              "store 3     20        4     30       35"
            ]
          },
          "metadata": {
            "tags": []
          },
          "execution_count": 34
        }
      ]
    },
    {
      "metadata": {
        "id": "BhW38e3EzdID",
        "colab_type": "code",
        "colab": {}
      },
      "cell_type": "code",
      "source": [
        ""
      ],
      "execution_count": 0,
      "outputs": []
    }
  ]
}