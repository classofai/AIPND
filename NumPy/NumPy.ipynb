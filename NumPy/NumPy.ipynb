{
  "nbformat": 4,
  "nbformat_minor": 0,
  "metadata": {
    "colab": {
      "name": "NumPy.ipynb",
      "version": "0.3.2",
      "provenance": [],
      "include_colab_link": true
    },
    "kernelspec": {
      "name": "python3",
      "display_name": "Python 3"
    },
    "accelerator": "TPU"
  },
  "cells": [
    {
      "cell_type": "markdown",
      "metadata": {
        "id": "view-in-github",
        "colab_type": "text"
      },
      "source": [
        "<a href=\"https://colab.research.google.com/github/classofai/AIPND/blob/master/NumPy/NumPy.ipynb\" target=\"_parent\"><img src=\"https://colab.research.google.com/assets/colab-badge.svg\" alt=\"Open In Colab\"/></a>"
      ]
    },
    {
      "metadata": {
        "id": "VR0bGrtxJPjg",
        "colab_type": "code",
        "colab": {}
      },
      "cell_type": "code",
      "source": [
        "import time \n",
        "import numpy as np"
      ],
      "execution_count": 0,
      "outputs": []
    },
    {
      "metadata": {
        "id": "wphYjFJ-JPjp",
        "colab_type": "code",
        "colab": {}
      },
      "cell_type": "code",
      "source": [
        "x = np.random.random(100000000)"
      ],
      "execution_count": 0,
      "outputs": []
    },
    {
      "metadata": {
        "id": "1ckGWdtxJPjs",
        "colab_type": "code",
        "colab": {
          "base_uri": "https://localhost:8080/",
          "height": 35
        },
        "outputId": "ea553674-ee60-4c63-c1b5-0ac483e43c37"
      },
      "cell_type": "code",
      "source": [
        "start = time.time()\n",
        "sum(x)/len(x)\n",
        "time.time() - start"
      ],
      "execution_count": 4,
      "outputs": [
        {
          "output_type": "execute_result",
          "data": {
            "text/plain": [
              "8.67930793762207"
            ]
          },
          "metadata": {
            "tags": []
          },
          "execution_count": 4
        }
      ]
    },
    {
      "metadata": {
        "id": "7FryD2scJPjv",
        "colab_type": "code",
        "colab": {
          "base_uri": "https://localhost:8080/",
          "height": 35
        },
        "outputId": "23d05401-5ba6-4e7f-914f-82411fb0b3ac"
      },
      "cell_type": "code",
      "source": [
        "start = time.time()\n",
        "np.mean(x)\n",
        "time.time() - start"
      ],
      "execution_count": 5,
      "outputs": [
        {
          "output_type": "execute_result",
          "data": {
            "text/plain": [
              "0.09355854988098145"
            ]
          },
          "metadata": {
            "tags": []
          },
          "execution_count": 5
        }
      ]
    },
    {
      "metadata": {
        "id": "BjxqK8KZJ6RX",
        "colab_type": "code",
        "colab": {
          "base_uri": "https://localhost:8080/",
          "height": 35
        },
        "outputId": "99a7a7b9-2462-45c8-dadb-052006d4fa4d"
      },
      "cell_type": "code",
      "source": [
        "# We import NumPy into Python\n",
        "import numpy as np\n",
        "\n",
        "# We create a 1D ndarray that contains only integers\n",
        "x = np.array([1, 2, 3, 4, 5])\n",
        "\n",
        "# Let's print the ndarray we just created using the print() command\n",
        "print('x = ', x)"
      ],
      "execution_count": 6,
      "outputs": [
        {
          "output_type": "stream",
          "text": [
            "x =  [1 2 3 4 5]\n"
          ],
          "name": "stdout"
        }
      ]
    },
    {
      "metadata": {
        "id": "mEoxKlVqULuL",
        "colab_type": "code",
        "colab": {
          "base_uri": "https://localhost:8080/",
          "height": 121
        },
        "outputId": "b993f2a0-8560-4294-8d6c-b6f87d6069ab"
      },
      "cell_type": "code",
      "source": [
        "# We create a 1D ndarray that contains only integers\n",
        "x = np.array([1, 2, 3, 4, 5])\n",
        "\n",
        "# We print x\n",
        "print()\n",
        "print('x = ', x)\n",
        "print()\n",
        "/\n",
        "# We print information about x\n",
        "print('x has dimensions:', x.shape)\n",
        "print('x is an object of type:', type(x))\n",
        "print('The elements in x are of type:', x.dtype)"
      ],
      "execution_count": 7,
      "outputs": [
        {
          "output_type": "stream",
          "text": [
            "\n",
            "x =  [1 2 3 4 5]\n",
            "\n",
            "x has dimensions: (5,)\n",
            "x is an object of type: <class 'numpy.ndarray'>\n",
            "The elements in x are of type: int64\n"
          ],
          "name": "stdout"
        }
      ]
    },
    {
      "metadata": {
        "id": "iDD6dCTqUUIj",
        "colab_type": "code",
        "colab": {
          "base_uri": "https://localhost:8080/",
          "height": 121
        },
        "outputId": "a4509c4d-eb32-4aac-e3f1-a43112eb6fcf"
      },
      "cell_type": "code",
      "source": [
        "# We create a rank 1 ndarray that only contains strings\n",
        "x = np.array(['Hello', 'World'])\n",
        "\n",
        "# We print x\n",
        "print()\n",
        "print('x = ', x)\n",
        "print()\n",
        "\n",
        "# We print information about x\n",
        "print('x has dimensions:', x.shape)\n",
        "print('x is an object of type:', type(x))\n",
        "print('The elements in x are of type:', x.dtype)"
      ],
      "execution_count": 8,
      "outputs": [
        {
          "output_type": "stream",
          "text": [
            "\n",
            "x =  ['Hello' 'World']\n",
            "\n",
            "x has dimensions: (2,)\n",
            "x is an object of type: <class 'numpy.ndarray'>\n",
            "The elements in x are of type: <U5\n"
          ],
          "name": "stdout"
        }
      ]
    },
    {
      "metadata": {
        "id": "Tz44kLmRUgk9",
        "colab_type": "code",
        "colab": {
          "base_uri": "https://localhost:8080/",
          "height": 121
        },
        "outputId": "bb7e16b8-1c8f-47b3-e0f3-00afe83ec269"
      },
      "cell_type": "code",
      "source": [
        "# We create a rank 1 ndarray from a Python list that contains integers and strings\n",
        "x = np.array([1, 2, 'World'])\n",
        "\n",
        "# We print the ndarray\n",
        "print()\n",
        "print('x = ', x)\n",
        "print()\n",
        "\n",
        "# We print information about x\n",
        "print('x has dimensions:', x.shape)\n",
        "print('x is an object of type:', type(x))\n",
        "print('The elements in x are of type:', x.dtype)"
      ],
      "execution_count": 9,
      "outputs": [
        {
          "output_type": "stream",
          "text": [
            "\n",
            "x =  ['1' '2' 'World']\n",
            "\n",
            "x has dimensions: (3,)\n",
            "x is an object of type: <class 'numpy.ndarray'>\n",
            "The elements in x are of type: <U21\n"
          ],
          "name": "stdout"
        }
      ]
    },
    {
      "metadata": {
        "id": "m7p4JUltU-pD",
        "colab_type": "code",
        "colab": {
          "base_uri": "https://localhost:8080/",
          "height": 208
        },
        "outputId": "4318c3f3-e1dc-4753-b820-9eb6c2e4fefe"
      },
      "cell_type": "code",
      "source": [
        "# We create a rank 2 ndarray that only contains integers\n",
        "Y = np.array([[1,2,3],[4,5,6],[7,8,9], [10,11,12]])\n",
        "\n",
        "# We print Y\n",
        "print()\n",
        "print('Y = \\n', Y)\n",
        "print()\n",
        "\n",
        "# We print information about Y\n",
        "print('Y has dimensions:', Y.shape)\n",
        "print('Y has a total of', Y.size, 'elements')\n",
        "print('Y is an object of type:', type(Y))\n",
        "print('The elements in Y are of type:', Y.dtype)"
      ],
      "execution_count": 10,
      "outputs": [
        {
          "output_type": "stream",
          "text": [
            "\n",
            "Y = \n",
            " [[ 1  2  3]\n",
            " [ 4  5  6]\n",
            " [ 7  8  9]\n",
            " [10 11 12]]\n",
            "\n",
            "Y has dimensions: (4, 3)\n",
            "Y has a total of 12 elements\n",
            "Y is an object of type: <class 'numpy.ndarray'>\n",
            "The elements in Y are of type: int64\n"
          ],
          "name": "stdout"
        }
      ]
    },
    {
      "metadata": {
        "id": "p3WaSZcuVTtE",
        "colab_type": "code",
        "colab": {
          "base_uri": "https://localhost:8080/",
          "height": 69
        },
        "outputId": "68f67548-d799-4cc4-c1d9-aab1d6555af3"
      },
      "cell_type": "code",
      "source": [
        "# We create a rank 1 ndarray that contains integers\n",
        "x = np.array([1,2,3])\n",
        "\n",
        "# We create a rank 1 ndarray that contains floats\n",
        "y = np.array([1.0,2.0,3.0])\n",
        "\n",
        "# We create a rank 1 ndarray that contains integers and floats\n",
        "z = np.array([1, 2.5, 4])\n",
        "\n",
        "# We print the dtype of each ndarray\n",
        "print('The elements in x are of type:', x.dtype)\n",
        "print('The elements in y are of type:', y.dtype)\n",
        "print('The elements in z are of type:', z.dtype)"
      ],
      "execution_count": 11,
      "outputs": [
        {
          "output_type": "stream",
          "text": [
            "The elements in x are of type: int64\n",
            "The elements in y are of type: float64\n",
            "The elements in z are of type: float64\n"
          ],
          "name": "stdout"
        }
      ]
    },
    {
      "metadata": {
        "id": "2dvEem3GV6ZV",
        "colab_type": "code",
        "colab": {
          "base_uri": "https://localhost:8080/",
          "height": 87
        },
        "outputId": "87b2b5f9-2ea9-4933-c5f7-e8524fbad88b"
      },
      "cell_type": "code",
      "source": [
        "# We create a rank 1 ndarray of floats but set the dtype to int64\n",
        "x = np.array([1.5, 2.2, 3.7, 4.0, 5.9], dtype = np.int64)\n",
        "\n",
        "# We print x\n",
        "print()\n",
        "print('x = ', x)\n",
        "print()\n",
        "\n",
        "# We print the dtype x\n",
        "print('The elements in x are of type:', x.dtype)"
      ],
      "execution_count": 12,
      "outputs": [
        {
          "output_type": "stream",
          "text": [
            "\n",
            "x =  [1 2 3 4 5]\n",
            "\n",
            "The elements in x are of type: int64\n"
          ],
          "name": "stdout"
        }
      ]
    },
    {
      "metadata": {
        "id": "noMWjTMBWM2w",
        "colab_type": "code",
        "colab": {}
      },
      "cell_type": "code",
      "source": [
        "# We create a rank 1 ndarray\n",
        "x = np.array([1, 2, 3, 4, 5])\n",
        "\n",
        "# We save x into the current directory as \n",
        "np.save('my_array', x)"
      ],
      "execution_count": 0,
      "outputs": []
    },
    {
      "metadata": {
        "id": "Wg6YE1CcWYvQ",
        "colab_type": "code",
        "colab": {
          "base_uri": "https://localhost:8080/",
          "height": 104
        },
        "outputId": "4254455e-98f9-4063-a2c8-7d1e9f32671d"
      },
      "cell_type": "code",
      "source": [
        "# We load the saved array from our current directory into variable y\n",
        "y = np.load('my_array.npy')\n",
        "\n",
        "# We print y\n",
        "print()\n",
        "print('y = ', y)\n",
        "print()\n",
        "\n",
        "# We print information about the ndarray we loaded\n",
        "print('y is an object of type:', type(y))\n",
        "print('The elements in y are of type:', y.dtype)"
      ],
      "execution_count": 14,
      "outputs": [
        {
          "output_type": "stream",
          "text": [
            "\n",
            "y =  [1 2 3 4 5]\n",
            "\n",
            "y is an object of type: <class 'numpy.ndarray'>\n",
            "The elements in y are of type: int64\n"
          ],
          "name": "stdout"
        }
      ]
    },
    {
      "metadata": {
        "id": "bEtghhvxWkr0",
        "colab_type": "code",
        "colab": {
          "base_uri": "https://localhost:8080/",
          "height": 173
        },
        "outputId": "6223254a-7e6d-43a5-a23d-4c3e17b178f1"
      },
      "cell_type": "code",
      "source": [
        "# We create a 3 x 4 ndarray full of zeros. \n",
        "X = np.zeros((3,4))\n",
        "\n",
        "# We print X\n",
        "print()\n",
        "print('X = \\n', X)\n",
        "print()\n",
        "\n",
        "# We print information about X\n",
        "print('X has dimensions:', X.shape)\n",
        "print('X is an object of type:', type(X))\n",
        "print('The elements in X are of type:', X.dtype)\n"
      ],
      "execution_count": 15,
      "outputs": [
        {
          "output_type": "stream",
          "text": [
            "\n",
            "X = \n",
            " [[0. 0. 0. 0.]\n",
            " [0. 0. 0. 0.]\n",
            " [0. 0. 0. 0.]]\n",
            "\n",
            "X has dimensions: (3, 4)\n",
            "X is an object of type: <class 'numpy.ndarray'>\n",
            "The elements in X are of type: float64\n"
          ],
          "name": "stdout"
        }
      ]
    },
    {
      "metadata": {
        "id": "QHuVCsw7Xcir",
        "colab_type": "code",
        "colab": {
          "base_uri": "https://localhost:8080/",
          "height": 173
        },
        "outputId": "b2ef6c82-4ef0-498f-998c-a9055d6f6379"
      },
      "cell_type": "code",
      "source": [
        "# We create a 3 x 2 ndarray full of ones. \n",
        "X = np.ones((3,2))\n",
        "\n",
        "# We print X\n",
        "print()\n",
        "print('X = \\n', X)\n",
        "print()\n",
        "\n",
        "# We print information about X\n",
        "print('X has dimensions:', X.shape)\n",
        "print('X is an object of type:', type(X))\n",
        "print('The elements in X are of type:', X.dtype) "
      ],
      "execution_count": 16,
      "outputs": [
        {
          "output_type": "stream",
          "text": [
            "\n",
            "X = \n",
            " [[1. 1.]\n",
            " [1. 1.]\n",
            " [1. 1.]]\n",
            "\n",
            "X has dimensions: (3, 2)\n",
            "X is an object of type: <class 'numpy.ndarray'>\n",
            "The elements in X are of type: float64\n"
          ],
          "name": "stdout"
        }
      ]
    },
    {
      "metadata": {
        "id": "iGSKuT9sYuNr",
        "colab_type": "code",
        "colab": {
          "base_uri": "https://localhost:8080/",
          "height": 156
        },
        "outputId": "3345fe07-e3eb-468c-fffb-ba26f5c5513d"
      },
      "cell_type": "code",
      "source": [
        "# We create a 2 x 3 ndarray full of fives. \n",
        "X = np.full((2,3), 5) \n",
        "\n",
        "# We print X\n",
        "print()\n",
        "print('X = \\n', X)\n",
        "print()\n",
        "\n",
        "# We print information about X\n",
        "print('X has dimensions:', X.shape)\n",
        "print('X is an object of type:', type(X))\n",
        "print('The elements in X are of type:', X.dtype)  "
      ],
      "execution_count": 17,
      "outputs": [
        {
          "output_type": "stream",
          "text": [
            "\n",
            "X = \n",
            " [[5 5 5]\n",
            " [5 5 5]]\n",
            "\n",
            "X has dimensions: (2, 3)\n",
            "X is an object of type: <class 'numpy.ndarray'>\n",
            "The elements in X are of type: int64\n"
          ],
          "name": "stdout"
        }
      ]
    },
    {
      "metadata": {
        "id": "yY2ij42wY3QS",
        "colab_type": "code",
        "colab": {
          "base_uri": "https://localhost:8080/",
          "height": 208
        },
        "outputId": "c6b7606a-7c85-4860-85d1-e2880e11718d"
      },
      "cell_type": "code",
      "source": [
        "# We create a 5 x 5 Identity matrix. \n",
        "X = np.eye(5)\n",
        "\n",
        "# We print X\n",
        "print()\n",
        "print('X = \\n', X)\n",
        "print()\n",
        "\n",
        "# We print information about X\n",
        "print('X has dimensions:', X.shape)\n",
        "print('X is an object of type:', type(X))\n",
        "print('The elements in X are of type:', X.dtype)  "
      ],
      "execution_count": 18,
      "outputs": [
        {
          "output_type": "stream",
          "text": [
            "\n",
            "X = \n",
            " [[1. 0. 0. 0. 0.]\n",
            " [0. 1. 0. 0. 0.]\n",
            " [0. 0. 1. 0. 0.]\n",
            " [0. 0. 0. 1. 0.]\n",
            " [0. 0. 0. 0. 1.]]\n",
            "\n",
            "X has dimensions: (5, 5)\n",
            "X is an object of type: <class 'numpy.ndarray'>\n",
            "The elements in X are of type: float64\n"
          ],
          "name": "stdout"
        }
      ]
    },
    {
      "metadata": {
        "id": "3lrluxcYZk1d",
        "colab_type": "code",
        "colab": {
          "base_uri": "https://localhost:8080/",
          "height": 139
        },
        "outputId": "a37821d8-0c02-422b-c969-8c9179746859"
      },
      "cell_type": "code",
      "source": [
        "# Create a 4 x 4 diagonal matrix that contains the numbers 10,20,30, and 50\n",
        "# on its main diagonal\n",
        "X = np.diag([10,20,30,50])\n",
        "\n",
        "# We print X\n",
        "print()\n",
        "print('X = \\n', X)\n",
        "print()\n"
      ],
      "execution_count": 19,
      "outputs": [
        {
          "output_type": "stream",
          "text": [
            "\n",
            "X = \n",
            " [[10  0  0  0]\n",
            " [ 0 20  0  0]\n",
            " [ 0  0 30  0]\n",
            " [ 0  0  0 50]]\n",
            "\n"
          ],
          "name": "stdout"
        }
      ]
    },
    {
      "metadata": {
        "id": "Xafjix2dZ8Fm",
        "colab_type": "code",
        "colab": {
          "base_uri": "https://localhost:8080/",
          "height": 121
        },
        "outputId": "5f459082-2642-46e2-c80a-bfde7b340b1f"
      },
      "cell_type": "code",
      "source": [
        "# We create a rank 1 ndarray that has sequential integers from 0 to 9\n",
        "x = np.arange(10)\n",
        "\n",
        "# We print the ndarray\n",
        "print()\n",
        "print('x = ', x)\n",
        "print()\n",
        "\n",
        "# We print information about the ndarray\n",
        "print('x has dimensions:', x.shape)\n",
        "print('x is an object of type:', type(x))\n",
        "print('The elements in x are of type:', x.dtype) "
      ],
      "execution_count": 21,
      "outputs": [
        {
          "output_type": "stream",
          "text": [
            "\n",
            "x =  [0 1 2 3 4 5 6 7 8 9]\n",
            "\n",
            "x has dimensions: (10,)\n",
            "x is an object of type: <class 'numpy.ndarray'>\n",
            "The elements in x are of type: int64\n"
          ],
          "name": "stdout"
        }
      ]
    },
    {
      "metadata": {
        "id": "Y0H6r1RJaE8Z",
        "colab_type": "code",
        "colab": {
          "base_uri": "https://localhost:8080/",
          "height": 121
        },
        "outputId": "cc57de1a-eb6f-4bb4-fc14-1e1ddcc034ac"
      },
      "cell_type": "code",
      "source": [
        "# We create a rank 1 ndarray that has sequential integers from 4 to 9. \n",
        "x = np.arange(4,10)\n",
        "\n",
        "# We print the ndarray\n",
        "print()\n",
        "print('x = ', x)\n",
        "print()\n",
        "\n",
        "# We print information about the ndarray\n",
        "print('x has dimensions:', x.shape)\n",
        "print('x is an object of type:', type(x))\n",
        "print('The elements in x are of type:', x.dtype) "
      ],
      "execution_count": 22,
      "outputs": [
        {
          "output_type": "stream",
          "text": [
            "\n",
            "x =  [4 5 6 7 8 9]\n",
            "\n",
            "x has dimensions: (6,)\n",
            "x is an object of type: <class 'numpy.ndarray'>\n",
            "The elements in x are of type: int64\n"
          ],
          "name": "stdout"
        }
      ]
    },
    {
      "metadata": {
        "id": "dljDCnevaV3e",
        "colab_type": "code",
        "colab": {
          "base_uri": "https://localhost:8080/",
          "height": 121
        },
        "outputId": "6e63077c-30e6-4bd5-f87e-1e5c0dea3624"
      },
      "cell_type": "code",
      "source": [
        "# We create a rank 1 ndarray that has evenly spaced integers from 1 to 13 in steps of 3.\n",
        "x = np.arange(1,14,3)\n",
        "\n",
        "# We print the ndarray\n",
        "print()\n",
        "print('x = ', x)\n",
        "print()\n",
        "\n",
        "# We print information about the ndarray\n",
        "print('x has dimensions:', x.shape)\n",
        "print('x is an object of type:', type(x))\n",
        "print('The elements in x are of type:', x.dtype) "
      ],
      "execution_count": 23,
      "outputs": [
        {
          "output_type": "stream",
          "text": [
            "\n",
            "x =  [ 1  4  7 10 13]\n",
            "\n",
            "x has dimensions: (5,)\n",
            "x is an object of type: <class 'numpy.ndarray'>\n",
            "The elements in x are of type: int64\n"
          ],
          "name": "stdout"
        }
      ]
    },
    {
      "metadata": {
        "id": "KwjdGX2Vafbw",
        "colab_type": "code",
        "colab": {
          "base_uri": "https://localhost:8080/",
          "height": 156
        },
        "outputId": "329e22ee-2e68-4314-a199-fb8abf19ae45"
      },
      "cell_type": "code",
      "source": [
        "# We create a rank 1 ndarray that has 10 integers evenly spaced between 0 and 25.\n",
        "x = np.linspace(0,25,10)\n",
        "\n",
        "# We print the ndarray\n",
        "print()\n",
        "print('x = \\n', x)\n",
        "print()\n",
        "\n",
        "# We print information about the ndarray\n",
        "print('x has dimensions:', x.shape)\n",
        "print('x is an object of type:', type(x))\n",
        "print('The elements in x are of type:', x.dtype) "
      ],
      "execution_count": 24,
      "outputs": [
        {
          "output_type": "stream",
          "text": [
            "\n",
            "x = \n",
            " [ 0.          2.77777778  5.55555556  8.33333333 11.11111111 13.88888889\n",
            " 16.66666667 19.44444444 22.22222222 25.        ]\n",
            "\n",
            "x has dimensions: (10,)\n",
            "x is an object of type: <class 'numpy.ndarray'>\n",
            "The elements in x are of type: float64\n"
          ],
          "name": "stdout"
        }
      ]
    },
    {
      "metadata": {
        "id": "55iUUIsga1A_",
        "colab_type": "code",
        "colab": {
          "base_uri": "https://localhost:8080/",
          "height": 121
        },
        "outputId": "4bd0febc-f629-4059-de9d-f88bf1a37c5e"
      },
      "cell_type": "code",
      "source": [
        "# We create a rank 1 ndarray that has 10 integers evenly spaced between 0 and 25,\n",
        "# with 25 excluded.\n",
        "x = np.linspace(0,25,10, endpoint = False)\n",
        "\n",
        "# We print the ndarray\n",
        "print()\n",
        "print('x = ', x)\n",
        "print()\n",
        "\n",
        "# We print information about the ndarray\n",
        "print('x has dimensions:', x.shape)\n",
        "print('x is an object of type:', type(x))\n",
        "print('The elements in x are of type:', x.dtype) "
      ],
      "execution_count": 25,
      "outputs": [
        {
          "output_type": "stream",
          "text": [
            "\n",
            "x =  [ 0.   2.5  5.   7.5 10.  12.5 15.  17.5 20.  22.5]\n",
            "\n",
            "x has dimensions: (10,)\n",
            "x is an object of type: <class 'numpy.ndarray'>\n",
            "The elements in x are of type: float64\n"
          ],
          "name": "stdout"
        }
      ]
    },
    {
      "metadata": {
        "id": "RMajmH5EbKFY",
        "colab_type": "code",
        "colab": {
          "base_uri": "https://localhost:8080/",
          "height": 243
        },
        "outputId": "d2e9bfd1-5e89-4bb2-8002-b069651d3b2e"
      },
      "cell_type": "code",
      "source": [
        "# We create a rank 1 ndarray with sequential integers from 0 to 19\n",
        "x = np.arange(20)\n",
        "\n",
        "# We print x\n",
        "print()\n",
        "print('Original x = ', x)\n",
        "print()\n",
        "\n",
        "# We reshape x into a 4 x 5 ndarray \n",
        "x = np.reshape(x, (4,5))\n",
        "\n",
        "# We print the reshaped x\n",
        "print()\n",
        "print('Reshaped x = \\n', x)\n",
        "print()\n",
        "\n",
        "# We print information about the reshaped x\n",
        "print('x has dimensions:', x.shape)\n",
        "print('x is an object of type:', type(x))\n",
        "print('The elements in x are of type:', x.dtype) "
      ],
      "execution_count": 26,
      "outputs": [
        {
          "output_type": "stream",
          "text": [
            "\n",
            "Original x =  [ 0  1  2  3  4  5  6  7  8  9 10 11 12 13 14 15 16 17 18 19]\n",
            "\n",
            "\n",
            "Reshaped x = \n",
            " [[ 0  1  2  3  4]\n",
            " [ 5  6  7  8  9]\n",
            " [10 11 12 13 14]\n",
            " [15 16 17 18 19]]\n",
            "\n",
            "x has dimensions: (4, 5)\n",
            "x is an object of type: <class 'numpy.ndarray'>\n",
            "The elements in x are of type: int64\n"
          ],
          "name": "stdout"
        }
      ]
    },
    {
      "metadata": {
        "id": "UcHV7snibeX9",
        "colab_type": "code",
        "colab": {
          "base_uri": "https://localhost:8080/",
          "height": 191
        },
        "outputId": "71b680ce-7a07-4aae-ab88-c519d14afaef"
      },
      "cell_type": "code",
      "source": [
        "# We create a a rank 1 ndarray with sequential integers from 0 to 19 and\n",
        "# reshape it to a 4 x 5 array \n",
        "Y = np.arange(20).reshape(4, 5)\n",
        "\n",
        "# We print Y\n",
        "print()\n",
        "print('Y = \\n', Y)\n",
        "print()\n",
        "\n",
        "# We print information about Y\n",
        "print('Y has dimensions:', Y.shape)\n",
        "print('Y is an object of type:', type(Y))\n",
        "print('The elements in Y are of type:', Y.dtype) \n"
      ],
      "execution_count": 27,
      "outputs": [
        {
          "output_type": "stream",
          "text": [
            "\n",
            "Y = \n",
            " [[ 0  1  2  3  4]\n",
            " [ 5  6  7  8  9]\n",
            " [10 11 12 13 14]\n",
            " [15 16 17 18 19]]\n",
            "\n",
            "Y has dimensions: (4, 5)\n",
            "Y is an object of type: <class 'numpy.ndarray'>\n",
            "The elements in Y are of type: int64\n"
          ],
          "name": "stdout"
        }
      ]
    },
    {
      "metadata": {
        "id": "Z1_KnoZIb5Sq",
        "colab_type": "code",
        "colab": {
          "base_uri": "https://localhost:8080/",
          "height": 208
        },
        "outputId": "1999d686-79fe-4ee6-95d3-e850aa66d702"
      },
      "cell_type": "code",
      "source": [
        "# We create a rank 1 ndarray with 10 integers evenly spaced between 0 and 50,\n",
        "# with 50 excluded. We then reshape it to a 5 x 2 ndarray\n",
        "X = np.linspace(0,50,10, endpoint=False).reshape(5,2)\n",
        "\n",
        "# We print X\n",
        "print()\n",
        "print('X = \\n', X)\n",
        "print()\n",
        "\n",
        "# We print information about X\n",
        "print('X has dimensions:', X.shape)\n",
        "print('X is an object of type:', type(X))\n",
        "print('The elements in X are of type:', X.dtype)"
      ],
      "execution_count": 28,
      "outputs": [
        {
          "output_type": "stream",
          "text": [
            "\n",
            "X = \n",
            " [[ 0.  5.]\n",
            " [10. 15.]\n",
            " [20. 25.]\n",
            " [30. 35.]\n",
            " [40. 45.]]\n",
            "\n",
            "X has dimensions: (5, 2)\n",
            "X is an object of type: <class 'numpy.ndarray'>\n",
            "The elements in X are of type: float64\n"
          ],
          "name": "stdout"
        }
      ]
    },
    {
      "metadata": {
        "id": "bkHGR5Gfctl8",
        "colab_type": "code",
        "colab": {
          "base_uri": "https://localhost:8080/",
          "height": 173
        },
        "outputId": "a1a62aee-9318-42e8-b14e-e4842578f3ee"
      },
      "cell_type": "code",
      "source": [
        "# We create a 3 x 3 ndarray with random floats in the half-open interval [0.0, 1.0).\n",
        "X = np.random.random((3,3))\n",
        "\n",
        "# We print X\n",
        "print()\n",
        "print('X = \\n', X)\n",
        "print()\n",
        "\n",
        "# We print information about X\n",
        "print('X has dimensions:', X.shape)\n",
        "print('X is an object of type:', type(X))\n",
        "print('The elements in x are of type:', X.dtype)"
      ],
      "execution_count": 29,
      "outputs": [
        {
          "output_type": "stream",
          "text": [
            "\n",
            "X = \n",
            " [[0.91953738 0.87251259 0.71640828]\n",
            " [0.18527232 0.41650467 0.33594165]\n",
            " [0.66322325 0.81919613 0.48378885]]\n",
            "\n",
            "X has dimensions: (3, 3)\n",
            "X is an object of type: <class 'numpy.ndarray'>\n",
            "The elements in x are of type: float64\n"
          ],
          "name": "stdout"
        }
      ]
    },
    {
      "metadata": {
        "id": "434kvN7ac8Rx",
        "colab_type": "code",
        "colab": {
          "base_uri": "https://localhost:8080/",
          "height": 173
        },
        "outputId": "58ca4aca-3b80-4adb-e4d1-6afd6dd3ab54"
      },
      "cell_type": "code",
      "source": [
        "# We create a 3 x 2 ndarray with random integers in the half-open interval [4, 15).\n",
        "X = np.random.randint(4,15,size=(3,2))\n",
        "\n",
        "# We print X\n",
        "print()\n",
        "print('X = \\n', X)\n",
        "print()\n",
        "\n",
        "# We print information about X\n",
        "print('X has dimensions:', X.shape)\n",
        "print('X is an object of type:', type(X))\n",
        "print('The elements in X are of type:', X.dtype)"
      ],
      "execution_count": 30,
      "outputs": [
        {
          "output_type": "stream",
          "text": [
            "\n",
            "X = \n",
            " [[14  8]\n",
            " [11 13]\n",
            " [11  6]]\n",
            "\n",
            "X has dimensions: (3, 2)\n",
            "X is an object of type: <class 'numpy.ndarray'>\n",
            "The elements in X are of type: int64\n"
          ],
          "name": "stdout"
        }
      ]
    },
    {
      "metadata": {
        "id": "E5rIWYqid5pX",
        "colab_type": "code",
        "colab": {
          "base_uri": "https://localhost:8080/",
          "height": 433
        },
        "outputId": "10f2f336-af8b-4dcc-a02a-b5e321f88706"
      },
      "cell_type": "code",
      "source": [
        "# We create a 1000 x 1000 ndarray of random floats drawn from normal (Gaussian) distribution\n",
        "# with a mean of zero and a standard deviation of 0.1.\n",
        "X = np.random.normal(0, 0.1, size=(1000,1000))\n",
        "\n",
        "# We print X\n",
        "print()\n",
        "print('X = \\n', X)\n",
        "print()\n",
        "\n",
        "# We print information about X\n",
        "print('X has dimensions:', X.shape)\n",
        "print('X is an object of type:', type(X))\n",
        "print('The elements in X are of type:', X.dtype)\n",
        "print('The elements in X have a mean of:', X.mean())\n",
        "print('The maximum value in X is:', X.max())\n",
        "print('The minimum value in X is:', X.min())\n",
        "print('X has', (X < 0).sum(), 'negative numbers')\n",
        "print('X has', (X > 0).sum(), 'positive numbers')"
      ],
      "execution_count": 31,
      "outputs": [
        {
          "output_type": "stream",
          "text": [
            "\n",
            "X = \n",
            " [[-0.19349033  0.122101    0.06652118 ...  0.18871212  0.17661889\n",
            "   0.09353855]\n",
            " [-0.13080767 -0.02608515 -0.06652882 ... -0.00597141 -0.06863823\n",
            "  -0.02721344]\n",
            " [ 0.03058599  0.13263958 -0.00515003 ... -0.04576717 -0.13261005\n",
            "   0.05084156]\n",
            " ...\n",
            " [-0.05246573 -0.03527155  0.13402816 ... -0.19256229 -0.22512894\n",
            "   0.00162478]\n",
            " [-0.02935783 -0.00543916  0.2645384  ... -0.04528382 -0.10397496\n",
            "  -0.00681884]\n",
            " [-0.20973503  0.02309744 -0.01888598 ...  0.11033137 -0.01768654\n",
            "   0.14407513]]\n",
            "\n",
            "X has dimensions: (1000, 1000)\n",
            "X is an object of type: <class 'numpy.ndarray'>\n",
            "The elements in X are of type: float64\n",
            "The elements in X have a mean of: 9.34962913098595e-05\n",
            "The maximum value in X is: 0.5260752785790662\n",
            "The minimum value in X is: -0.46890036140711155\n",
            "X has 499539 negative numbers\n",
            "X has 500461 positive numbers\n"
          ],
          "name": "stdout"
        }
      ]
    },
    {
      "metadata": {
        "id": "CbZrnrDJeZyD",
        "colab_type": "code",
        "colab": {
          "base_uri": "https://localhost:8080/",
          "height": 191
        },
        "outputId": "1aaf8e84-9754-4aed-8a0c-c80667b530eb"
      },
      "cell_type": "code",
      "source": [
        "# We create a rank 1 ndarray that contains integers from 1 to 5\n",
        "x = np.array([1, 2, 3, 4, 5])\n",
        "\n",
        "# We print x\n",
        "print()\n",
        "print('x = ', x)\n",
        "print()\n",
        "\n",
        "# Let's access some elements with positive indices\n",
        "print('This is First Element in x:', x[0]) \n",
        "print('This is Second Element in x:', x[1])\n",
        "print('This is Fifth (Last) Element in x:', x[4])\n",
        "print()\n",
        "\n",
        "# Let's access the same elements with negative indices\n",
        "print('This is First Element in x:', x[-5])\n",
        "print('This is Second Element in x:', x[-4])\n",
        "print('This is Fifth (Last) Element in x:', x[-1])"
      ],
      "execution_count": 32,
      "outputs": [
        {
          "output_type": "stream",
          "text": [
            "\n",
            "x =  [1 2 3 4 5]\n",
            "\n",
            "This is First Element in x: 1\n",
            "This is Second Element in x: 2\n",
            "This is Fifth (Last) Element in x: 5\n",
            "\n",
            "This is First Element in x: 1\n",
            "This is Second Element in x: 2\n",
            "This is Fifth (Last) Element in x: 5\n"
          ],
          "name": "stdout"
        }
      ]
    },
    {
      "metadata": {
        "id": "yKaPyY5gg2Eq",
        "colab_type": "code",
        "colab": {
          "base_uri": "https://localhost:8080/",
          "height": 121
        },
        "outputId": "988bdbcc-4c6d-4e31-e41c-e6f62f81a831"
      },
      "cell_type": "code",
      "source": [
        "# We create a rank 1 ndarray that contains integers from 1 to 5\n",
        "x = np.array([1, 2, 3, 4, 5])\n",
        "\n",
        "# We print the original x\n",
        "print()\n",
        "print('Original:\\n x = ', x)\n",
        "print()\n",
        "\n",
        "# We change the fourth element in x from 4 to 20\n",
        "x[3] = 20\n",
        "\n",
        "# We print x after it was modified \n",
        "print('Modified:\\n x = ', x)"
      ],
      "execution_count": 33,
      "outputs": [
        {
          "output_type": "stream",
          "text": [
            "\n",
            "Original:\n",
            " x =  [1 2 3 4 5]\n",
            "\n",
            "Modified:\n",
            " x =  [ 1  2  3 20  5]\n"
          ],
          "name": "stdout"
        }
      ]
    },
    {
      "metadata": {
        "id": "YWGn_uZ2hF0j",
        "colab_type": "code",
        "colab": {
          "base_uri": "https://localhost:8080/",
          "height": 173
        },
        "outputId": "7b2dee5a-cf2a-4a77-f268-0faa01966ea2"
      },
      "cell_type": "code",
      "source": [
        "# We create a 3 x 3 rank 2 ndarray that contains integers from 1 to 9\n",
        "X = np.array([[1,2,3],[4,5,6],[7,8,9]])\n",
        "\n",
        "# We print X\n",
        "print()\n",
        "print('X = \\n', X)\n",
        "print()\n",
        "\n",
        "# Let's access some elements in X\n",
        "print('This is (0,0) Element in X:', X[0,0])\n",
        "print('This is (0,1) Element in X:', X[0,1])\n",
        "print('This is (2,2) Element in X:', X[2,2])"
      ],
      "execution_count": 34,
      "outputs": [
        {
          "output_type": "stream",
          "text": [
            "\n",
            "X = \n",
            " [[1 2 3]\n",
            " [4 5 6]\n",
            " [7 8 9]]\n",
            "\n",
            "This is (0,0) Element in X: 1\n",
            "This is (0,1) Element in X: 2\n",
            "This is (2,2) Element in X: 9\n"
          ],
          "name": "stdout"
        }
      ]
    },
    {
      "metadata": {
        "id": "3V6GEm2AhRwg",
        "colab_type": "code",
        "colab": {
          "base_uri": "https://localhost:8080/",
          "height": 225
        },
        "outputId": "c52136c6-4e1e-463b-a9ed-86260c73b4da"
      },
      "cell_type": "code",
      "source": [
        "# We create a 3 x 3 rank 2 ndarray that contains integers from 1 to 9\n",
        "X = np.array([[1,2,3],[4,5,6],[7,8,9]])\n",
        "\n",
        "# We print the original x\n",
        "print()\n",
        "print('Original:\\n X = \\n', X)\n",
        "print()\n",
        "\n",
        "# We change the (0,0) element in X from 1 to 20\n",
        "X[0,0] = 20\n",
        "\n",
        "# We print X after it was modified \n",
        "print('Modified:\\n X = \\n', X)\n"
      ],
      "execution_count": 35,
      "outputs": [
        {
          "output_type": "stream",
          "text": [
            "\n",
            "Original:\n",
            " X = \n",
            " [[1 2 3]\n",
            " [4 5 6]\n",
            " [7 8 9]]\n",
            "\n",
            "Modified:\n",
            " X = \n",
            " [[20  2  3]\n",
            " [ 4  5  6]\n",
            " [ 7  8  9]]\n"
          ],
          "name": "stdout"
        }
      ]
    },
    {
      "metadata": {
        "id": "r9j5LNEehkmy",
        "colab_type": "code",
        "colab": {
          "base_uri": "https://localhost:8080/",
          "height": 329
        },
        "outputId": "8d0f2e0a-fbda-436b-dee2-148245df8b55"
      },
      "cell_type": "code",
      "source": [
        "# We create a rank 1 ndarray \n",
        "x = np.array([1, 2, 3, 4, 5])\n",
        "\n",
        "# We create a rank 2 ndarray\n",
        "Y = np.array([[1,2,3],[4,5,6],[7,8,9]])\n",
        "\n",
        "# We print x\n",
        "print()\n",
        "print('Original x = ', x)\n",
        "\n",
        "# We delete the first and last element of x\n",
        "x = np.delete(x, [0,4])\n",
        "\n",
        "# We print x with the first and last element deleted\n",
        "print()\n",
        "print('Modified x = ', x)\n",
        "\n",
        "# We print Y\n",
        "print()\n",
        "print('Original Y = \\n', Y)\n",
        "\n",
        "# We delete the first row of y\n",
        "w = np.delete(Y, 0, axis=0)\n",
        "\n",
        "# We delete the first and last column of y\n",
        "v = np.delete(Y, [0,2], axis=1)\n",
        "\n",
        "# We print w\n",
        "print()\n",
        "print('w = \\n', w)\n",
        "\n",
        "# We print v\n",
        "print()\n",
        "print('v = \\n', v)"
      ],
      "execution_count": 36,
      "outputs": [
        {
          "output_type": "stream",
          "text": [
            "\n",
            "Original x =  [1 2 3 4 5]\n",
            "\n",
            "Modified x =  [2 3 4]\n",
            "\n",
            "Original Y = \n",
            " [[1 2 3]\n",
            " [4 5 6]\n",
            " [7 8 9]]\n",
            "\n",
            "w = \n",
            " [[4 5 6]\n",
            " [7 8 9]]\n",
            "\n",
            "v = \n",
            " [[2]\n",
            " [5]\n",
            " [8]]\n"
          ],
          "name": "stdout"
        }
      ]
    },
    {
      "metadata": {
        "id": "4_uicqIfhyVg",
        "colab_type": "code",
        "colab": {
          "base_uri": "https://localhost:8080/",
          "height": 347
        },
        "outputId": "396caf13-4862-4724-ca2f-fb1a4d1a77e4"
      },
      "cell_type": "code",
      "source": [
        "# We create a rank 1 ndarray \n",
        "x = np.array([1, 2, 3, 4, 5])\n",
        "\n",
        "# We create a rank 2 ndarray \n",
        "Y = np.array([[1,2,3],[4,5,6]])\n",
        "\n",
        "# We print x\n",
        "print()\n",
        "print('Original x = ', x)\n",
        "\n",
        "# We append the integer 6 to x\n",
        "x = np.append(x, 6)\n",
        "\n",
        "# We print x\n",
        "print()\n",
        "print('x = ', x)\n",
        "\n",
        "# We append the integer 7 and 8 to x\n",
        "x = np.append(x, [7,8])\n",
        "\n",
        "# We print x\n",
        "print()\n",
        "print('x = ', x)\n",
        "\n",
        "# We print Y\n",
        "print()\n",
        "print('Original Y = \\n', Y)\n",
        "\n",
        "# We append a new row containing 7,8,9 to y\n",
        "v = np.append(Y, [[7,8,9]], axis=0)\n",
        "\n",
        "# We append a new column containing 9 and 10 to y\n",
        "q = np.append(Y,[[9],[10]], axis=1)\n",
        "\n",
        "# We print v\n",
        "print()\n",
        "print('v = \\n', v)\n",
        "\n",
        "# We print q\n",
        "print()\n",
        "print('q = \\n', q)"
      ],
      "execution_count": 37,
      "outputs": [
        {
          "output_type": "stream",
          "text": [
            "\n",
            "Original x =  [1 2 3 4 5]\n",
            "\n",
            "x =  [1 2 3 4 5 6]\n",
            "\n",
            "x =  [1 2 3 4 5 6 7 8]\n",
            "\n",
            "Original Y = \n",
            " [[1 2 3]\n",
            " [4 5 6]]\n",
            "\n",
            "v = \n",
            " [[1 2 3]\n",
            " [4 5 6]\n",
            " [7 8 9]]\n",
            "\n",
            "q = \n",
            " [[ 1  2  3  9]\n",
            " [ 4  5  6 10]]\n"
          ],
          "name": "stdout"
        }
      ]
    },
    {
      "metadata": {
        "id": "7pv2Tbsmie0o",
        "colab_type": "code",
        "colab": {
          "base_uri": "https://localhost:8080/",
          "height": 312
        },
        "outputId": "a565f571-d545-471f-eb59-5312764de360"
      },
      "cell_type": "code",
      "source": [
        "# We create a rank 1 ndarray \n",
        "x = np.array([1, 2, 5, 6, 7])\n",
        "\n",
        "# We create a rank 2 ndarray \n",
        "Y = np.array([[1,2,3],[7,8,9]])\n",
        "\n",
        "# We print x\n",
        "print()\n",
        "print('Original x = ', x)\n",
        "\n",
        "# We insert the integer 3 and 4 between 2 and 5 in x. \n",
        "x = np.insert(x,2,[3,4])\n",
        "\n",
        "# We print x with the inserted elements\n",
        "print()\n",
        "print('x = ', x)\n",
        "\n",
        "# We print Y\n",
        "print()\n",
        "print('Original Y = \\n', Y)\n",
        "\n",
        "# We insert a row between the first and last row of y\n",
        "w = np.insert(Y,1,[4,5,6],axis=0)\n",
        "\n",
        "# We insert a column full of 5s between the first and second column of y\n",
        "v = np.insert(Y,1,5, axis=1)\n",
        "\n",
        "# We print w\n",
        "print()\n",
        "print('w = \\n', w)\n",
        "\n",
        "# We print v\n",
        "print()\n",
        "print('v = \\n', v)"
      ],
      "execution_count": 38,
      "outputs": [
        {
          "output_type": "stream",
          "text": [
            "\n",
            "Original x =  [1 2 5 6 7]\n",
            "\n",
            "x =  [1 2 3 4 5 6 7]\n",
            "\n",
            "Original Y = \n",
            " [[1 2 3]\n",
            " [7 8 9]]\n",
            "\n",
            "w = \n",
            " [[1 2 3]\n",
            " [4 5 6]\n",
            " [7 8 9]]\n",
            "\n",
            "v = \n",
            " [[1 5 2 3]\n",
            " [7 5 8 9]]\n"
          ],
          "name": "stdout"
        }
      ]
    },
    {
      "metadata": {
        "id": "t7skz3zyjOtr",
        "colab_type": "code",
        "colab": {
          "base_uri": "https://localhost:8080/",
          "height": 277
        },
        "outputId": "dedc06b1-e540-4899-b5a4-29b201752239"
      },
      "cell_type": "code",
      "source": [
        "# We create a rank 1 ndarray \n",
        "x = np.array([1,2])\n",
        "\n",
        "# We create a rank 2 ndarray \n",
        "Y = np.array([[3,4],[5,6]])\n",
        "\n",
        "# We print x\n",
        "print()\n",
        "print('x = ', x)\n",
        "\n",
        "# We print Y\n",
        "print()\n",
        "print('Y = \\n', Y)\n",
        "\n",
        "# We stack x on top of Y\n",
        "z = np.vstack((x,Y))\n",
        "\n",
        "# We stack x on the right of Y. We need to reshape x in order to stack it on the right of Y. \n",
        "w = np.hstack((Y,x.reshape(2,1)))\n",
        "\n",
        "# We print z\n",
        "print()\n",
        "print('z = \\n', z)\n",
        "\n",
        "# We print w\n",
        "print()\n",
        "print('w = \\n', w)"
      ],
      "execution_count": 39,
      "outputs": [
        {
          "output_type": "stream",
          "text": [
            "\n",
            "x =  [1 2]\n",
            "\n",
            "Y = \n",
            " [[3 4]\n",
            " [5 6]]\n",
            "\n",
            "z = \n",
            " [[1 2]\n",
            " [3 4]\n",
            " [5 6]]\n",
            "\n",
            "w = \n",
            " [[3 4 1]\n",
            " [5 6 2]]\n"
          ],
          "name": "stdout"
        }
      ]
    },
    {
      "metadata": {
        "id": "PB5J92n1kUEu",
        "colab_type": "code",
        "colab": {
          "base_uri": "https://localhost:8080/",
          "height": 555
        },
        "outputId": "0d9bbd9d-8cbe-476a-83a9-bb5ddfe98318"
      },
      "cell_type": "code",
      "source": [
        "X = np.arange(20).reshape(4, 5)\n",
        "\n",
        "# We print X\n",
        "print()\n",
        "print('X = \\n', X)\n",
        "print()\n",
        "\n",
        "# We select all the elements that are in the 2nd through 4th rows and in the 3rd to 5th columns\n",
        "Z = X[1:4,2:5]\n",
        "\n",
        "# We print Z\n",
        "print('Z = \\n', Z)\n",
        "\n",
        "# We can select the same elements as above using method 2\n",
        "W = X[1:,2:5]\n",
        "\n",
        "# We print W\n",
        "print()\n",
        "print('W = \\n', W)\n",
        "\n",
        "# We select all the elements that are in the 1st through 3rd rows and in the 3rd to 4th columns\n",
        "Y = X[:3,2:5]\n",
        "\n",
        "# We print Y\n",
        "print()\n",
        "print('Y = \\n', Y)\n",
        "\n",
        "# We select all the elements in the 3rd row\n",
        "v = X[2,:]\n",
        "\n",
        "# We print v\n",
        "print()\n",
        "print('v = ', v)\n",
        "\n",
        "# We select all the elements in the 3rd column\n",
        "q = X[:,2]\n",
        "\n",
        "# We print q\n",
        "print()\n",
        "print('q = ', q)\n",
        "\n",
        "# We select all the elements in the 3rd column but return a rank 2 ndarray\n",
        "R = X[:,2:3]\n",
        "\n",
        "# We print R\n",
        "print()\n",
        "print('R = \\n', R)"
      ],
      "execution_count": 41,
      "outputs": [
        {
          "output_type": "stream",
          "text": [
            "\n",
            "X = \n",
            " [[ 0  1  2  3  4]\n",
            " [ 5  6  7  8  9]\n",
            " [10 11 12 13 14]\n",
            " [15 16 17 18 19]]\n",
            "\n",
            "Z = \n",
            " [[ 7  8  9]\n",
            " [12 13 14]\n",
            " [17 18 19]]\n",
            "\n",
            "W = \n",
            " [[ 7  8  9]\n",
            " [12 13 14]\n",
            " [17 18 19]]\n",
            "\n",
            "Y = \n",
            " [[ 2  3  4]\n",
            " [ 7  8  9]\n",
            " [12 13 14]]\n",
            "\n",
            "v =  [10 11 12 13 14]\n",
            "\n",
            "q =  [ 2  7 12 17]\n",
            "\n",
            "R = \n",
            " [[ 2]\n",
            " [ 7]\n",
            " [12]\n",
            " [17]]\n"
          ],
          "name": "stdout"
        }
      ]
    },
    {
      "metadata": {
        "id": "NpPuUByZnJ1h",
        "colab_type": "code",
        "colab": {
          "base_uri": "https://localhost:8080/",
          "height": 69
        },
        "outputId": "07a1624b-b010-4c9d-b6cc-7f7cef57e363"
      },
      "cell_type": "code",
      "source": [
        "Z = X[1:4,2:5]\n",
        "Z"
      ],
      "execution_count": 44,
      "outputs": [
        {
          "output_type": "execute_result",
          "data": {
            "text/plain": [
              "array([[ 7,  8,  9],\n",
              "       [12, 13, 14],\n",
              "       [17, 18, 19]])"
            ]
          },
          "metadata": {
            "tags": []
          },
          "execution_count": 44
        }
      ]
    },
    {
      "metadata": {
        "id": "NelR2zzEra0O",
        "colab_type": "code",
        "colab": {
          "base_uri": "https://localhost:8080/",
          "height": 364
        },
        "outputId": "ed450fd4-f430-4c9f-f7f1-3f31bf6e376e"
      },
      "cell_type": "code",
      "source": [
        "# We create a 4 x 5 ndarray that contains integers from 0 to 19\n",
        "X = np.arange(20).reshape(4, 5)\n",
        "\n",
        "# We print X\n",
        "print()\n",
        "print('X = \\n', X)\n",
        "print()\n",
        "\n",
        "# We select all the elements that are in the 2nd through 4th rows and in the 3rd to 4th columns\n",
        "Z = X[1:4,2:5]\n",
        "\n",
        "# We print Z\n",
        "print()\n",
        "print('Z = \\n', Z)\n",
        "print()\n",
        "\n",
        "# We change the last element in Z to 555\n",
        "Z[2,2] = 555\n",
        "\n",
        "# We print X\n",
        "print()\n",
        "print('X = \\n', X)\n",
        "print()"
      ],
      "execution_count": 47,
      "outputs": [
        {
          "output_type": "stream",
          "text": [
            "\n",
            "X = \n",
            " [[ 0  1  2  3  4]\n",
            " [ 5  6  7  8  9]\n",
            " [10 11 12 13 14]\n",
            " [15 16 17 18 19]]\n",
            "\n",
            "\n",
            "Z = \n",
            " [[ 7  8  9]\n",
            " [12 13 14]\n",
            " [17 18 19]]\n",
            "\n",
            "\n",
            "X = \n",
            " [[  0   1   2   3   4]\n",
            " [  5   6   7   8   9]\n",
            " [ 10  11  12  13  14]\n",
            " [ 15  16  17  18 555]]\n",
            "\n"
          ],
          "name": "stdout"
        }
      ]
    },
    {
      "metadata": {
        "id": "vcKji7PdsAuf",
        "colab_type": "code",
        "colab": {
          "base_uri": "https://localhost:8080/",
          "height": 416
        },
        "outputId": "8617375c-3fce-42d7-e4e0-c3b44cec15c9"
      },
      "cell_type": "code",
      "source": [
        "# We create a 4 x 5 ndarray that contains integers from 0 to 19\n",
        "X = np.arange(20).reshape(4, 5)\n",
        "\n",
        "# We print X\n",
        "print()\n",
        "print('X = \\n', X)\n",
        "print()\n",
        "\n",
        "# create a copy of the slice using the np.copy() function\n",
        "Z = np.copy(X[1:4,2:5])\n",
        "\n",
        "#  create a copy of the slice using the copy as a method\n",
        "W = X[1:4,2:5].copy()\n",
        "\n",
        "# We change the last element in Z to 555\n",
        "Z[2,2] = 555\n",
        "\n",
        "# We change the last element in W to 444\n",
        "W[2,2] = 444\n",
        "\n",
        "# We print X\n",
        "print()\n",
        "print('X = \\n', X)\n",
        "\n",
        "# We print Z\n",
        "print()\n",
        "print('Z = \\n', Z)\n",
        "\n",
        "# We print W\n",
        "print()\n",
        "print('W = \\n', W)"
      ],
      "execution_count": 49,
      "outputs": [
        {
          "output_type": "stream",
          "text": [
            "\n",
            "X = \n",
            " [[ 0  1  2  3  4]\n",
            " [ 5  6  7  8  9]\n",
            " [10 11 12 13 14]\n",
            " [15 16 17 18 19]]\n",
            "\n",
            "\n",
            "X = \n",
            " [[ 0  1  2  3  4]\n",
            " [ 5  6  7  8  9]\n",
            " [10 11 12 13 14]\n",
            " [15 16 17 18 19]]\n",
            "\n",
            "Z = \n",
            " [[  7   8   9]\n",
            " [ 12  13  14]\n",
            " [ 17  18 555]]\n",
            "\n",
            "W = \n",
            " [[  7   8   9]\n",
            " [ 12  13  14]\n",
            " [ 17  18 444]]\n"
          ],
          "name": "stdout"
        }
      ]
    },
    {
      "metadata": {
        "id": "AwuJkAeMvoGt",
        "colab_type": "code",
        "colab": {
          "base_uri": "https://localhost:8080/",
          "height": 347
        },
        "outputId": "b8c473bb-27ae-4adc-9a7e-6433c35b32a8"
      },
      "cell_type": "code",
      "source": [
        "# We create a 4 x 5 ndarray that contains integers from 0 to 19\n",
        "X = np.arange(20).reshape(4, 5)\n",
        "\n",
        "# We create a rank 1 ndarray that will serve as indices to select elements from X\n",
        "indices = np.array([1,3])\n",
        "\n",
        "# We print X\n",
        "print()\n",
        "print('X = \\n', X)\n",
        "print()\n",
        "\n",
        "# We print indices\n",
        "print('indices = ', indices)\n",
        "print()\n",
        "\n",
        "# We use the indices ndarray to select the 2nd and 4th row of X\n",
        "Y = X[indices,:]\n",
        "\n",
        "# We use the indices ndarray to select the 2nd and 4th column of X\n",
        "Z = X[:, indices]\n",
        "\n",
        "# We print Y\n",
        "print()\n",
        "print('Y = \\n', Y)\n",
        "\n",
        "# We print Z\n",
        "print()\n",
        "print('Z = \\n', Z)"
      ],
      "execution_count": 50,
      "outputs": [
        {
          "output_type": "stream",
          "text": [
            "\n",
            "X = \n",
            " [[ 0  1  2  3  4]\n",
            " [ 5  6  7  8  9]\n",
            " [10 11 12 13 14]\n",
            " [15 16 17 18 19]]\n",
            "\n",
            "indices =  [1 3]\n",
            "\n",
            "\n",
            "Y = \n",
            " [[ 5  6  7  8  9]\n",
            " [15 16 17 18 19]]\n",
            "\n",
            "Z = \n",
            " [[ 1  3]\n",
            " [ 6  8]\n",
            " [11 13]\n",
            " [16 18]]\n"
          ],
          "name": "stdout"
        }
      ]
    },
    {
      "metadata": {
        "id": "QsYWt1-ixyk3",
        "colab_type": "code",
        "colab": {
          "base_uri": "https://localhost:8080/",
          "height": 243
        },
        "outputId": "f1cbf4f7-6de4-4ded-a2bb-29c1a543d2d1"
      },
      "cell_type": "code",
      "source": [
        "# We create a 4 x 5 ndarray that contains integers from 0 to 24\n",
        "X = np.arange(25).reshape(5, 5)\n",
        "\n",
        "# We print X\n",
        "print()\n",
        "print('X = \\n', X)\n",
        "print()\n",
        "\n",
        "# We print the elements in the main diagonal of X\n",
        "print('z =', np.diag(X))\n",
        "print()\n",
        "\n",
        "# We print the elements above the main diagonal of X\n",
        "print('y =', np.diag(X, k=1))\n",
        "print()\n",
        "\n",
        "# We print the elements below the main diagonal of X\n",
        "print('w = ', np.diag(X, k=-1))"
      ],
      "execution_count": 51,
      "outputs": [
        {
          "output_type": "stream",
          "text": [
            "\n",
            "X = \n",
            " [[ 0  1  2  3  4]\n",
            " [ 5  6  7  8  9]\n",
            " [10 11 12 13 14]\n",
            " [15 16 17 18 19]\n",
            " [20 21 22 23 24]]\n",
            "\n",
            "z = [ 0  6 12 18 24]\n",
            "\n",
            "y = [ 1  7 13 19]\n",
            "\n",
            "w =  [ 5 11 17 23]\n"
          ],
          "name": "stdout"
        }
      ]
    },
    {
      "metadata": {
        "id": "n3IoUfTEzbcJ",
        "colab_type": "code",
        "colab": {
          "base_uri": "https://localhost:8080/",
          "height": 139
        },
        "outputId": "8f54c3f5-1407-48a1-803a-1d3e90cc7479"
      },
      "cell_type": "code",
      "source": [
        "# Create 3 x 3 ndarray with repeated values\n",
        "X = np.array([[1,2,3],[5,2,8],[1,2,3]])\n",
        "\n",
        "# We print X\n",
        "print()\n",
        "print('X = \\n', X)\n",
        "print()\n",
        "\n",
        "# We print the unique elements of X \n",
        "print('The unique elements in X are:',np.unique(X))"
      ],
      "execution_count": 52,
      "outputs": [
        {
          "output_type": "stream",
          "text": [
            "\n",
            "X = \n",
            " [[1 2 3]\n",
            " [5 2 8]\n",
            " [1 2 3]]\n",
            "\n",
            "The unique elements in X are: [1 2 3 5 8]\n"
          ],
          "name": "stdout"
        }
      ]
    },
    {
      "metadata": {
        "id": "RQxFjpdo0F2z",
        "colab_type": "code",
        "colab": {
          "base_uri": "https://localhost:8080/",
          "height": 347
        },
        "outputId": "5086cadb-d418-433f-82bc-35888d13f950"
      },
      "cell_type": "code",
      "source": [
        "# We create a 5 x 5 ndarray that contains integers from 0 to 24\n",
        "X = np.arange(25).reshape(5, 5)\n",
        "\n",
        "# We print X\n",
        "print()\n",
        "print('Original X = \\n', X)\n",
        "print()\n",
        "\n",
        "# We use Boolean indexing to select elements in X:\n",
        "print('The elements in X that are greater than 10:', X[X > 10])\n",
        "print('The elements in X that less than or equal to 7:', X[X <= 7])\n",
        "print('The elements in X that are between 10 and 17:', X[(X > 10) & (X < 17)])\n",
        "\n",
        "# We use Boolean indexing to assign the elements that are between 10 and 17 the value of -1\n",
        "X[(X > 10) & (X < 17)] = -1\n",
        "\n",
        "# We print X\n",
        "print()\n",
        "print('X = \\n', X)\n",
        "print()"
      ],
      "execution_count": 53,
      "outputs": [
        {
          "output_type": "stream",
          "text": [
            "\n",
            "Original X = \n",
            " [[ 0  1  2  3  4]\n",
            " [ 5  6  7  8  9]\n",
            " [10 11 12 13 14]\n",
            " [15 16 17 18 19]\n",
            " [20 21 22 23 24]]\n",
            "\n",
            "The elements in X that are greater than 10: [11 12 13 14 15 16 17 18 19 20 21 22 23 24]\n",
            "The elements in X that less than or equal to 7: [0 1 2 3 4 5 6 7]\n",
            "The elements in X that are between 10 and 17: [11 12 13 14 15 16]\n",
            "\n",
            "X = \n",
            " [[ 0  1  2  3  4]\n",
            " [ 5  6  7  8  9]\n",
            " [10 -1 -1 -1 -1]\n",
            " [-1 -1 17 18 19]\n",
            " [20 21 22 23 24]]\n",
            "\n"
          ],
          "name": "stdout"
        }
      ]
    },
    {
      "metadata": {
        "id": "wiz9IxZH5nJ4",
        "colab_type": "code",
        "colab": {}
      },
      "cell_type": "code",
      "source": [
        ""
      ],
      "execution_count": 0,
      "outputs": []
    }
  ]
}